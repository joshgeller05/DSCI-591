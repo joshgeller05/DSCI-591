{
 "cells": [
  {
   "cell_type": "code",
   "execution_count": 41,
   "metadata": {},
   "outputs": [],
   "source": [
    "from typing import Dict,Text\n",
    "import pandas as pd\n",
    "import tensorflow as tf\n",
    "import tensorflow_recommenders as tfrs\n",
    "import numpy as np\n",
    "import duckdb\n",
    "con = duckdb.connect('database.db')\n",
    "\n",
    "#PREPARE DATA\n",
    "\n",
    "podcast_ratings_query = con.sql(\"select author_id as user_id, podcasts.title as podcast_title,rating from reviews \"+ \n",
    "        \"join categories using (podcast_id) \" +\n",
    "        \"join podcasts using (podcast_id) where average_rating >= 0\").to_df()\n",
    "\n",
    "podcast_titles_query = con.sql(\"select podcasts.title as podcast_title from reviews \"+ \n",
    "        \"join categories using (podcast_id) \" +\n",
    "        \"join podcasts using (podcast_id) where average_rating >= 0\").to_df()\n",
    "\n",
    "podcast_ratings = podcast_ratings_query.to_dict(orient='records')\n",
    "podcast_titles = podcast_titles_query.to_dict(orient='records')\n",
    "podcast_ratings_tf = tf.data.Dataset.from_tensor_slices(pd.DataFrame.from_dict(podcast_ratings).to_dict(orient=\"list\"))\n",
    "podcast_titles_tf = tf.data.Dataset.from_tensor_slices(pd.DataFrame.from_dict(podcast_titles).to_dict(orient=\"list\"))\n",
    "\n",
    "ratings_tf = podcast_ratings_tf.map(lambda x: {\n",
    "    \"podcast_title\": x[\"podcast_title\"],\n",
    "    \"user_id\": x[\"user_id\"],\n",
    "    \"user_rating\": x[\"rating\"]\n",
    "})\n",
    "titles_tf = podcast_titles_tf.map(lambda x: x[\"podcast_title\"])\n",
    "\n",
    "tf.random.set_seed(42)\n",
    "shuffled = ratings_tf.shuffle(100_000, seed=42, reshuffle_each_iteration=False)\n",
    "\n",
    "train_len = int(len(shuffled) * (2/3))\n",
    "test_len = int(len(shuffled) - train_len)\n",
    "\n",
    "train = shuffled.take(train_len)\n",
    "test = shuffled.skip(train_len).take(test_len)\n",
    "\n",
    "podcast_titles = titles_tf.batch(1_000)\n",
    "user_ids = ratings_tf.batch(1_000_000).map(lambda x: x[\"user_id\"])\n",
    "\n",
    "unique_podcast_titles = np.unique(np.concatenate(list(podcast_titles)))\n",
    "unique_user_ids = np.unique(np.concatenate(list(user_ids)))"
   ]
  },
  {
   "cell_type": "code",
   "execution_count": 42,
   "metadata": {},
   "outputs": [
    {
     "name": "stdout",
     "output_type": "stream",
     "text": [
      "Epoch 1/10\n",
      "2/2 [==============================] - 2s 63ms/step - factorized_top_k/top_1_categorical_accuracy: 0.0000e+00 - factorized_top_k/top_5_categorical_accuracy: 0.0000e+00 - factorized_top_k/top_10_categorical_accuracy: 0.0000e+00 - factorized_top_k/top_50_categorical_accuracy: 0.0000e+00 - factorized_top_k/top_100_categorical_accuracy: 0.0156 - loss: 1064.5981 - regularization_loss: 0.0000e+00 - total_loss: 1064.5981\n",
      "Epoch 2/10\n",
      "2/2 [==============================] - 0s 60ms/step - factorized_top_k/top_1_categorical_accuracy: 0.0000e+00 - factorized_top_k/top_5_categorical_accuracy: 0.0039 - factorized_top_k/top_10_categorical_accuracy: 0.0292 - factorized_top_k/top_50_categorical_accuracy: 0.1326 - factorized_top_k/top_100_categorical_accuracy: 0.1813 - loss: 1027.0026 - regularization_loss: 0.0000e+00 - total_loss: 1027.0026\n",
      "Epoch 3/10\n",
      "2/2 [==============================] - 0s 56ms/step - factorized_top_k/top_1_categorical_accuracy: 0.0000e+00 - factorized_top_k/top_5_categorical_accuracy: 0.0234 - factorized_top_k/top_10_categorical_accuracy: 0.0780 - factorized_top_k/top_50_categorical_accuracy: 0.2710 - factorized_top_k/top_100_categorical_accuracy: 0.4854 - loss: 939.5091 - regularization_loss: 0.0000e+00 - total_loss: 939.5091\n",
      "Epoch 4/10\n",
      "2/2 [==============================] - 0s 54ms/step - factorized_top_k/top_1_categorical_accuracy: 0.0000e+00 - factorized_top_k/top_5_categorical_accuracy: 0.0234 - factorized_top_k/top_10_categorical_accuracy: 0.0780 - factorized_top_k/top_50_categorical_accuracy: 0.2710 - factorized_top_k/top_100_categorical_accuracy: 0.4854 - loss: 856.5264 - regularization_loss: 0.0000e+00 - total_loss: 856.5264\n",
      "Epoch 5/10\n",
      "2/2 [==============================] - 0s 63ms/step - factorized_top_k/top_1_categorical_accuracy: 0.0000e+00 - factorized_top_k/top_5_categorical_accuracy: 0.0234 - factorized_top_k/top_10_categorical_accuracy: 0.0780 - factorized_top_k/top_50_categorical_accuracy: 0.2710 - factorized_top_k/top_100_categorical_accuracy: 0.4854 - loss: 788.1385 - regularization_loss: 0.0000e+00 - total_loss: 788.1385\n",
      "Epoch 6/10\n",
      "2/2 [==============================] - 0s 69ms/step - factorized_top_k/top_1_categorical_accuracy: 0.0000e+00 - factorized_top_k/top_5_categorical_accuracy: 0.0234 - factorized_top_k/top_10_categorical_accuracy: 0.0780 - factorized_top_k/top_50_categorical_accuracy: 0.2710 - factorized_top_k/top_100_categorical_accuracy: 0.4854 - loss: 731.8249 - regularization_loss: 0.0000e+00 - total_loss: 731.8249\n",
      "Epoch 7/10\n",
      "2/2 [==============================] - 0s 66ms/step - factorized_top_k/top_1_categorical_accuracy: 0.0000e+00 - factorized_top_k/top_5_categorical_accuracy: 0.0234 - factorized_top_k/top_10_categorical_accuracy: 0.0780 - factorized_top_k/top_50_categorical_accuracy: 0.2710 - factorized_top_k/top_100_categorical_accuracy: 0.4854 - loss: 692.7942 - regularization_loss: 0.0000e+00 - total_loss: 692.7942\n",
      "Epoch 8/10\n",
      "2/2 [==============================] - 0s 61ms/step - factorized_top_k/top_1_categorical_accuracy: 0.0000e+00 - factorized_top_k/top_5_categorical_accuracy: 0.0234 - factorized_top_k/top_10_categorical_accuracy: 0.0780 - factorized_top_k/top_50_categorical_accuracy: 0.2710 - factorized_top_k/top_100_categorical_accuracy: 0.4854 - loss: 673.7941 - regularization_loss: 0.0000e+00 - total_loss: 673.7941\n",
      "Epoch 9/10\n",
      "2/2 [==============================] - 0s 63ms/step - factorized_top_k/top_1_categorical_accuracy: 0.0000e+00 - factorized_top_k/top_5_categorical_accuracy: 0.0234 - factorized_top_k/top_10_categorical_accuracy: 0.0780 - factorized_top_k/top_50_categorical_accuracy: 0.2710 - factorized_top_k/top_100_categorical_accuracy: 0.4854 - loss: 667.1217 - regularization_loss: 0.0000e+00 - total_loss: 667.1217\n",
      "Epoch 10/10\n",
      "2/2 [==============================] - 0s 62ms/step - factorized_top_k/top_1_categorical_accuracy: 0.0000e+00 - factorized_top_k/top_5_categorical_accuracy: 0.0234 - factorized_top_k/top_10_categorical_accuracy: 0.0780 - factorized_top_k/top_50_categorical_accuracy: 0.2710 - factorized_top_k/top_100_categorical_accuracy: 0.4854 - loss: 665.1203 - regularization_loss: 0.0000e+00 - total_loss: 665.1203\n"
     ]
    },
    {
     "data": {
      "text/plain": [
       "<tensorflow_recommenders.layers.factorized_top_k.Streaming at 0x2369f83add0>"
      ]
     },
     "execution_count": 42,
     "metadata": {},
     "output_type": "execute_result"
    }
   ],
   "source": [
    "#TRAIN MODEL\n",
    "\n",
    "class PodcastlensModel(tfrs.Model):\n",
    "\n",
    "  def __init__(self):\n",
    "    super().__init__()\n",
    "    embedding_dimension = 32\n",
    "    self.user_model = tf.keras.Sequential([\n",
    "      tf.keras.layers.StringLookup(\n",
    "          vocabulary=unique_user_ids, mask_token=None),\n",
    "      # We add an additional embedding to account for unknown tokens.\n",
    "      tf.keras.layers.Embedding(len(unique_user_ids) + 1, embedding_dimension)\n",
    "    ])\n",
    "\n",
    "    self.podcast_model = tf.keras.Sequential([\n",
    "      tf.keras.layers.StringLookup(\n",
    "          vocabulary=unique_podcast_titles, mask_token=None),\n",
    "      tf.keras.layers.Embedding(len(unique_podcast_titles) + 1, embedding_dimension)\n",
    "    ])\n",
    "    metrics = tfrs.metrics.FactorizedTopK(\n",
    "      candidates=titles_tf.batch(128).map(self.podcast_model)\n",
    "    )\n",
    "\n",
    "    self.task = tfrs.tasks.Retrieval(\n",
    "      metrics=metrics\n",
    "    )\n",
    "\n",
    "  def compute_loss(self, features: Dict[Text, tf.Tensor], training=False) -> tf.Tensor:\n",
    "    # We pick out the user features and pass them into the user model.\n",
    "    user_embeddings = self.user_model(features[\"user_id\"])\n",
    "    # And pick out the podcast features and pass them into the podcast model,\n",
    "    # getting embeddings back.\n",
    "    positive_podcast_embeddings = self.podcast_model(features[\"podcast_title\"])\n",
    "\n",
    "    # The task computes the loss and the metrics.\n",
    "    return self.task(user_embeddings, positive_podcast_embeddings)\n",
    "\n",
    "model = PodcastlensModel()\n",
    "model.compile(optimizer=tf.keras.optimizers.Adamax(learning_rate=0.1))\n",
    "cached_train = train.shuffle(100_000).batch(512).cache()\n",
    "cached_test = test.batch(100).cache()\n",
    "model.fit(cached_train, epochs=25)\n",
    "\n",
    "# Create a model that takes in raw query features, and\n",
    "index = tfrs.layers.factorized_top_k.Streaming(model.user_model,k=25)\n",
    "# recommends podcasts out of the entire podcasts dataset.\n",
    "index.index_from_dataset(\n",
    "  tf.data.Dataset.zip((titles_tf.batch(100), titles_tf.batch(100).map(model.podcast_model)))\n",
    ")"
   ]
  },
  {
   "cell_type": "code",
   "execution_count": 43,
   "metadata": {},
   "outputs": [
    {
     "name": "stdout",
     "output_type": "stream",
     "text": [
      "3/3 [==============================] - 1s 66ms/step - factorized_top_k/top_1_categorical_accuracy: 0.5253 - factorized_top_k/top_5_categorical_accuracy: 0.5525 - factorized_top_k/top_10_categorical_accuracy: 0.5603 - factorized_top_k/top_50_categorical_accuracy: 0.6070 - factorized_top_k/top_100_categorical_accuracy: 0.6732 - loss: 214.4545 - regularization_loss: 0.0000e+00 - total_loss: 214.4545\n"
     ]
    },
    {
     "data": {
      "text/plain": [
       "{'factorized_top_k/top_1_categorical_accuracy': 0.5252918004989624,\n",
       " 'factorized_top_k/top_5_categorical_accuracy': 0.5525291562080383,\n",
       " 'factorized_top_k/top_10_categorical_accuracy': 0.5603112578392029,\n",
       " 'factorized_top_k/top_50_categorical_accuracy': 0.6070038676261902,\n",
       " 'factorized_top_k/top_100_categorical_accuracy': 0.6731517314910889,\n",
       " 'loss': 134.73753356933594,\n",
       " 'regularization_loss': 0,\n",
       " 'total_loss': 134.73753356933594}"
      ]
     },
     "execution_count": 43,
     "metadata": {},
     "output_type": "execute_result"
    }
   ],
   "source": [
    "#PULL METRICS FOR MODEL ON TEST DATA \n",
    "model.evaluate(cached_test, return_dict=True)"
   ]
  },
  {
   "cell_type": "code",
   "execution_count": 44,
   "metadata": {},
   "outputs": [
    {
     "name": "stdout",
     "output_type": "stream",
     "text": [
      "Recommendations for user 672bb4f72f4ee1e: ['Daily Solutions Podcast', 'Emprendedores Digitales |Marketing Digital, Blogging, Redes Sociales, Marketing Online, Negocios, SEO, blogs, Desarrollo Pers']\n",
      "\n",
      "Recommendations for user cb14669ad97547c: ['F*ck Like a Woman', 'Her Money Matters']\n",
      "\n",
      "Recommendations for user 672bb4f72f4ee1e: ['Daily Solutions Podcast', 'Emprendedores Digitales |Marketing Digital, Blogging, Redes Sociales, Marketing Online, Negocios, SEO, blogs, Desarrollo Pers']\n",
      "\n",
      "Recommendations for user 716cc5dcf255859: ['I Crush Barbecue Show', 'Lost In The Shuffle', 'New Patient Group™ (Formally known as the Doctor Diamond Club Podcast)', 'Rebel Chums', 'Things a Teacher Taught Me']\n",
      "\n",
      "Recommendations for user 6104336d38f2a24: ['Daily Solutions Podcast', 'Inglestotal : Cursos y clases gratis de Ingles', 'NFL no ProFootballcast com Antony Curti e Eduardo Miceli', 'Rebel Chums']\n",
      "\n",
      "Recommendations for user aec301f7433816d: ['Hear It Now (retired)', 'Last Week at the Movies Podcast', 'Lost In The Shuffle', 'Rebel Chums', 'The Fertility Warriors Podcast: Helping women survive infertility and trying to conceive']\n",
      "\n",
      "Recommendations for user 7fefa9c43783018: ['Little Realms | A DnD Actual Play Podcast', 'Maximiza Tu Negocio en Redes de Mercadeo', 'Tall Tale TV']\n",
      "\n",
      "Recommendations for user ae613199c95abd1: ['Her Money Matters', 'Lost In The Shuffle']\n",
      "\n",
      "Recommendations for user aec301f7433816d: ['Hear It Now (retired)', 'Last Week at the Movies Podcast', 'Lost In The Shuffle', 'Rebel Chums', 'The Fertility Warriors Podcast: Helping women survive infertility and trying to conceive']\n",
      "\n",
      "Recommendations for user 6e1ff80f9da51d8: ['In Real Life with Emily and Kimzilla | WFMU', 'Rekt Podcast', 'Understanding Human Behavior - Video']\n",
      "\n",
      "Recommendations for user aec301f7433816d: ['Hear It Now (retired)', 'Last Week at the Movies Podcast', 'Lost In The Shuffle', 'Rebel Chums', 'The Fertility Warriors Podcast: Helping women survive infertility and trying to conceive']\n",
      "\n",
      "Recommendations for user 9143fc8a95f5f9f: ['The Daily Boost | Daily Coaching and Motivation', 'The Fertility Warriors Podcast: Helping women survive infertility and trying to conceive', 'Understanding Human Behavior - Video']\n",
      "\n",
      "Recommendations for user e40b9193f15f266: ['Maximiza Tu Negocio en Redes de Mercadeo', 'New Patient Group™ (Formally known as the Doctor Diamond Club Podcast)', 'Rebel Chums']\n",
      "\n",
      "Recommendations for user 6104336d38f2a24: ['Daily Solutions Podcast', 'Inglestotal : Cursos y clases gratis de Ingles', 'NFL no ProFootballcast com Antony Curti e Eduardo Miceli', 'Rebel Chums']\n",
      "\n",
      "Recommendations for user 1bef95c9c0016c1: ['Little Realms | A DnD Actual Play Podcast', 'Things a Teacher Taught Me', 'Twin Talk with the King Twins', 'Understanding Human Behavior - Video']\n",
      "\n",
      "Recommendations for user 2604492b2755f31: ['Daily Solutions Podcast', 'Her Money Matters', 'Inglestotal : Cursos y clases gratis de Ingles', 'Nahh B! Podcast MMA / UFC And Boxing Event Preview & Reviews']\n",
      "\n",
      "Recommendations for user 1bef95c9c0016c1: ['Little Realms | A DnD Actual Play Podcast', 'Things a Teacher Taught Me', 'Twin Talk with the King Twins', 'Understanding Human Behavior - Video']\n",
      "\n",
      "Recommendations for user 6da3f0a453e510d: ['F*ck Like a Woman', 'I Crush Barbecue Show', 'Rebel Chums', 'Tall Tale TV', 'Things a Teacher Taught Me']\n",
      "\n",
      "Recommendations for user c2e0aa2da8d7a2e: ['All of the Above radio', 'Little Realms | A DnD Actual Play Podcast', 'Nahh B! Podcast MMA / UFC And Boxing Event Preview & Reviews', 'The Fertility Warriors Podcast: Helping women survive infertility and trying to conceive']\n",
      "\n",
      "Recommendations for user fde862a0f3f8456: ['New Patient Group™ (Formally known as the Doctor Diamond Club Podcast)', 'Rebel Chums', 'The Daily Boost | Daily Coaching and Motivation']\n",
      "\n",
      "Recommendations for user d366ab241d287f1: ['Maximiza Tu Negocio en Redes de Mercadeo', 'New Patient Group™ (Formally known as the Doctor Diamond Club Podcast)', 'Rebel Chums']\n",
      "\n",
      "Recommendations for user ca6ad4e0f952cc5: ['Inglestotal : Cursos y clases gratis de Ingles', 'NFL no ProFootballcast com Antony Curti e Eduardo Miceli', 'Rebel Chums', 'Twin Talk with the King Twins']\n",
      "\n",
      "Recommendations for user 26a2e9f944c31cc: ['Hear It Now (retired)', 'I Crush Barbecue Show', 'Little Realms | A DnD Actual Play Podcast', 'Sketched Out', 'Things a Teacher Taught Me', 'Twin Talk with the King Twins']\n",
      "\n",
      "Recommendations for user 838a057871d0092: ['I Crush Barbecue Show', 'Little Realms | A DnD Actual Play Podcast', 'Maximiza Tu Negocio en Redes de Mercadeo', 'Tall Tale TV']\n",
      "\n",
      "Recommendations for user 735d9eaf27c8e44: ['The Oatley Academy ArtCast', 'Things a Teacher Taught Me']\n",
      "\n",
      "Recommendations for user 1d86d3cd9cab3ff: ['Lost In The Shuffle', 'NFL no ProFootballcast com Antony Curti e Eduardo Miceli', 'Rebel Chums', 'Talking Web Marketing']\n",
      "\n"
     ]
    }
   ],
   "source": [
    "#RUN PREDICTIONS ON TEST DATA\n",
    "num = 0\n",
    "threshold = 1\n",
    "for element in test:\n",
    "    user_id = element[\"user_id\"].numpy().decode()\n",
    "    _, titles = index(tf.constant([user_id]))\n",
    "    unique_preds = np.unique(titles.numpy())\n",
    "    unique_preds = [el.decode('UTF-8') for el in unique_preds]\n",
    "    if len(unique_preds) > threshold:\n",
    "        print(\"Recommendations for user {}: {}\".format(user_id,unique_preds))\n",
    "        print(\"\")\n",
    "        num += 1\n",
    "print(\"Number of users with more than {} recommendation: {}\".format(threshold,num))"
   ]
  }
 ],
 "metadata": {
  "kernelspec": {
   "display_name": "Python 3 (ipykernel)",
   "language": "python",
   "name": "python3"
  },
  "language_info": {
   "codemirror_mode": {
    "name": "ipython",
    "version": 3
   },
   "file_extension": ".py",
   "mimetype": "text/x-python",
   "name": "python",
   "nbconvert_exporter": "python",
   "pygments_lexer": "ipython3",
   "version": "3.10.8"
  }
 },
 "nbformat": 4,
 "nbformat_minor": 2
}
