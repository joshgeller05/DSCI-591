{
 "cells": [
  {
   "cell_type": "code",
   "execution_count": 64,
   "metadata": {},
   "outputs": [],
   "source": [
    "from typing import Dict,Text\n",
    "import pandas as pd\n",
    "import tensorflow as tf\n",
    "import tensorflow_recommenders as tfrs\n",
    "import numpy as np\n",
    "import duckdb\n",
    "con = duckdb.connect('database.db')\n",
    "\n",
    "#PREPARE DATA\n",
    "\n",
    "podcast_ratings_query = con.sql(\"select author_id as user_id, podcasts.title as podcast_title,rating from reviews \"+ \n",
    "        \"join categories using (podcast_id) \" +\n",
    "        \"join podcasts using (podcast_id) where average_rating >= 0\").to_df()\n",
    "\n",
    "podcast_titles_query = con.sql(\"select podcasts.title as podcast_title from reviews \"+ \n",
    "        \"join categories using (podcast_id) \" +\n",
    "        \"join podcasts using (podcast_id) where average_rating >= 0\").to_df()\n",
    "\n",
    "podcast_ratings = podcast_ratings_query.to_dict(orient='records')\n",
    "podcast_titles = podcast_titles_query.to_dict(orient='records')\n",
    "podcast_ratings_tf = tf.data.Dataset.from_tensor_slices(pd.DataFrame.from_dict(podcast_ratings).to_dict(orient=\"list\"))\n",
    "podcast_titles_tf = tf.data.Dataset.from_tensor_slices(pd.DataFrame.from_dict(podcast_titles).to_dict(orient=\"list\"))\n",
    "\n",
    "ratings_tf = podcast_ratings_tf.map(lambda x: {\n",
    "    \"podcast_title\": x[\"podcast_title\"],\n",
    "    \"user_id\": x[\"user_id\"],\n",
    "    \"user_rating\": x[\"rating\"]\n",
    "})\n",
    "titles_tf = podcast_titles_tf.map(lambda x: x[\"podcast_title\"])\n",
    "\n",
    "tf.random.set_seed(42)\n",
    "shuffled = ratings_tf.shuffle(100_000, seed=42, reshuffle_each_iteration=False)\n",
    "\n",
    "train_len = int(len(shuffled) * (2/3))\n",
    "test_len = int(len(shuffled) - train_len)\n",
    "\n",
    "train = shuffled.take(train_len)\n",
    "test = shuffled.skip(train_len).take(test_len)\n",
    "\n",
    "podcast_titles = titles_tf.batch(1_000)\n",
    "user_ids = ratings_tf.batch(1_000_000).map(lambda x: x[\"user_id\"])\n",
    "\n",
    "unique_podcast_titles = np.unique(np.concatenate(list(podcast_titles)))\n",
    "unique_user_ids = np.unique(np.concatenate(list(user_ids)))"
   ]
  },
  {
   "cell_type": "code",
   "execution_count": 65,
   "metadata": {},
   "outputs": [
    {
     "name": "stdout",
     "output_type": "stream",
     "text": [
      "Epoch 1/25\n",
      "3/3 [==============================] - 2s 98ms/step - factorized_top_k/top_1_categorical_accuracy: 0.0000e+00 - factorized_top_k/top_5_categorical_accuracy: 0.0019 - factorized_top_k/top_10_categorical_accuracy: 0.0097 - factorized_top_k/top_50_categorical_accuracy: 0.0351 - factorized_top_k/top_100_categorical_accuracy: 0.0936 - loss: 700.5382 - regularization_loss: 0.0000e+00 - total_loss: 700.5382 \n",
      "Epoch 2/25\n",
      "3/3 [==============================] - 0s 88ms/step - factorized_top_k/top_1_categorical_accuracy: 0.0000e+00 - factorized_top_k/top_5_categorical_accuracy: 0.0175 - factorized_top_k/top_10_categorical_accuracy: 0.0682 - factorized_top_k/top_50_categorical_accuracy: 0.2417 - factorized_top_k/top_100_categorical_accuracy: 0.4639 - loss: 615.8552 - regularization_loss: 0.0000e+00 - total_loss: 615.8552\n",
      "Epoch 3/25\n",
      "3/3 [==============================] - 0s 93ms/step - factorized_top_k/top_1_categorical_accuracy: 0.0000e+00 - factorized_top_k/top_5_categorical_accuracy: 0.0234 - factorized_top_k/top_10_categorical_accuracy: 0.0819 - factorized_top_k/top_50_categorical_accuracy: 0.2690 - factorized_top_k/top_100_categorical_accuracy: 0.4912 - loss: 526.9100 - regularization_loss: 0.0000e+00 - total_loss: 526.9100\n",
      "Epoch 4/25\n",
      "3/3 [==============================] - 0s 86ms/step - factorized_top_k/top_1_categorical_accuracy: 0.0000e+00 - factorized_top_k/top_5_categorical_accuracy: 0.0273 - factorized_top_k/top_10_categorical_accuracy: 0.0838 - factorized_top_k/top_50_categorical_accuracy: 0.2690 - factorized_top_k/top_100_categorical_accuracy: 0.4912 - loss: 461.8448 - regularization_loss: 0.0000e+00 - total_loss: 461.8448\n",
      "Epoch 5/25\n",
      "3/3 [==============================] - 0s 95ms/step - factorized_top_k/top_1_categorical_accuracy: 0.0000e+00 - factorized_top_k/top_5_categorical_accuracy: 0.0273 - factorized_top_k/top_10_categorical_accuracy: 0.0838 - factorized_top_k/top_50_categorical_accuracy: 0.2690 - factorized_top_k/top_100_categorical_accuracy: 0.4912 - loss: 427.5977 - regularization_loss: 0.0000e+00 - total_loss: 427.5977\n",
      "Epoch 6/25\n",
      "3/3 [==============================] - 0s 99ms/step - factorized_top_k/top_1_categorical_accuracy: 0.0000e+00 - factorized_top_k/top_5_categorical_accuracy: 0.0273 - factorized_top_k/top_10_categorical_accuracy: 0.0838 - factorized_top_k/top_50_categorical_accuracy: 0.2690 - factorized_top_k/top_100_categorical_accuracy: 0.4912 - loss: 414.2363 - regularization_loss: 0.0000e+00 - total_loss: 414.2363\n",
      "Epoch 7/25\n",
      "3/3 [==============================] - 0s 85ms/step - factorized_top_k/top_1_categorical_accuracy: 0.0000e+00 - factorized_top_k/top_5_categorical_accuracy: 0.0312 - factorized_top_k/top_10_categorical_accuracy: 0.0877 - factorized_top_k/top_50_categorical_accuracy: 0.2690 - factorized_top_k/top_100_categorical_accuracy: 0.4912 - loss: 409.0927 - regularization_loss: 0.0000e+00 - total_loss: 409.0927\n",
      "Epoch 8/25\n",
      "3/3 [==============================] - 0s 92ms/step - factorized_top_k/top_1_categorical_accuracy: 0.0000e+00 - factorized_top_k/top_5_categorical_accuracy: 0.0312 - factorized_top_k/top_10_categorical_accuracy: 0.0877 - factorized_top_k/top_50_categorical_accuracy: 0.2690 - factorized_top_k/top_100_categorical_accuracy: 0.4912 - loss: 406.9099 - regularization_loss: 0.0000e+00 - total_loss: 406.9099\n",
      "Epoch 9/25\n",
      "3/3 [==============================] - 0s 88ms/step - factorized_top_k/top_1_categorical_accuracy: 0.0000e+00 - factorized_top_k/top_5_categorical_accuracy: 0.0312 - factorized_top_k/top_10_categorical_accuracy: 0.0877 - factorized_top_k/top_50_categorical_accuracy: 0.2690 - factorized_top_k/top_100_categorical_accuracy: 0.4912 - loss: 406.1511 - regularization_loss: 0.0000e+00 - total_loss: 406.1511\n",
      "Epoch 10/25\n",
      "3/3 [==============================] - 0s 97ms/step - factorized_top_k/top_1_categorical_accuracy: 0.0000e+00 - factorized_top_k/top_5_categorical_accuracy: 0.0312 - factorized_top_k/top_10_categorical_accuracy: 0.0877 - factorized_top_k/top_50_categorical_accuracy: 0.2690 - factorized_top_k/top_100_categorical_accuracy: 0.4912 - loss: 405.9289 - regularization_loss: 0.0000e+00 - total_loss: 405.9289\n",
      "Epoch 11/25\n",
      "3/3 [==============================] - 0s 91ms/step - factorized_top_k/top_1_categorical_accuracy: 0.0000e+00 - factorized_top_k/top_5_categorical_accuracy: 0.0312 - factorized_top_k/top_10_categorical_accuracy: 0.0877 - factorized_top_k/top_50_categorical_accuracy: 0.2690 - factorized_top_k/top_100_categorical_accuracy: 0.4912 - loss: 405.8543 - regularization_loss: 0.0000e+00 - total_loss: 405.8543\n",
      "Epoch 12/25\n",
      "3/3 [==============================] - 0s 92ms/step - factorized_top_k/top_1_categorical_accuracy: 0.0000e+00 - factorized_top_k/top_5_categorical_accuracy: 0.0312 - factorized_top_k/top_10_categorical_accuracy: 0.0877 - factorized_top_k/top_50_categorical_accuracy: 0.2690 - factorized_top_k/top_100_categorical_accuracy: 0.4912 - loss: 405.8235 - regularization_loss: 0.0000e+00 - total_loss: 405.8235\n",
      "Epoch 13/25\n",
      "3/3 [==============================] - 0s 92ms/step - factorized_top_k/top_1_categorical_accuracy: 0.0000e+00 - factorized_top_k/top_5_categorical_accuracy: 0.0312 - factorized_top_k/top_10_categorical_accuracy: 0.0877 - factorized_top_k/top_50_categorical_accuracy: 0.2690 - factorized_top_k/top_100_categorical_accuracy: 0.4912 - loss: 405.8085 - regularization_loss: 0.0000e+00 - total_loss: 405.8085\n",
      "Epoch 14/25\n",
      "3/3 [==============================] - 0s 94ms/step - factorized_top_k/top_1_categorical_accuracy: 0.0000e+00 - factorized_top_k/top_5_categorical_accuracy: 0.0312 - factorized_top_k/top_10_categorical_accuracy: 0.0877 - factorized_top_k/top_50_categorical_accuracy: 0.2690 - factorized_top_k/top_100_categorical_accuracy: 0.4912 - loss: 405.8002 - regularization_loss: 0.0000e+00 - total_loss: 405.8002\n",
      "Epoch 15/25\n",
      "3/3 [==============================] - 0s 100ms/step - factorized_top_k/top_1_categorical_accuracy: 0.0000e+00 - factorized_top_k/top_5_categorical_accuracy: 0.0312 - factorized_top_k/top_10_categorical_accuracy: 0.0877 - factorized_top_k/top_50_categorical_accuracy: 0.2690 - factorized_top_k/top_100_categorical_accuracy: 0.4912 - loss: 405.7953 - regularization_loss: 0.0000e+00 - total_loss: 405.7953\n",
      "Epoch 16/25\n",
      "3/3 [==============================] - 0s 90ms/step - factorized_top_k/top_1_categorical_accuracy: 0.0000e+00 - factorized_top_k/top_5_categorical_accuracy: 0.0312 - factorized_top_k/top_10_categorical_accuracy: 0.0877 - factorized_top_k/top_50_categorical_accuracy: 0.2690 - factorized_top_k/top_100_categorical_accuracy: 0.4912 - loss: 405.7921 - regularization_loss: 0.0000e+00 - total_loss: 405.7921\n",
      "Epoch 17/25\n",
      "3/3 [==============================] - 0s 87ms/step - factorized_top_k/top_1_categorical_accuracy: 0.0000e+00 - factorized_top_k/top_5_categorical_accuracy: 0.0312 - factorized_top_k/top_10_categorical_accuracy: 0.0877 - factorized_top_k/top_50_categorical_accuracy: 0.2690 - factorized_top_k/top_100_categorical_accuracy: 0.4912 - loss: 405.7900 - regularization_loss: 0.0000e+00 - total_loss: 405.7900\n",
      "Epoch 18/25\n",
      "3/3 [==============================] - 0s 96ms/step - factorized_top_k/top_1_categorical_accuracy: 0.0000e+00 - factorized_top_k/top_5_categorical_accuracy: 0.0312 - factorized_top_k/top_10_categorical_accuracy: 0.0877 - factorized_top_k/top_50_categorical_accuracy: 0.2690 - factorized_top_k/top_100_categorical_accuracy: 0.4912 - loss: 405.7885 - regularization_loss: 0.0000e+00 - total_loss: 405.7885\n",
      "Epoch 19/25\n",
      "3/3 [==============================] - 0s 88ms/step - factorized_top_k/top_1_categorical_accuracy: 0.0000e+00 - factorized_top_k/top_5_categorical_accuracy: 0.0312 - factorized_top_k/top_10_categorical_accuracy: 0.0877 - factorized_top_k/top_50_categorical_accuracy: 0.2690 - factorized_top_k/top_100_categorical_accuracy: 0.4912 - loss: 405.7874 - regularization_loss: 0.0000e+00 - total_loss: 405.7874\n",
      "Epoch 20/25\n",
      "3/3 [==============================] - 0s 91ms/step - factorized_top_k/top_1_categorical_accuracy: 0.0000e+00 - factorized_top_k/top_5_categorical_accuracy: 0.0312 - factorized_top_k/top_10_categorical_accuracy: 0.0877 - factorized_top_k/top_50_categorical_accuracy: 0.2690 - factorized_top_k/top_100_categorical_accuracy: 0.4912 - loss: 405.7867 - regularization_loss: 0.0000e+00 - total_loss: 405.7867\n",
      "Epoch 21/25\n",
      "3/3 [==============================] - 0s 90ms/step - factorized_top_k/top_1_categorical_accuracy: 0.0000e+00 - factorized_top_k/top_5_categorical_accuracy: 0.0312 - factorized_top_k/top_10_categorical_accuracy: 0.0877 - factorized_top_k/top_50_categorical_accuracy: 0.2690 - factorized_top_k/top_100_categorical_accuracy: 0.4912 - loss: 405.7861 - regularization_loss: 0.0000e+00 - total_loss: 405.7861\n",
      "Epoch 22/25\n",
      "3/3 [==============================] - 0s 88ms/step - factorized_top_k/top_1_categorical_accuracy: 0.0000e+00 - factorized_top_k/top_5_categorical_accuracy: 0.0312 - factorized_top_k/top_10_categorical_accuracy: 0.0877 - factorized_top_k/top_50_categorical_accuracy: 0.2690 - factorized_top_k/top_100_categorical_accuracy: 0.4912 - loss: 405.7856 - regularization_loss: 0.0000e+00 - total_loss: 405.7856\n",
      "Epoch 23/25\n",
      "3/3 [==============================] - 0s 92ms/step - factorized_top_k/top_1_categorical_accuracy: 0.0000e+00 - factorized_top_k/top_5_categorical_accuracy: 0.0312 - factorized_top_k/top_10_categorical_accuracy: 0.0877 - factorized_top_k/top_50_categorical_accuracy: 0.2690 - factorized_top_k/top_100_categorical_accuracy: 0.4912 - loss: 405.7853 - regularization_loss: 0.0000e+00 - total_loss: 405.7853\n",
      "Epoch 24/25\n",
      "3/3 [==============================] - 0s 87ms/step - factorized_top_k/top_1_categorical_accuracy: 0.0000e+00 - factorized_top_k/top_5_categorical_accuracy: 0.0312 - factorized_top_k/top_10_categorical_accuracy: 0.0877 - factorized_top_k/top_50_categorical_accuracy: 0.2690 - factorized_top_k/top_100_categorical_accuracy: 0.4912 - loss: 405.7850 - regularization_loss: 0.0000e+00 - total_loss: 405.7850\n",
      "Epoch 25/25\n",
      "3/3 [==============================] - 0s 87ms/step - factorized_top_k/top_1_categorical_accuracy: 0.0000e+00 - factorized_top_k/top_5_categorical_accuracy: 0.0312 - factorized_top_k/top_10_categorical_accuracy: 0.0877 - factorized_top_k/top_50_categorical_accuracy: 0.2690 - factorized_top_k/top_100_categorical_accuracy: 0.4912 - loss: 405.7847 - regularization_loss: 0.0000e+00 - total_loss: 405.7847\n"
     ]
    },
    {
     "data": {
      "text/plain": [
       "<tensorflow_recommenders.layers.factorized_top_k.Streaming at 0x23696280c10>"
      ]
     },
     "execution_count": 65,
     "metadata": {},
     "output_type": "execute_result"
    }
   ],
   "source": [
    "#TRAIN MODEL\n",
    "\n",
    "class PodcastlensModel(tfrs.Model):\n",
    "\n",
    "  def __init__(self):\n",
    "    super().__init__()\n",
    "    embedding_dimension = 32\n",
    "    self.user_model = tf.keras.Sequential([\n",
    "      tf.keras.layers.StringLookup(\n",
    "          vocabulary=unique_user_ids, mask_token=None),\n",
    "      # We add an additional embedding to account for unknown tokens.\n",
    "      tf.keras.layers.Embedding(len(unique_user_ids) + 1, embedding_dimension)\n",
    "    ])\n",
    "\n",
    "    self.podcast_model = tf.keras.Sequential([\n",
    "      tf.keras.layers.StringLookup(\n",
    "          vocabulary=unique_podcast_titles, mask_token=None),\n",
    "      tf.keras.layers.Embedding(len(unique_podcast_titles) + 1, embedding_dimension)\n",
    "    ])\n",
    "    metrics = tfrs.metrics.FactorizedTopK(\n",
    "      candidates=titles_tf.batch(128).map(self.podcast_model)\n",
    "    )\n",
    "\n",
    "    self.task = tfrs.tasks.Retrieval(\n",
    "      metrics=metrics\n",
    "    )\n",
    "\n",
    "  def compute_loss(self, features: Dict[Text, tf.Tensor], training=False) -> tf.Tensor:\n",
    "    # We pick out the user features and pass them into the user model.\n",
    "    user_embeddings = self.user_model(features[\"user_id\"])\n",
    "    # And pick out the podcast features and pass them into the podcast model,\n",
    "    # getting embeddings back.\n",
    "    positive_podcast_embeddings = self.podcast_model(features[\"podcast_title\"])\n",
    "\n",
    "    # The task computes the loss and the metrics.\n",
    "    return self.task(user_embeddings, positive_podcast_embeddings)\n",
    "\n",
    "model = PodcastlensModel()\n",
    "model.compile(optimizer=tf.keras.optimizers.Adamax(learning_rate=0.1))\n",
    "cached_train = train.shuffle(100_000).batch(250).cache()\n",
    "cached_test = test.batch(100).cache()\n",
    "model.fit(cached_train, epochs=25)\n",
    "\n",
    "# Create a model that takes in raw query features, and\n",
    "index = tfrs.layers.factorized_top_k.Streaming(model.user_model,k=25)\n",
    "# recommends podcasts out of the entire podcasts dataset.\n",
    "index.index_from_dataset(\n",
    "  tf.data.Dataset.zip((titles_tf.batch(100), titles_tf.batch(100).map(model.podcast_model)))\n",
    ")"
   ]
  },
  {
   "cell_type": "code",
   "execution_count": 66,
   "metadata": {},
   "outputs": [
    {
     "name": "stdout",
     "output_type": "stream",
     "text": [
      "3/3 [==============================] - 1s 97ms/step - factorized_top_k/top_1_categorical_accuracy: 0.5019 - factorized_top_k/top_5_categorical_accuracy: 0.5486 - factorized_top_k/top_10_categorical_accuracy: 0.5642 - factorized_top_k/top_50_categorical_accuracy: 0.6031 - factorized_top_k/top_100_categorical_accuracy: 0.6887 - loss: 214.4407 - regularization_loss: 0.0000e+00 - total_loss: 214.4407\n"
     ]
    },
    {
     "data": {
      "text/plain": [
       "{'factorized_top_k/top_1_categorical_accuracy': 0.5019454956054688,\n",
       " 'factorized_top_k/top_5_categorical_accuracy': 0.548638105392456,\n",
       " 'factorized_top_k/top_10_categorical_accuracy': 0.5642023086547852,\n",
       " 'factorized_top_k/top_50_categorical_accuracy': 0.6031128168106079,\n",
       " 'factorized_top_k/top_100_categorical_accuracy': 0.688715934753418,\n",
       " 'loss': 134.0203857421875,\n",
       " 'regularization_loss': 0,\n",
       " 'total_loss': 134.0203857421875}"
      ]
     },
     "execution_count": 66,
     "metadata": {},
     "output_type": "execute_result"
    }
   ],
   "source": [
    "#PULL METRICS FOR MODEL ON TEST DATA \n",
    "model.evaluate(cached_test, return_dict=True)"
   ]
  },
  {
   "cell_type": "code",
   "execution_count": 67,
   "metadata": {},
   "outputs": [
    {
     "name": "stdout",
     "output_type": "stream",
     "text": [
      "3/3 [==============================] - 0s 84ms/step - factorized_top_k/top_1_categorical_accuracy: 0.5731 - factorized_top_k/top_5_categorical_accuracy: 0.6511 - factorized_top_k/top_10_categorical_accuracy: 0.6725 - factorized_top_k/top_50_categorical_accuracy: 0.7193 - factorized_top_k/top_100_categorical_accuracy: 0.8051 - loss: 405.7846 - regularization_loss: 0.0000e+00 - total_loss: 405.7846\n"
     ]
    },
    {
     "data": {
      "text/plain": [
       "{'factorized_top_k/top_1_categorical_accuracy': 0.5730994343757629,\n",
       " 'factorized_top_k/top_5_categorical_accuracy': 0.6510721445083618,\n",
       " 'factorized_top_k/top_10_categorical_accuracy': 0.6725146174430847,\n",
       " 'factorized_top_k/top_50_categorical_accuracy': 0.719298243522644,\n",
       " 'factorized_top_k/top_100_categorical_accuracy': 0.8050682544708252,\n",
       " 'loss': 15.008101463317871,\n",
       " 'regularization_loss': 0,\n",
       " 'total_loss': 15.008101463317871}"
      ]
     },
     "execution_count": 67,
     "metadata": {},
     "output_type": "execute_result"
    }
   ],
   "source": [
    "#PULL METRICS FOR MODEL ON TRAIN DATA \n",
    "model.evaluate(cached_train, return_dict=True)"
   ]
  },
  {
   "cell_type": "code",
   "execution_count": 68,
   "metadata": {},
   "outputs": [
    {
     "name": "stdout",
     "output_type": "stream",
     "text": [
      "5 recommendations for user 2a54e87ac1ea627: ['Daily Solutions Podcast', 'Hear It Now (retired)', 'In Real Life with Emily and Kimzilla | WFMU', 'Sketched Out', 'The Fertility Warriors Podcast: Helping women survive infertility and trying to conceive']\n",
      "\n",
      "5 recommendations for user 3f8437d8d907072: ['Daily Solutions Podcast', 'F*ck Like a Woman', 'Hear It Now (retired)', 'Maximiza Tu Negocio en Redes de Mercadeo', 'Rebel Chums']\n",
      "\n",
      "2 recommendations for user 27d85c140f6e9ba: ['Last Week at the Movies Podcast', 'NFL no ProFootballcast com Antony Curti e Eduardo Miceli']\n",
      "\n",
      "4 recommendations for user d732db86069c70c: ['Hear It Now (retired)', 'Maximiza Tu Negocio en Redes de Mercadeo', 'The Fertility Warriors Podcast: Helping women survive infertility and trying to conceive', 'Understanding Human Behavior - Video']\n",
      "\n",
      "4 recommendations for user a52ebc918bc19d1: ['All of the Above radio', 'Hear It Now (retired)', 'Inglestotal : Cursos y clases gratis de Ingles', 'The Oatley Academy ArtCast']\n",
      "\n",
      "4 recommendations for user e1e474835a0be76: ['All of the Above radio', 'I Crush Barbecue Show', 'New Patient Group™ (Formally known as the Doctor Diamond Club Podcast)', 'Talking Web Marketing']\n",
      "\n",
      "4 recommendations for user 353d234db877315: ['All of the Above radio', 'NFL no ProFootballcast com Antony Curti e Eduardo Miceli', 'New Patient Group™ (Formally known as the Doctor Diamond Club Podcast)', 'Sketched Out']\n",
      "\n",
      "4 recommendations for user a52ebc918bc19d1: ['All of the Above radio', 'Hear It Now (retired)', 'Inglestotal : Cursos y clases gratis de Ingles', 'The Oatley Academy ArtCast']\n",
      "\n",
      "3 recommendations for user 838a057871d0092: ['In Real Life with Emily and Kimzilla | WFMU', 'Sketched Out', 'Tall Tale TV']\n",
      "\n",
      "4 recommendations for user d0f6bf6070e8fe8: ['Last Week at the Movies Podcast', 'Little Realms | A DnD Actual Play Podcast', 'Things a Teacher Taught Me', 'Twin Talk with the King Twins']\n",
      "\n",
      "4 recommendations for user 0d14d171f46c19b: ['Inglestotal : Cursos y clases gratis de Ingles', 'New Patient Group™ (Formally known as the Doctor Diamond Club Podcast)', 'Things a Teacher Taught Me', 'Twin Talk with the King Twins']\n",
      "\n",
      "3 recommendations for user d2a4f357e578e09: ['In Real Life with Emily and Kimzilla | WFMU', 'Lost In The Shuffle', 'Outside Voices Podcast']\n",
      "\n",
      "3 recommendations for user 55de69fb257a473: ['Lost In The Shuffle', 'Maximiza Tu Negocio en Redes de Mercadeo', 'Nahh B! Podcast MMA / UFC And Boxing Event Preview & Reviews']\n",
      "\n",
      "5 recommendations for user 1bef95c9c0016c1: ['Daily Solutions Podcast', 'I Crush Barbecue Show', 'Maximiza Tu Negocio en Redes de Mercadeo', 'Sketched Out', 'Understanding Human Behavior - Video']\n",
      "\n",
      "3 recommendations for user e40b9193f15f266: ['Hear It Now (retired)', 'Little Realms | A DnD Actual Play Podcast', 'New Patient Group™ (Formally known as the Doctor Diamond Club Podcast)']\n",
      "\n",
      "2 recommendations for user 735d9eaf27c8e44: ['F*ck Like a Woman', 'The Oatley Academy ArtCast']\n",
      "\n",
      "2 recommendations for user 97d22d3cf0605fc: ['New Patient Group™ (Formally known as the Doctor Diamond Club Podcast)', 'The Oatley Academy ArtCast']\n",
      "\n",
      "3 recommendations for user 2604492b2755f31: ['In Real Life with Emily and Kimzilla | WFMU', 'Lost In The Shuffle', 'Understanding Human Behavior - Video']\n",
      "\n",
      "6 recommendations for user 2f5691f240fb5db: ['Daily Solutions Podcast', 'Hear It Now (retired)', 'Nahh B! Podcast MMA / UFC And Boxing Event Preview & Reviews', 'The Oatley Academy ArtCast', 'Things a Teacher Taught Me', 'Twin Talk with the King Twins']\n",
      "\n",
      "2 recommendations for user 5e0647fa7e4e86e: ['Little Realms | A DnD Actual Play Podcast', 'New Patient Group™ (Formally known as the Doctor Diamond Club Podcast)']\n",
      "\n",
      "3 recommendations for user 6017bc2ac94f664: ['Lost In The Shuffle', 'Maximiza Tu Negocio en Redes de Mercadeo', 'Understanding Human Behavior - Video']\n",
      "\n",
      "3 recommendations for user 7fefa9c43783018: ['In Real Life with Emily and Kimzilla | WFMU', 'Sketched Out', 'Tall Tale TV']\n",
      "\n",
      "3 recommendations for user fb6ca03240db301: ['Last Week at the Movies Podcast', 'Tall Tale TV', 'The Fertility Warriors Podcast: Helping women survive infertility and trying to conceive']\n",
      "\n",
      "2 recommendations for user 6d6537f2e73caef: ['Little Realms | A DnD Actual Play Podcast', 'New Patient Group™ (Formally known as the Doctor Diamond Club Podcast)']\n",
      "\n",
      "2 recommendations for user ae03b775989683f: ['In Real Life with Emily and Kimzilla | WFMU', 'NFL no ProFootballcast com Antony Curti e Eduardo Miceli']\n",
      "\n",
      "3 recommendations for user 24d41908e0439fe: ['In Real Life with Emily and Kimzilla | WFMU', 'Sketched Out', 'Tall Tale TV']\n",
      "\n",
      "3 recommendations for user 6017bc2ac94f664: ['Lost In The Shuffle', 'Maximiza Tu Negocio en Redes de Mercadeo', 'Understanding Human Behavior - Video']\n",
      "\n",
      "2 recommendations for user a28b1fa544f1f98: ['Little Realms | A DnD Actual Play Podcast', 'New Patient Group™ (Formally known as the Doctor Diamond Club Podcast)']\n",
      "\n",
      "4 recommendations for user e3713d1d11c289a: ['All of the Above radio', 'I Crush Barbecue Show', 'New Patient Group™ (Formally known as the Doctor Diamond Club Podcast)', 'The Oatley Academy ArtCast']\n",
      "\n",
      "2 recommendations for user 706f2fd4af68702: ['All of the Above radio', 'Emprendedores Digitales |Marketing Digital, Blogging, Redes Sociales, Marketing Online, Negocios, SEO, blogs, Desarrollo Pers']\n",
      "\n",
      "6 recommendations for user 5586bc64ee0384f: ['Daily Solutions Podcast', 'F*ck Like a Woman', 'Hear It Now (retired)', 'Nahh B! Podcast MMA / UFC And Boxing Event Preview & Reviews', 'Twin Talk with the King Twins', 'Understanding Human Behavior - Video']\n",
      "\n",
      "3 recommendations for user 7f577b14b6fc144: ['Lost In The Shuffle', 'Maximiza Tu Negocio en Redes de Mercadeo', 'Understanding Human Behavior - Video']\n",
      "\n",
      "3 recommendations for user a35639c3368898e: ['In Real Life with Emily and Kimzilla | WFMU', 'Sketched Out', 'Tall Tale TV']\n",
      "\n"
     ]
    }
   ],
   "source": [
    "#RUN PREDICTIONS ON TEST DATA \n",
    "num = 0 \n",
    "threshold = 1\n",
    "for element in test:\n",
    "    user_id = element[\"user_id\"].numpy().decode()\n",
    "    _, titles = index(tf.constant([user_id]))\n",
    "    unique_preds = np.unique(titles.numpy())\n",
    "    unique_preds = [el.decode('UTF-8') for el in unique_preds]\n",
    "    if len(unique_preds) > threshold:\n",
    "        print(\"Top {} recommendations for user {}: {}\".format(len(unique_preds),user_id,unique_preds))\n",
    "        print(\"\")\n",
    "        num += 1\n",
    "print(\"Number of users with more than {} recommendation: {}\".format(threshold,num))"
   ]
  }
 ],
 "metadata": {
  "kernelspec": {
   "display_name": "Python 3 (ipykernel)",
   "language": "python",
   "name": "python3"
  },
  "language_info": {
   "codemirror_mode": {
    "name": "ipython",
    "version": 3
   },
   "file_extension": ".py",
   "mimetype": "text/x-python",
   "name": "python",
   "nbconvert_exporter": "python",
   "pygments_lexer": "ipython3",
   "version": "3.10.8"
  }
 },
 "nbformat": 4,
 "nbformat_minor": 2
}
