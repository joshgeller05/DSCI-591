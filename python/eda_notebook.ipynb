{
 "cells": [
  {
   "cell_type": "code",
   "execution_count": 119,
   "metadata": {},
   "outputs": [],
   "source": [
    "#imports\n",
    "import duckdb\n",
    "import warnings\n",
    "import pandas as pd"
   ]
  },
  {
   "cell_type": "code",
   "execution_count": 120,
   "metadata": {},
   "outputs": [],
   "source": [
    "#Settings\n",
    "pd.set_option('display.max_columns', None)\n",
    "warnings.simplefilter(action='ignore', category=FutureWarning) "
   ]
  },
  {
   "cell_type": "code",
   "execution_count": 121,
   "metadata": {},
   "outputs": [],
   "source": [
    "# create a connection to a file called 'database.db'\n",
    "con = duckdb.connect('database.db')"
   ]
  },
  {
   "cell_type": "code",
   "execution_count": 122,
   "metadata": {},
   "outputs": [
    {
     "data": {
      "text/plain": [
       "┌────────────┐\n",
       "│    name    │\n",
       "│  varchar   │\n",
       "├────────────┤\n",
       "│ categories │\n",
       "│ podcasts   │\n",
       "│ reviews    │\n",
       "└────────────┘"
      ]
     },
     "execution_count": 122,
     "metadata": {},
     "output_type": "execute_result"
    }
   ],
   "source": [
    "con.sql(\"show tables\")"
   ]
  },
  {
   "cell_type": "code",
   "execution_count": 123,
   "metadata": {},
   "outputs": [
    {
     "data": {
      "text/plain": [
       "┌────────────────┬─────────────┬─────────┬─────────┬─────────┬───────┐\n",
       "│  column_name   │ column_type │  null   │   key   │ default │ extra │\n",
       "│    varchar     │   varchar   │ varchar │ varchar │ varchar │ int32 │\n",
       "├────────────────┼─────────────┼─────────┼─────────┼─────────┼───────┤\n",
       "│ podcast_id     │ VARCHAR     │ YES     │ NULL    │ NULL    │  NULL │\n",
       "│ itunes_id      │ VARCHAR     │ YES     │ NULL    │ NULL    │  NULL │\n",
       "│ slug           │ VARCHAR     │ YES     │ NULL    │ NULL    │  NULL │\n",
       "│ itunes_url     │ VARCHAR     │ YES     │ NULL    │ NULL    │  NULL │\n",
       "│ title          │ VARCHAR     │ YES     │ NULL    │ NULL    │  NULL │\n",
       "│ author         │ VARCHAR     │ YES     │ NULL    │ NULL    │  NULL │\n",
       "│ description    │ VARCHAR     │ YES     │ NULL    │ NULL    │  NULL │\n",
       "│ average_rating │ DOUBLE      │ YES     │ NULL    │ NULL    │  NULL │\n",
       "│ ratings_count  │ VARCHAR     │ YES     │ NULL    │ NULL    │  NULL │\n",
       "│ scraped_at     │ TIMESTAMP   │ YES     │ NULL    │ NULL    │  NULL │\n",
       "├────────────────┴─────────────┴─────────┴─────────┴─────────┴───────┤\n",
       "│ 10 rows                                                  6 columns │\n",
       "└────────────────────────────────────────────────────────────────────┘"
      ]
     },
     "execution_count": 123,
     "metadata": {},
     "output_type": "execute_result"
    }
   ],
   "source": [
    "#describe podcasts table\n",
    "con.sql(\"describe podcasts\")"
   ]
  },
  {
   "cell_type": "code",
   "execution_count": 124,
   "metadata": {},
   "outputs": [
    {
     "data": {
      "text/plain": [
       "┌─────────────┬─────────────┬─────────┬─────────┬─────────┬───────┐\n",
       "│ column_name │ column_type │  null   │   key   │ default │ extra │\n",
       "│   varchar   │   varchar   │ varchar │ varchar │ varchar │ int32 │\n",
       "├─────────────┼─────────────┼─────────┼─────────┼─────────┼───────┤\n",
       "│ podcast_id  │ VARCHAR     │ YES     │ NULL    │ NULL    │  NULL │\n",
       "│ itunes_id   │ VARCHAR     │ YES     │ NULL    │ NULL    │  NULL │\n",
       "│ category    │ VARCHAR     │ YES     │ NULL    │ NULL    │  NULL │\n",
       "└─────────────┴─────────────┴─────────┴─────────┴─────────┴───────┘"
      ]
     },
     "execution_count": 124,
     "metadata": {},
     "output_type": "execute_result"
    }
   ],
   "source": [
    "#describe categories table\n",
    "con.sql(\"describe categories\")"
   ]
  },
  {
   "cell_type": "code",
   "execution_count": 125,
   "metadata": {},
   "outputs": [
    {
     "data": {
      "text/plain": [
       "┌─────────────┬──────────────────────────┬─────────┬─────────┬─────────┬───────┐\n",
       "│ column_name │       column_type        │  null   │   key   │ default │ extra │\n",
       "│   varchar   │         varchar          │ varchar │ varchar │ varchar │ int32 │\n",
       "├─────────────┼──────────────────────────┼─────────┼─────────┼─────────┼───────┤\n",
       "│ podcast_id  │ VARCHAR                  │ YES     │ NULL    │ NULL    │  NULL │\n",
       "│ title       │ VARCHAR                  │ YES     │ NULL    │ NULL    │  NULL │\n",
       "│ content     │ VARCHAR                  │ YES     │ NULL    │ NULL    │  NULL │\n",
       "│ rating      │ INTEGER                  │ YES     │ NULL    │ NULL    │  NULL │\n",
       "│ author_id   │ VARCHAR                  │ YES     │ NULL    │ NULL    │  NULL │\n",
       "│ created_at  │ TIMESTAMP WITH TIME ZONE │ YES     │ NULL    │ NULL    │  NULL │\n",
       "└─────────────┴──────────────────────────┴─────────┴─────────┴─────────┴───────┘"
      ]
     },
     "execution_count": 125,
     "metadata": {},
     "output_type": "execute_result"
    }
   ],
   "source": [
    "#describe reviews table\n",
    "con.sql(\"describe reviews\")\n"
   ]
  },
  {
   "cell_type": "code",
   "execution_count": 126,
   "metadata": {},
   "outputs": [
    {
     "data": {
      "text/plain": [
       "┌──────────────────────┬──────────────────────┬──────────────────────┬────────┬─────────────────┬──────────────────────┐\n",
       "│      podcast_id      │        title         │       content        │ rating │    author_id    │      created_at      │\n",
       "│       varchar        │       varchar        │       varchar        │ int32  │     varchar     │ timestamp with tim…  │\n",
       "├──────────────────────┼──────────────────────┼──────────────────────┼────────┼─────────────────┼──────────────────────┤\n",
       "│ 52e3d2c4fab4e80a8b…  │ Argh                 │ What the heck is t…  │      1 │ a23655ce5565f32 │ 2019-04-30 21:24:0…  │\n",
       "│ 52e3d2c4fab4e80a8b…  │ Miss gross overrat…  │ The Howard stern i…  │      1 │ e5d461c5f91c8d2 │ 2019-06-07 10:25:3…  │\n",
       "│ 52e3d2c4fab4e80a8b…  │ I love Terri and F…  │ People get really …  │      5 │ 806cc75442c8f3d │ 2019-05-15 05:42:5…  │\n",
       "│ 52e3d2c4fab4e80a8b…  │ Fresh Air subscrip…  │ I’ve been a subscr…  │      4 │ 3e1e7e8417a3e85 │ 2019-05-05 22:39:1…  │\n",
       "│ 52e3d2c4fab4e80a8b…  │ Climate change       │ Hello, my name is …  │      5 │ 7c680144b582c6d │ 2019-04-17 20:37:5…  │\n",
       "└──────────────────────┴──────────────────────┴──────────────────────┴────────┴─────────────────┴──────────────────────┘"
      ]
     },
     "execution_count": 126,
     "metadata": {},
     "output_type": "execute_result"
    }
   ],
   "source": [
    "#Look into data for reviews\n",
    "con.sql(\"select * from reviews limit 5\")"
   ]
  },
  {
   "cell_type": "code",
   "execution_count": 127,
   "metadata": {},
   "outputs": [
    {
     "data": {
      "text/plain": [
       "┌─────────────────────────┐\n",
       "│ total_number_of_reviews │\n",
       "│          int64          │\n",
       "├─────────────────────────┤\n",
       "│                 5607021 │\n",
       "└─────────────────────────┘"
      ]
     },
     "execution_count": 127,
     "metadata": {},
     "output_type": "execute_result"
    }
   ],
   "source": [
    "#Total Number of reviews\n",
    "con.sql(\"select count(*) as total_number_of_reviews from reviews\")"
   ]
  },
  {
   "cell_type": "code",
   "execution_count": 128,
   "metadata": {},
   "outputs": [
    {
     "data": {
      "text/plain": [
       "┌──────────────────────┬────────────┬──────────────────────┬───┬────────────────┬───────────────┬──────────────────────┐\n",
       "│      podcast_id      │ itunes_id  │         slug         │ … │ average_rating │ ratings_count │      scraped_at      │\n",
       "│       varchar        │  varchar   │       varchar        │   │     double     │    varchar    │      timestamp       │\n",
       "├──────────────────────┼────────────┼──────────────────────┼───┼────────────────┼───────────────┼──────────────────────┤\n",
       "│ f201172864310534ae…  │ 1000016089 │ rahdo-talks-through  │ … │            4.6 │ 60            │ 2019-07-08 06:15:4…  │\n",
       "│ 3cfef94cfccf27eb50…  │ 1000035707 │ originall            │ … │            3.7 │ 3             │ 2019-07-08 08:49:4…  │\n",
       "│ 2f2205dcc248024b0a…  │ 1000068299 │ the-big-podcast-wi…  │ … │            4.6 │ 1.3K          │ 2019-07-08 23:01:4…  │\n",
       "│ 9fc35a81647e391f93…  │ 1000081327 │ galaktacus           │ … │            5.0 │ 20            │ 2019-07-09 16:22:0…  │\n",
       "│ ce2c3a68dda3560067…  │ 1000095644 │ no-extra-words-one…  │ … │            5.0 │ 11            │ 2019-07-07 21:29:3…  │\n",
       "│ aed410e50370beec62…  │ 1000114875 │ the-talking-pictur…  │ … │            5.0 │ 9             │ 2019-07-07 22:11:5…  │\n",
       "│ 4e4a0f1b26f268e35a…  │ 1000116270 │ pelotonoffun         │ … │            5.0 │ 7             │ 2019-07-09 14:13:1…  │\n",
       "│ 7069df204b03df17ae…  │ 1000211238 │ queens-of-england-…  │ … │            4.9 │ 32            │ 2019-07-08 03:40:4…  │\n",
       "│ f98b6e3aa3685694e8…  │ 1000230848 │ l-l-researchs-podc…  │ … │            5.0 │ 22            │ 2019-07-08 15:23:3…  │\n",
       "│ a48e5560ae4da6dc5d…  │ 1000242606 │ ask-the-gluten-fre…  │ … │            4.7 │ 3             │ 2019-07-08 11:09:0…  │\n",
       "│          ·           │     ·      │          ·           │ · │             ·  │ ·             │          ·           │\n",
       "│          ·           │     ·      │          ·           │ · │             ·  │ ·             │          ·           │\n",
       "│          ·           │     ·      │          ·           │ · │             ·  │ ·             │          ·           │\n",
       "│ 3a9c4f7fccf2ac8c53…  │ 1154114202 │ making-it-with-chr…  │ … │            4.9 │ 66            │ 2019-07-08 01:25:0…  │\n",
       "│ 1bd5b9be3e850690ee…  │ 1154120036 │ kmuw-movie-club      │ … │            5.0 │ 1             │ 2019-07-07 21:17:3…  │\n",
       "│ 3cc6742ba28ee62d6c…  │ 1154140455 │ you-are-swim         │ … │            5.0 │ 1             │ 2019-07-09 16:51:3…  │\n",
       "│ bbb3feb37d49ba35e6…  │ 1154162580 │ fantasy-hockey-blo…  │ … │            4.1 │ 11            │ 2019-07-09 12:44:2…  │\n",
       "│ 1bcd7d360d6a220ef3…  │ 1154165477 │ walking-labyrinth-…  │ … │            5.0 │ 3             │ 2019-07-07 23:03:2…  │\n",
       "│ 7632ce9cdde646daed…  │ 1154166852 │ drifting-ruby-scre…  │ … │            5.0 │ 3             │ 2019-07-09 18:13:2…  │\n",
       "│ 4aab5ff15099b0ab02…  │ 1154174118 │ put-you-on-game-po…  │ … │            4.7 │ 22            │ 2019-07-09 04:43:2…  │\n",
       "│ 556de49e8afdcbf578…  │ 1154174776 │ raiders-talk         │ … │            4.4 │ 11            │ 2019-07-09 14:16:1…  │\n",
       "│ 7446b144105254b4fc…  │ 1154176782 │ pokemon-world-tour…  │ … │            4.9 │ 12            │ 2019-07-08 07:38:1…  │\n",
       "│ 47d43501a76b1e7fbc…  │ 1154180451 │ wp-ecommerce-show    │ … │            5.0 │ 2             │ 2019-07-09 18:26:0…  │\n",
       "├──────────────────────┴────────────┴──────────────────────┴───┴────────────────┴───────────────┴──────────────────────┤\n",
       "│ ? rows (>9999 rows, 20 shown)                                                                   10 columns (6 shown) │\n",
       "└──────────────────────────────────────────────────────────────────────────────────────────────────────────────────────┘"
      ]
     },
     "execution_count": 128,
     "metadata": {},
     "output_type": "execute_result"
    }
   ],
   "source": [
    "con.sql(\"select * from podcasts where average_rating >= 0\")"
   ]
  },
  {
   "cell_type": "code",
   "execution_count": 129,
   "metadata": {},
   "outputs": [
    {
     "data": {
      "text/plain": [
       "┌────────────────┐\n",
       "│ unique_authors │\n",
       "│     int64      │\n",
       "├────────────────┤\n",
       "│        3256501 │\n",
       "└────────────────┘"
      ]
     },
     "execution_count": 129,
     "metadata": {},
     "output_type": "execute_result"
    }
   ],
   "source": [
    "#Unique authors contributing reviews\n",
    "con.sql(\"select count(DISTINCT author_id) as unique_authors from reviews\")"
   ]
  },
  {
   "cell_type": "code",
   "execution_count": 130,
   "metadata": {},
   "outputs": [],
   "source": [
    "authors = con.sql(\"select author_id,count(author_id) as count from reviews group by author_id\")"
   ]
  },
  {
   "cell_type": "code",
   "execution_count": 131,
   "metadata": {},
   "outputs": [
    {
     "data": {
      "text/plain": [
       "5607021"
      ]
     },
     "execution_count": 131,
     "metadata": {},
     "output_type": "execute_result"
    }
   ],
   "source": [
    "#Total Number of reviews\n",
    "authors.df()[\"count\"].sum()"
   ]
  },
  {
   "cell_type": "code",
   "execution_count": 132,
   "metadata": {},
   "outputs": [
    {
     "data": {
      "text/plain": [
       "1.7217931147572194"
      ]
     },
     "execution_count": 132,
     "metadata": {},
     "output_type": "execute_result"
    }
   ],
   "source": [
    "authors.df()[\"count\"].mean()\n"
   ]
  },
  {
   "cell_type": "code",
   "execution_count": 133,
   "metadata": {},
   "outputs": [
    {
     "data": {
      "text/html": [
       "<div>\n",
       "<style scoped>\n",
       "    .dataframe tbody tr th:only-of-type {\n",
       "        vertical-align: middle;\n",
       "    }\n",
       "\n",
       "    .dataframe tbody tr th {\n",
       "        vertical-align: top;\n",
       "    }\n",
       "\n",
       "    .dataframe thead th {\n",
       "        text-align: right;\n",
       "    }\n",
       "</style>\n",
       "<table border=\"1\" class=\"dataframe\">\n",
       "  <thead>\n",
       "    <tr style=\"text-align: right;\">\n",
       "      <th></th>\n",
       "      <th>author_id</th>\n",
       "      <th>count</th>\n",
       "    </tr>\n",
       "  </thead>\n",
       "  <tbody>\n",
       "    <tr>\n",
       "      <th>2106925</th>\n",
       "      <td>d3307adeffa285c</td>\n",
       "      <td>1681</td>\n",
       "    </tr>\n",
       "    <tr>\n",
       "      <th>866232</th>\n",
       "      <td>791f376aca3c08d</td>\n",
       "      <td>1303</td>\n",
       "    </tr>\n",
       "    <tr>\n",
       "      <th>2767141</th>\n",
       "      <td>8ea31f030185a88</td>\n",
       "      <td>1248</td>\n",
       "    </tr>\n",
       "    <tr>\n",
       "      <th>1346059</th>\n",
       "      <td>96a3f0358e7808d</td>\n",
       "      <td>1229</td>\n",
       "    </tr>\n",
       "    <tr>\n",
       "      <th>920166</th>\n",
       "      <td>04c3b6defe22fb1</td>\n",
       "      <td>1094</td>\n",
       "    </tr>\n",
       "  </tbody>\n",
       "</table>\n",
       "</div>"
      ],
      "text/plain": [
       "               author_id  count\n",
       "2106925  d3307adeffa285c   1681\n",
       "866232   791f376aca3c08d   1303\n",
       "2767141  8ea31f030185a88   1248\n",
       "1346059  96a3f0358e7808d   1229\n",
       "920166   04c3b6defe22fb1   1094"
      ]
     },
     "execution_count": 133,
     "metadata": {},
     "output_type": "execute_result"
    }
   ],
   "source": [
    "#Top 5 authors\n",
    "authors.df().sort_values('count',ascending=False).head(5)"
   ]
  },
  {
   "cell_type": "code",
   "execution_count": 134,
   "metadata": {},
   "outputs": [
    {
     "data": {
      "text/plain": [
       "1.7217931147572194"
      ]
     },
     "execution_count": 134,
     "metadata": {},
     "output_type": "execute_result"
    }
   ],
   "source": [
    "authors.df()[\"count\"].mean()"
   ]
  },
  {
   "cell_type": "code",
   "execution_count": 135,
   "metadata": {},
   "outputs": [
    {
     "name": "stdout",
     "output_type": "stream",
     "text": [
      "Total Authors with only 1 rating: 2,400,918\n",
      "Total Authors with more than 1 rating: 855,583\n",
      "Average rating for Authors with more than 1 rating: 3.747272912154636\n",
      "Total Ratings: 3,256,501\n"
     ]
    }
   ],
   "source": [
    "one_total = 0\n",
    "non_one_total = 0\n",
    "non_one_total_ratings = 0\n",
    "for (colname,colval) in authors.df().iteritems():\n",
    "    if colname == \"count\":\n",
    "        for x in colval:\n",
    "            if x == 1:\n",
    "                one_total += 1\n",
    "            else:\n",
    "                non_one_total += 1\n",
    "                non_one_total_ratings += x\n",
    "print(f'Total Authors with only 1 rating: {one_total:,}')\n",
    "print(f'Total Authors with more than 1 rating: {non_one_total:,}')\n",
    "print(f'Average rating for Authors with more than 1 rating: {non_one_total_ratings/non_one_total:,}')\n",
    "print(f'Total Ratings: {non_one_total+one_total:,}') "
   ]
  },
  {
   "cell_type": "code",
   "execution_count": 136,
   "metadata": {},
   "outputs": [
    {
     "data": {
      "text/html": [
       "<div>\n",
       "<style scoped>\n",
       "    .dataframe tbody tr th:only-of-type {\n",
       "        vertical-align: middle;\n",
       "    }\n",
       "\n",
       "    .dataframe tbody tr th {\n",
       "        vertical-align: top;\n",
       "    }\n",
       "\n",
       "    .dataframe thead th {\n",
       "        text-align: right;\n",
       "    }\n",
       "</style>\n",
       "<table border=\"1\" class=\"dataframe\">\n",
       "  <thead>\n",
       "    <tr style=\"text-align: right;\">\n",
       "      <th></th>\n",
       "      <th>author_id</th>\n",
       "      <th>count</th>\n",
       "    </tr>\n",
       "  </thead>\n",
       "  <tbody>\n",
       "    <tr>\n",
       "      <th>1628250</th>\n",
       "      <td>bf76946f3ff902f</td>\n",
       "      <td>1</td>\n",
       "    </tr>\n",
       "    <tr>\n",
       "      <th>2004268</th>\n",
       "      <td>5703109137c25e9</td>\n",
       "      <td>1</td>\n",
       "    </tr>\n",
       "    <tr>\n",
       "      <th>2004269</th>\n",
       "      <td>48fe9fa82d7e3fd</td>\n",
       "      <td>1</td>\n",
       "    </tr>\n",
       "    <tr>\n",
       "      <th>2004270</th>\n",
       "      <td>f144e074e9f647e</td>\n",
       "      <td>1</td>\n",
       "    </tr>\n",
       "    <tr>\n",
       "      <th>2004271</th>\n",
       "      <td>0d879b725bc9de7</td>\n",
       "      <td>1</td>\n",
       "    </tr>\n",
       "  </tbody>\n",
       "</table>\n",
       "</div>"
      ],
      "text/plain": [
       "               author_id  count\n",
       "1628250  bf76946f3ff902f      1\n",
       "2004268  5703109137c25e9      1\n",
       "2004269  48fe9fa82d7e3fd      1\n",
       "2004270  f144e074e9f647e      1\n",
       "2004271  0d879b725bc9de7      1"
      ]
     },
     "execution_count": 136,
     "metadata": {},
     "output_type": "execute_result"
    }
   ],
   "source": [
    "#Bottom 5 authors\n",
    "authors.df().sort_values('count',ascending=True).head(5)"
   ]
  },
  {
   "cell_type": "code",
   "execution_count": 137,
   "metadata": {},
   "outputs": [
    {
     "data": {
      "text/plain": [
       "┌──────────────────────┬──────────────────────────────────────────────────────────────┬────────────────┬───────────────┐\n",
       "│      podcast_id      │                            title                             │ average_rating │ ratings_count │\n",
       "│       varchar        │                           varchar                            │     double     │    varchar    │\n",
       "├──────────────────────┼──────────────────────────────────────────────────────────────┼────────────────┼───────────────┤\n",
       "│ f201172864310534ae…  │ Rahdo Talks Through                                          │            4.6 │ 60            │\n",
       "│ 3cfef94cfccf27eb50…  │ OriginALL                                                    │            3.7 │ 3             │\n",
       "│ 2f2205dcc248024b0a…  │ The Big Podcast With Shaq                                    │            4.6 │ 1.3K          │\n",
       "│ 9fc35a81647e391f93…  │ Galaktacus                                                   │            5.0 │ 20            │\n",
       "│ ce2c3a68dda3560067…  │ No Extra Words one person's search for story                 │            5.0 │ 11            │\n",
       "│ aed410e50370beec62…  │ The Talking Pictures Podcast                                 │            5.0 │ 9             │\n",
       "│ 4e4a0f1b26f268e35a…  │ PeloTonOfFun                                                 │            5.0 │ 7             │\n",
       "│ 7069df204b03df17ae…  │ Queens of England Podcast                                    │            4.9 │ 32            │\n",
       "│ f98b6e3aa3685694e8…  │ L/L Research's Podcast: In the Now                           │            5.0 │ 22            │\n",
       "│ a48e5560ae4da6dc5d…  │ Ask The Gluten Free Chef                                     │            4.7 │ 3             │\n",
       "│          ·           │            ·                                                 │             ·  │ ·             │\n",
       "│          ·           │            ·                                                 │             ·  │ ·             │\n",
       "│          ·           │            ·                                                 │             ·  │ ·             │\n",
       "│ 3a9c4f7fccf2ac8c53…  │ Making It with Chris G.                                      │            4.9 │ 66            │\n",
       "│ 1bd5b9be3e850690ee…  │ KMUW Movie Club                                              │            5.0 │ 1             │\n",
       "│ 3cc6742ba28ee62d6c…  │ You are SWIM                                                 │            5.0 │ 1             │\n",
       "│ bbb3feb37d49ba35e6…  │ Fantasy Hockey Blog at Razzball.com                          │            4.1 │ 11            │\n",
       "│ 1bcd7d360d6a220ef3…  │ Walking the Labyrinth: Inside Employee Communications with…  │            5.0 │ 3             │\n",
       "│ 7632ce9cdde646daed…  │ Drifting Ruby Screencasts                                    │            5.0 │ 3             │\n",
       "│ 4aab5ff15099b0ab02…  │ Put You On Game Podcast                                      │            4.7 │ 22            │\n",
       "│ 556de49e8afdcbf578…  │ Raiders Talk                                                 │            4.4 │ 11            │\n",
       "│ 7446b144105254b4fc…  │ Pokemon World Tour: United                                   │            4.9 │ 12            │\n",
       "│ 47d43501a76b1e7fbc…  │ WP eCommerce Show                                            │            5.0 │ 2             │\n",
       "├──────────────────────┴──────────────────────────────────────────────────────────────┴────────────────┴───────────────┤\n",
       "│ ? rows (>9999 rows, 20 shown)                                                                              4 columns │\n",
       "└──────────────────────────────────────────────────────────────────────────────────────────────────────────────────────┘"
      ]
     },
     "execution_count": 137,
     "metadata": {},
     "output_type": "execute_result"
    }
   ],
   "source": [
    "#Look into data for reviews that have an average rating\n",
    "rated_podcasts = con.sql(\"select podcast_id,title,average_rating,ratings_count from podcasts where average_rating >= 0\")\n",
    "rated_podcasts"
   ]
  },
  {
   "cell_type": "code",
   "execution_count": 138,
   "metadata": {},
   "outputs": [],
   "source": [
    "total_podcast_ratings = 0\n",
    "rated_podcasts_df = rated_podcasts.df()\n",
    "podcast_ratings = []\n",
    "for (colname,colval) in rated_podcasts_df.iteritems():\n",
    "    if colname == \"ratings_count\":\n",
    "        for x in colval:\n",
    "            if  \"K\" not in x:\n",
    "                total_podcast_ratings += int(x)\n",
    "                podcast_ratings.append(int(x))\n",
    "            else:\n",
    "                formatted = float(x[0:x.find('K')])\n",
    "                total_podcast_ratings += (1000 * formatted)   \n",
    "                podcast_ratings.append(int(1000 * formatted))\n",
    "rated_podcasts_df.drop(\"ratings_count\", axis = 1, inplace = True)\n",
    "rated_podcasts_df[\"ratings_count\"] = podcast_ratings"
   ]
  },
  {
   "cell_type": "code",
   "execution_count": 139,
   "metadata": {},
   "outputs": [
    {
     "data": {
      "text/plain": [
       "82988"
      ]
     },
     "execution_count": 139,
     "metadata": {},
     "output_type": "execute_result"
    }
   ],
   "source": [
    "rated_podcasts_df.shape[0]"
   ]
  },
  {
   "cell_type": "code",
   "execution_count": 140,
   "metadata": {},
   "outputs": [
    {
     "data": {
      "text/html": [
       "<div>\n",
       "<style scoped>\n",
       "    .dataframe tbody tr th:only-of-type {\n",
       "        vertical-align: middle;\n",
       "    }\n",
       "\n",
       "    .dataframe tbody tr th {\n",
       "        vertical-align: top;\n",
       "    }\n",
       "\n",
       "    .dataframe thead th {\n",
       "        text-align: right;\n",
       "    }\n",
       "</style>\n",
       "<table border=\"1\" class=\"dataframe\">\n",
       "  <thead>\n",
       "    <tr style=\"text-align: right;\">\n",
       "      <th></th>\n",
       "      <th>podcast_id</th>\n",
       "      <th>title</th>\n",
       "      <th>average_rating</th>\n",
       "      <th>ratings_count</th>\n",
       "    </tr>\n",
       "  </thead>\n",
       "  <tbody>\n",
       "    <tr>\n",
       "      <th>0</th>\n",
       "      <td>f201172864310534ae6b6c4f8ae9b8cc</td>\n",
       "      <td>Rahdo Talks Through</td>\n",
       "      <td>4.6</td>\n",
       "      <td>60</td>\n",
       "    </tr>\n",
       "    <tr>\n",
       "      <th>1</th>\n",
       "      <td>3cfef94cfccf27eb504bd7a6c7459636</td>\n",
       "      <td>OriginALL</td>\n",
       "      <td>3.7</td>\n",
       "      <td>3</td>\n",
       "    </tr>\n",
       "    <tr>\n",
       "      <th>2</th>\n",
       "      <td>2f2205dcc248024b0a3be4665f38e33a</td>\n",
       "      <td>The Big Podcast With Shaq</td>\n",
       "      <td>4.6</td>\n",
       "      <td>1300</td>\n",
       "    </tr>\n",
       "    <tr>\n",
       "      <th>3</th>\n",
       "      <td>9fc35a81647e391f93211b5d11973c83</td>\n",
       "      <td>Galaktacus</td>\n",
       "      <td>5.0</td>\n",
       "      <td>20</td>\n",
       "    </tr>\n",
       "    <tr>\n",
       "      <th>4</th>\n",
       "      <td>ce2c3a68dda35600671acd32a1c15fc5</td>\n",
       "      <td>No Extra Words one person's search for story</td>\n",
       "      <td>5.0</td>\n",
       "      <td>11</td>\n",
       "    </tr>\n",
       "  </tbody>\n",
       "</table>\n",
       "</div>"
      ],
      "text/plain": [
       "                         podcast_id  \\\n",
       "0  f201172864310534ae6b6c4f8ae9b8cc   \n",
       "1  3cfef94cfccf27eb504bd7a6c7459636   \n",
       "2  2f2205dcc248024b0a3be4665f38e33a   \n",
       "3  9fc35a81647e391f93211b5d11973c83   \n",
       "4  ce2c3a68dda35600671acd32a1c15fc5   \n",
       "\n",
       "                                          title  average_rating  ratings_count  \n",
       "0                           Rahdo Talks Through             4.6             60  \n",
       "1                                     OriginALL             3.7              3  \n",
       "2                     The Big Podcast With Shaq             4.6           1300  \n",
       "3                                    Galaktacus             5.0             20  \n",
       "4  No Extra Words one person's search for story             5.0             11  "
      ]
     },
     "execution_count": 140,
     "metadata": {},
     "output_type": "execute_result"
    }
   ],
   "source": [
    "#First five values in rated podcasts data frame\n",
    "rated_podcasts_df.head()\n"
   ]
  },
  {
   "cell_type": "code",
   "execution_count": 141,
   "metadata": {},
   "outputs": [
    {
     "data": {
      "text/html": [
       "<div>\n",
       "<style scoped>\n",
       "    .dataframe tbody tr th:only-of-type {\n",
       "        vertical-align: middle;\n",
       "    }\n",
       "\n",
       "    .dataframe tbody tr th {\n",
       "        vertical-align: top;\n",
       "    }\n",
       "\n",
       "    .dataframe thead th {\n",
       "        text-align: right;\n",
       "    }\n",
       "</style>\n",
       "<table border=\"1\" class=\"dataframe\">\n",
       "  <thead>\n",
       "    <tr style=\"text-align: right;\">\n",
       "      <th></th>\n",
       "      <th>podcast_id</th>\n",
       "      <th>title</th>\n",
       "      <th>average_rating</th>\n",
       "      <th>ratings_count</th>\n",
       "    </tr>\n",
       "  </thead>\n",
       "  <tbody>\n",
       "    <tr>\n",
       "      <th>6022</th>\n",
       "      <td>608c549bece62f009d74396cacbb54c3</td>\n",
       "      <td>Pardon My Take</td>\n",
       "      <td>4.9</td>\n",
       "      <td>56000</td>\n",
       "    </tr>\n",
       "    <tr>\n",
       "      <th>12424</th>\n",
       "      <td>71819bcee712a1ad4aaa97fb8f1a5f09</td>\n",
       "      <td>Pod Save America</td>\n",
       "      <td>4.7</td>\n",
       "      <td>51000</td>\n",
       "    </tr>\n",
       "    <tr>\n",
       "      <th>57663</th>\n",
       "      <td>57008fd80e7d710ac9283f3e64e9c9a7</td>\n",
       "      <td>Stuff You Should Know</td>\n",
       "      <td>4.6</td>\n",
       "      <td>39000</td>\n",
       "    </tr>\n",
       "    <tr>\n",
       "      <th>12588</th>\n",
       "      <td>de8caf3e4e8178b0280a52c7b3d51486</td>\n",
       "      <td>Small Town Murder</td>\n",
       "      <td>4.9</td>\n",
       "      <td>31000</td>\n",
       "    </tr>\n",
       "    <tr>\n",
       "      <th>14355</th>\n",
       "      <td>e50884ba76af05b03683b693e2b3e8f7</td>\n",
       "      <td>Wait Wait...Don't Tell Me!</td>\n",
       "      <td>4.7</td>\n",
       "      <td>21000</td>\n",
       "    </tr>\n",
       "  </tbody>\n",
       "</table>\n",
       "</div>"
      ],
      "text/plain": [
       "                             podcast_id                       title  \\\n",
       "6022   608c549bece62f009d74396cacbb54c3              Pardon My Take   \n",
       "12424  71819bcee712a1ad4aaa97fb8f1a5f09            Pod Save America   \n",
       "57663  57008fd80e7d710ac9283f3e64e9c9a7       Stuff You Should Know   \n",
       "12588  de8caf3e4e8178b0280a52c7b3d51486           Small Town Murder   \n",
       "14355  e50884ba76af05b03683b693e2b3e8f7  Wait Wait...Don't Tell Me!   \n",
       "\n",
       "       average_rating  ratings_count  \n",
       "6022              4.9          56000  \n",
       "12424             4.7          51000  \n",
       "57663             4.6          39000  \n",
       "12588             4.9          31000  \n",
       "14355             4.7          21000  "
      ]
     },
     "execution_count": 141,
     "metadata": {},
     "output_type": "execute_result"
    }
   ],
   "source": [
    "#Most rated podcasts\n",
    "rated_podcasts_df.sort_values('ratings_count',ascending=False).head(5)"
   ]
  },
  {
   "cell_type": "code",
   "execution_count": 142,
   "metadata": {},
   "outputs": [
    {
     "data": {
      "text/html": [
       "<div>\n",
       "<style scoped>\n",
       "    .dataframe tbody tr th:only-of-type {\n",
       "        vertical-align: middle;\n",
       "    }\n",
       "\n",
       "    .dataframe tbody tr th {\n",
       "        vertical-align: top;\n",
       "    }\n",
       "\n",
       "    .dataframe thead th {\n",
       "        text-align: right;\n",
       "    }\n",
       "</style>\n",
       "<table border=\"1\" class=\"dataframe\">\n",
       "  <thead>\n",
       "    <tr style=\"text-align: right;\">\n",
       "      <th></th>\n",
       "      <th>podcast_id</th>\n",
       "      <th>title</th>\n",
       "      <th>average_rating</th>\n",
       "      <th>ratings_count</th>\n",
       "    </tr>\n",
       "  </thead>\n",
       "  <tbody>\n",
       "    <tr>\n",
       "      <th>41494</th>\n",
       "      <td>134a2d138569aec6b59dcf0b8ee4fb72</td>\n",
       "      <td>Cerealcast</td>\n",
       "      <td>5.0</td>\n",
       "      <td>1</td>\n",
       "    </tr>\n",
       "    <tr>\n",
       "      <th>42157</th>\n",
       "      <td>c020d87fec92abe047e6b392e4e74e6b</td>\n",
       "      <td>Global Denmark Podcast</td>\n",
       "      <td>5.0</td>\n",
       "      <td>9</td>\n",
       "    </tr>\n",
       "    <tr>\n",
       "      <th>40733</th>\n",
       "      <td>e00550eb3fe66294b4e1f78ab9d2bc6d</td>\n",
       "      <td>Faking It: An SFX Podcast</td>\n",
       "      <td>5.0</td>\n",
       "      <td>4</td>\n",
       "    </tr>\n",
       "    <tr>\n",
       "      <th>73774</th>\n",
       "      <td>239d9a6b1de44631a6a23122a7f956d5</td>\n",
       "      <td>NSVille</td>\n",
       "      <td>5.0</td>\n",
       "      <td>3</td>\n",
       "    </tr>\n",
       "    <tr>\n",
       "      <th>40735</th>\n",
       "      <td>66c41ef09462ddc13a76b31a81f977bd</td>\n",
       "      <td>Under The First Floor</td>\n",
       "      <td>5.0</td>\n",
       "      <td>5</td>\n",
       "    </tr>\n",
       "  </tbody>\n",
       "</table>\n",
       "</div>"
      ],
      "text/plain": [
       "                             podcast_id                      title  \\\n",
       "41494  134a2d138569aec6b59dcf0b8ee4fb72                 Cerealcast   \n",
       "42157  c020d87fec92abe047e6b392e4e74e6b     Global Denmark Podcast   \n",
       "40733  e00550eb3fe66294b4e1f78ab9d2bc6d  Faking It: An SFX Podcast   \n",
       "73774  239d9a6b1de44631a6a23122a7f956d5                    NSVille   \n",
       "40735  66c41ef09462ddc13a76b31a81f977bd      Under The First Floor   \n",
       "\n",
       "       average_rating  ratings_count  \n",
       "41494             5.0              1  \n",
       "42157             5.0              9  \n",
       "40733             5.0              4  \n",
       "73774             5.0              3  \n",
       "40735             5.0              5  "
      ]
     },
     "execution_count": 142,
     "metadata": {},
     "output_type": "execute_result"
    }
   ],
   "source": [
    "#Podcasts with top 5 average rating\n",
    "rated_podcasts_df.sort_values('average_rating',ascending=False).head(5)"
   ]
  },
  {
   "cell_type": "code",
   "execution_count": 143,
   "metadata": {},
   "outputs": [
    {
     "data": {
      "text/html": [
       "<div>\n",
       "<style scoped>\n",
       "    .dataframe tbody tr th:only-of-type {\n",
       "        vertical-align: middle;\n",
       "    }\n",
       "\n",
       "    .dataframe tbody tr th {\n",
       "        vertical-align: top;\n",
       "    }\n",
       "\n",
       "    .dataframe thead th {\n",
       "        text-align: right;\n",
       "    }\n",
       "</style>\n",
       "<table border=\"1\" class=\"dataframe\">\n",
       "  <thead>\n",
       "    <tr style=\"text-align: right;\">\n",
       "      <th></th>\n",
       "      <th>podcast_id</th>\n",
       "      <th>title</th>\n",
       "      <th>average_rating</th>\n",
       "      <th>ratings_count</th>\n",
       "    </tr>\n",
       "  </thead>\n",
       "  <tbody>\n",
       "    <tr>\n",
       "      <th>41479</th>\n",
       "      <td>2cb1f92d25e260d43d7c7131b78151e6</td>\n",
       "      <td>The Corp</td>\n",
       "      <td>5.0</td>\n",
       "      <td>9300</td>\n",
       "    </tr>\n",
       "    <tr>\n",
       "      <th>51386</th>\n",
       "      <td>e2bd23c58ea63ca8c8c6f6626fa438ca</td>\n",
       "      <td>The TryPod</td>\n",
       "      <td>5.0</td>\n",
       "      <td>8500</td>\n",
       "    </tr>\n",
       "    <tr>\n",
       "      <th>72481</th>\n",
       "      <td>dc70a11a1927080ebab98be779ca4322</td>\n",
       "      <td>Grumpy Old Geeks</td>\n",
       "      <td>5.0</td>\n",
       "      <td>6300</td>\n",
       "    </tr>\n",
       "    <tr>\n",
       "      <th>25308</th>\n",
       "      <td>a066be63e15cb4125eb83d4f72f855eb</td>\n",
       "      <td>The Anthropocene Reviewed</td>\n",
       "      <td>5.0</td>\n",
       "      <td>4100</td>\n",
       "    </tr>\n",
       "    <tr>\n",
       "      <th>51435</th>\n",
       "      <td>6bd787536fb3505dc3c6e091829bfa98</td>\n",
       "      <td>Cal's Week in Review</td>\n",
       "      <td>5.0</td>\n",
       "      <td>4000</td>\n",
       "    </tr>\n",
       "  </tbody>\n",
       "</table>\n",
       "</div>"
      ],
      "text/plain": [
       "                             podcast_id                      title  \\\n",
       "41479  2cb1f92d25e260d43d7c7131b78151e6                   The Corp   \n",
       "51386  e2bd23c58ea63ca8c8c6f6626fa438ca                 The TryPod   \n",
       "72481  dc70a11a1927080ebab98be779ca4322           Grumpy Old Geeks   \n",
       "25308  a066be63e15cb4125eb83d4f72f855eb  The Anthropocene Reviewed   \n",
       "51435  6bd787536fb3505dc3c6e091829bfa98       Cal's Week in Review   \n",
       "\n",
       "       average_rating  ratings_count  \n",
       "41479             5.0           9300  \n",
       "51386             5.0           8500  \n",
       "72481             5.0           6300  \n",
       "25308             5.0           4100  \n",
       "51435             5.0           4000  "
      ]
     },
     "execution_count": 143,
     "metadata": {},
     "output_type": "execute_result"
    }
   ],
   "source": [
    "#Top rated podcasts with most ratings\n",
    "rated_podcasts_df.sort_values(['average_rating', 'ratings_count'],\n",
    "              ascending = [False, False]).head(5)"
   ]
  },
  {
   "cell_type": "code",
   "execution_count": 144,
   "metadata": {},
   "outputs": [
    {
     "data": {
      "text/html": [
       "<div>\n",
       "<style scoped>\n",
       "    .dataframe tbody tr th:only-of-type {\n",
       "        vertical-align: middle;\n",
       "    }\n",
       "\n",
       "    .dataframe tbody tr th {\n",
       "        vertical-align: top;\n",
       "    }\n",
       "\n",
       "    .dataframe thead th {\n",
       "        text-align: right;\n",
       "    }\n",
       "</style>\n",
       "<table border=\"1\" class=\"dataframe\">\n",
       "  <thead>\n",
       "    <tr style=\"text-align: right;\">\n",
       "      <th></th>\n",
       "      <th>podcast_id</th>\n",
       "      <th>itunes_id</th>\n",
       "      <th>category</th>\n",
       "    </tr>\n",
       "  </thead>\n",
       "  <tbody>\n",
       "    <tr>\n",
       "      <th>0</th>\n",
       "      <td>943d1c4349913bde09ef82b69f83cfdf</td>\n",
       "      <td>1446474395</td>\n",
       "      <td>education</td>\n",
       "    </tr>\n",
       "    <tr>\n",
       "      <th>1</th>\n",
       "      <td>f53f27d03cdc5040ab4fd2ea30e3dd4f</td>\n",
       "      <td>840646770</td>\n",
       "      <td>society-culture</td>\n",
       "    </tr>\n",
       "    <tr>\n",
       "      <th>2</th>\n",
       "      <td>49fa5f1097ae9046ce1a0c56e31b533c</td>\n",
       "      <td>1541959455</td>\n",
       "      <td>arts-performing-arts</td>\n",
       "    </tr>\n",
       "    <tr>\n",
       "      <th>3</th>\n",
       "      <td>dbe2dc5aa097523aa294a3b659293af4</td>\n",
       "      <td>1146609744</td>\n",
       "      <td>tv-film</td>\n",
       "    </tr>\n",
       "    <tr>\n",
       "      <th>4</th>\n",
       "      <td>2349ed9d26f16029cfc69902bf319ca5</td>\n",
       "      <td>1475252651</td>\n",
       "      <td>education</td>\n",
       "    </tr>\n",
       "  </tbody>\n",
       "</table>\n",
       "</div>"
      ],
      "text/plain": [
       "                         podcast_id   itunes_id              category\n",
       "0  943d1c4349913bde09ef82b69f83cfdf  1446474395             education\n",
       "1  f53f27d03cdc5040ab4fd2ea30e3dd4f   840646770       society-culture\n",
       "2  49fa5f1097ae9046ce1a0c56e31b533c  1541959455  arts-performing-arts\n",
       "3  dbe2dc5aa097523aa294a3b659293af4  1146609744               tv-film\n",
       "4  2349ed9d26f16029cfc69902bf319ca5  1475252651             education"
      ]
     },
     "execution_count": 144,
     "metadata": {},
     "output_type": "execute_result"
    }
   ],
   "source": [
    "con.sql(\"select * from categories\").df().head(5)"
   ]
  },
  {
   "cell_type": "code",
   "execution_count": 145,
   "metadata": {},
   "outputs": [
    {
     "data": {
      "text/html": [
       "<div>\n",
       "<style scoped>\n",
       "    .dataframe tbody tr th:only-of-type {\n",
       "        vertical-align: middle;\n",
       "    }\n",
       "\n",
       "    .dataframe tbody tr th {\n",
       "        vertical-align: top;\n",
       "    }\n",
       "\n",
       "    .dataframe thead th {\n",
       "        text-align: right;\n",
       "    }\n",
       "</style>\n",
       "<table border=\"1\" class=\"dataframe\">\n",
       "  <thead>\n",
       "    <tr style=\"text-align: right;\">\n",
       "      <th></th>\n",
       "      <th>unique_categories</th>\n",
       "    </tr>\n",
       "  </thead>\n",
       "  <tbody>\n",
       "    <tr>\n",
       "      <th>0</th>\n",
       "      <td>110</td>\n",
       "    </tr>\n",
       "  </tbody>\n",
       "</table>\n",
       "</div>"
      ],
      "text/plain": [
       "   unique_categories\n",
       "0                110"
      ]
     },
     "execution_count": 145,
     "metadata": {},
     "output_type": "execute_result"
    }
   ],
   "source": [
    "#Unique Categories\n",
    "con.sql(\"select count(distinct category) as unique_categories from categories\").df().head(5)"
   ]
  },
  {
   "cell_type": "code",
   "execution_count": 146,
   "metadata": {},
   "outputs": [
    {
     "data": {
      "text/html": [
       "<div>\n",
       "<style scoped>\n",
       "    .dataframe tbody tr th:only-of-type {\n",
       "        vertical-align: middle;\n",
       "    }\n",
       "\n",
       "    .dataframe tbody tr th {\n",
       "        vertical-align: top;\n",
       "    }\n",
       "\n",
       "    .dataframe thead th {\n",
       "        text-align: right;\n",
       "    }\n",
       "</style>\n",
       "<table border=\"1\" class=\"dataframe\">\n",
       "  <thead>\n",
       "    <tr style=\"text-align: right;\">\n",
       "      <th></th>\n",
       "      <th>category</th>\n",
       "      <th>count</th>\n",
       "    </tr>\n",
       "  </thead>\n",
       "  <tbody>\n",
       "    <tr>\n",
       "      <th>0</th>\n",
       "      <td>business</td>\n",
       "      <td>211977</td>\n",
       "    </tr>\n",
       "    <tr>\n",
       "      <th>1</th>\n",
       "      <td>tv-film</td>\n",
       "      <td>68639</td>\n",
       "    </tr>\n",
       "    <tr>\n",
       "      <th>2</th>\n",
       "      <td>education-courses</td>\n",
       "      <td>40668</td>\n",
       "    </tr>\n",
       "    <tr>\n",
       "      <th>3</th>\n",
       "      <td>society-culture-personal-journals</td>\n",
       "      <td>75815</td>\n",
       "    </tr>\n",
       "    <tr>\n",
       "      <th>4</th>\n",
       "      <td>arts-books</td>\n",
       "      <td>90382</td>\n",
       "    </tr>\n",
       "  </tbody>\n",
       "</table>\n",
       "</div>"
      ],
      "text/plain": [
       "                            category   count\n",
       "0                           business  211977\n",
       "1                            tv-film   68639\n",
       "2                  education-courses   40668\n",
       "3  society-culture-personal-journals   75815\n",
       "4                         arts-books   90382"
      ]
     },
     "execution_count": 146,
     "metadata": {},
     "output_type": "execute_result"
    }
   ],
   "source": [
    "categories = con.sql(\"select category,count(category) as count from categories group by category\").df()\n",
    "categories.head()"
   ]
  },
  {
   "cell_type": "code",
   "execution_count": 147,
   "metadata": {},
   "outputs": [
    {
     "data": {
      "text/html": [
       "<div>\n",
       "<style scoped>\n",
       "    .dataframe tbody tr th:only-of-type {\n",
       "        vertical-align: middle;\n",
       "    }\n",
       "\n",
       "    .dataframe tbody tr th {\n",
       "        vertical-align: top;\n",
       "    }\n",
       "\n",
       "    .dataframe thead th {\n",
       "        text-align: right;\n",
       "    }\n",
       "</style>\n",
       "<table border=\"1\" class=\"dataframe\">\n",
       "  <thead>\n",
       "    <tr style=\"text-align: right;\">\n",
       "      <th></th>\n",
       "      <th>category</th>\n",
       "      <th>count</th>\n",
       "    </tr>\n",
       "  </thead>\n",
       "  <tbody>\n",
       "    <tr>\n",
       "      <th>27</th>\n",
       "      <td>education</td>\n",
       "      <td>311924</td>\n",
       "    </tr>\n",
       "    <tr>\n",
       "      <th>12</th>\n",
       "      <td>society-culture</td>\n",
       "      <td>301139</td>\n",
       "    </tr>\n",
       "    <tr>\n",
       "      <th>6</th>\n",
       "      <td>arts</td>\n",
       "      <td>227713</td>\n",
       "    </tr>\n",
       "    <tr>\n",
       "      <th>0</th>\n",
       "      <td>business</td>\n",
       "      <td>211977</td>\n",
       "    </tr>\n",
       "    <tr>\n",
       "      <th>8</th>\n",
       "      <td>religion-spirituality</td>\n",
       "      <td>206257</td>\n",
       "    </tr>\n",
       "  </tbody>\n",
       "</table>\n",
       "</div>"
      ],
      "text/plain": [
       "                 category   count\n",
       "27              education  311924\n",
       "12        society-culture  301139\n",
       "6                    arts  227713\n",
       "0                business  211977\n",
       "8   religion-spirituality  206257"
      ]
     },
     "execution_count": 147,
     "metadata": {},
     "output_type": "execute_result"
    }
   ],
   "source": [
    "#Top 5 most common categories\n",
    "categories.sort_values('count',ascending=False).head(5)"
   ]
  },
  {
   "cell_type": "code",
   "execution_count": 148,
   "metadata": {},
   "outputs": [
    {
     "data": {
      "text/html": [
       "<div>\n",
       "<style scoped>\n",
       "    .dataframe tbody tr th:only-of-type {\n",
       "        vertical-align: middle;\n",
       "    }\n",
       "\n",
       "    .dataframe tbody tr th {\n",
       "        vertical-align: top;\n",
       "    }\n",
       "\n",
       "    .dataframe thead th {\n",
       "        text-align: right;\n",
       "    }\n",
       "</style>\n",
       "<table border=\"1\" class=\"dataframe\">\n",
       "  <thead>\n",
       "    <tr style=\"text-align: right;\">\n",
       "      <th></th>\n",
       "      <th>category</th>\n",
       "      <th>count</th>\n",
       "    </tr>\n",
       "  </thead>\n",
       "  <tbody>\n",
       "    <tr>\n",
       "      <th>108</th>\n",
       "      <td>sports-volleyball</td>\n",
       "      <td>265</td>\n",
       "    </tr>\n",
       "    <tr>\n",
       "      <th>107</th>\n",
       "      <td>sports-swimming</td>\n",
       "      <td>304</td>\n",
       "    </tr>\n",
       "    <tr>\n",
       "      <th>82</th>\n",
       "      <td>sports-tennis</td>\n",
       "      <td>563</td>\n",
       "    </tr>\n",
       "    <tr>\n",
       "      <th>105</th>\n",
       "      <td>sports-rugby</td>\n",
       "      <td>648</td>\n",
       "    </tr>\n",
       "    <tr>\n",
       "      <th>104</th>\n",
       "      <td>sports-cricket</td>\n",
       "      <td>755</td>\n",
       "    </tr>\n",
       "  </tbody>\n",
       "</table>\n",
       "</div>"
      ],
      "text/plain": [
       "              category  count\n",
       "108  sports-volleyball    265\n",
       "107    sports-swimming    304\n",
       "82       sports-tennis    563\n",
       "105       sports-rugby    648\n",
       "104     sports-cricket    755"
      ]
     },
     "execution_count": 148,
     "metadata": {},
     "output_type": "execute_result"
    }
   ],
   "source": [
    "#Bottom 5 most common categories\n",
    "categories.sort_values('count',ascending=True).head(5)"
   ]
  }
 ],
 "metadata": {
  "kernelspec": {
   "display_name": "Python 3",
   "language": "python",
   "name": "python3"
  },
  "language_info": {
   "codemirror_mode": {
    "name": "ipython",
    "version": 3
   },
   "file_extension": ".py",
   "mimetype": "text/x-python",
   "name": "python",
   "nbconvert_exporter": "python",
   "pygments_lexer": "ipython3",
   "version": "3.10.8"
  },
  "orig_nbformat": 4
 },
 "nbformat": 4,
 "nbformat_minor": 2
}
