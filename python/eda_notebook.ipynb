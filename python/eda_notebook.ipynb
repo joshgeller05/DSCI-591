{
 "cells": [
  {
   "cell_type": "code",
   "execution_count": 227,
   "metadata": {},
   "outputs": [
    {
     "name": "stdout",
     "output_type": "stream",
     "text": [
      "Requirement already satisfied: duckdb in c:\\users\\joshg\\appdata\\local\\programs\\python\\python310\\lib\\site-packages (0.7.1)\n",
      "Note: you may need to restart the kernel to use updated packages.\n"
     ]
    },
    {
     "name": "stderr",
     "output_type": "stream",
     "text": [
      "\n",
      "[notice] A new release of pip available: 22.3.1 -> 23.1.2\n",
      "[notice] To update, run: python.exe -m pip install --upgrade pip\n"
     ]
    }
   ],
   "source": [
    "pip install duckdb\n"
   ]
  },
  {
   "cell_type": "code",
   "execution_count": 228,
   "metadata": {},
   "outputs": [],
   "source": [
    "#imports\n",
    "import duckdb\n",
    "import warnings\n",
    "import pandas as pd"
   ]
  },
  {
   "cell_type": "code",
   "execution_count": 229,
   "metadata": {},
   "outputs": [],
   "source": [
    "#Settings\n",
    "pd.set_option('display.max_columns', None)\n",
    "warnings.simplefilter(action='ignore', category=FutureWarning) "
   ]
  },
  {
   "cell_type": "code",
   "execution_count": 230,
   "metadata": {},
   "outputs": [],
   "source": [
    "# create a connection to a file called 'database.db'\n",
    "con = duckdb.connect('database.db')"
   ]
  },
  {
   "cell_type": "code",
   "execution_count": 231,
   "metadata": {},
   "outputs": [
    {
     "data": {
      "text/plain": [
       "┌────────────────┬─────────────┬─────────┬─────────┬─────────┬───────┐\n",
       "│  column_name   │ column_type │  null   │   key   │ default │ extra │\n",
       "│    varchar     │   varchar   │ varchar │ varchar │ varchar │ int32 │\n",
       "├────────────────┼─────────────┼─────────┼─────────┼─────────┼───────┤\n",
       "│ podcast_id     │ VARCHAR     │ YES     │ NULL    │ NULL    │  NULL │\n",
       "│ itunes_id      │ VARCHAR     │ YES     │ NULL    │ NULL    │  NULL │\n",
       "│ slug           │ VARCHAR     │ YES     │ NULL    │ NULL    │  NULL │\n",
       "│ itunes_url     │ VARCHAR     │ YES     │ NULL    │ NULL    │  NULL │\n",
       "│ title          │ VARCHAR     │ YES     │ NULL    │ NULL    │  NULL │\n",
       "│ author         │ VARCHAR     │ YES     │ NULL    │ NULL    │  NULL │\n",
       "│ description    │ VARCHAR     │ YES     │ NULL    │ NULL    │  NULL │\n",
       "│ average_rating │ DOUBLE      │ YES     │ NULL    │ NULL    │  NULL │\n",
       "│ ratings_count  │ VARCHAR     │ YES     │ NULL    │ NULL    │  NULL │\n",
       "│ scraped_at     │ TIMESTAMP   │ YES     │ NULL    │ NULL    │  NULL │\n",
       "├────────────────┴─────────────┴─────────┴─────────┴─────────┴───────┤\n",
       "│ 10 rows                                                  6 columns │\n",
       "└────────────────────────────────────────────────────────────────────┘"
      ]
     },
     "execution_count": 231,
     "metadata": {},
     "output_type": "execute_result"
    }
   ],
   "source": [
    "#describe podcasts table\n",
    "con.sql(\"describe podcasts\")"
   ]
  },
  {
   "cell_type": "code",
   "execution_count": 232,
   "metadata": {
    "scrolled": true
   },
   "outputs": [
    {
     "data": {
      "text/plain": [
       "┌─────────────┬─────────────┬─────────┬─────────┬─────────┬───────┐\n",
       "│ column_name │ column_type │  null   │   key   │ default │ extra │\n",
       "│   varchar   │   varchar   │ varchar │ varchar │ varchar │ int32 │\n",
       "├─────────────┼─────────────┼─────────┼─────────┼─────────┼───────┤\n",
       "│ podcast_id  │ VARCHAR     │ YES     │ NULL    │ NULL    │  NULL │\n",
       "│ itunes_id   │ VARCHAR     │ YES     │ NULL    │ NULL    │  NULL │\n",
       "│ category    │ VARCHAR     │ YES     │ NULL    │ NULL    │  NULL │\n",
       "└─────────────┴─────────────┴─────────┴─────────┴─────────┴───────┘"
      ]
     },
     "execution_count": 232,
     "metadata": {},
     "output_type": "execute_result"
    }
   ],
   "source": [
    "#describe categories table\n",
    "con.sql(\"describe categories\")"
   ]
  },
  {
   "cell_type": "code",
   "execution_count": 233,
   "metadata": {},
   "outputs": [
    {
     "data": {
      "text/plain": [
       "┌─────────────┬──────────────────────────┬─────────┬─────────┬─────────┬───────┐\n",
       "│ column_name │       column_type        │  null   │   key   │ default │ extra │\n",
       "│   varchar   │         varchar          │ varchar │ varchar │ varchar │ int32 │\n",
       "├─────────────┼──────────────────────────┼─────────┼─────────┼─────────┼───────┤\n",
       "│ podcast_id  │ VARCHAR                  │ YES     │ NULL    │ NULL    │  NULL │\n",
       "│ title       │ VARCHAR                  │ YES     │ NULL    │ NULL    │  NULL │\n",
       "│ content     │ VARCHAR                  │ YES     │ NULL    │ NULL    │  NULL │\n",
       "│ rating      │ INTEGER                  │ YES     │ NULL    │ NULL    │  NULL │\n",
       "│ author_id   │ VARCHAR                  │ YES     │ NULL    │ NULL    │  NULL │\n",
       "│ created_at  │ TIMESTAMP WITH TIME ZONE │ YES     │ NULL    │ NULL    │  NULL │\n",
       "└─────────────┴──────────────────────────┴─────────┴─────────┴─────────┴───────┘"
      ]
     },
     "execution_count": 233,
     "metadata": {},
     "output_type": "execute_result"
    }
   ],
   "source": [
    "#describe reviews table\n",
    "con.sql(\"describe reviews\")\n"
   ]
  },
  {
   "cell_type": "code",
   "execution_count": 234,
   "metadata": {},
   "outputs": [
    {
     "data": {
      "text/plain": [
       "┌──────────────────────┬──────────────────────┬──────────────────────┬────────┬─────────────────┬──────────────────────┐\n",
       "│      podcast_id      │        title         │       content        │ rating │    author_id    │      created_at      │\n",
       "│       varchar        │       varchar        │       varchar        │ int32  │     varchar     │ timestamp with tim…  │\n",
       "├──────────────────────┼──────────────────────┼──────────────────────┼────────┼─────────────────┼──────────────────────┤\n",
       "│ 52e3d2c4fab4e80a8b…  │ Argh                 │ What the heck is t…  │      1 │ a23655ce5565f32 │ 2019-04-30 21:24:0…  │\n",
       "│ 52e3d2c4fab4e80a8b…  │ Miss gross overrat…  │ The Howard stern i…  │      1 │ e5d461c5f91c8d2 │ 2019-06-07 10:25:3…  │\n",
       "│ 52e3d2c4fab4e80a8b…  │ I love Terri and F…  │ People get really …  │      5 │ 806cc75442c8f3d │ 2019-05-15 05:42:5…  │\n",
       "│ 52e3d2c4fab4e80a8b…  │ Fresh Air subscrip…  │ I’ve been a subscr…  │      4 │ 3e1e7e8417a3e85 │ 2019-05-05 22:39:1…  │\n",
       "│ 52e3d2c4fab4e80a8b…  │ Climate change       │ Hello, my name is …  │      5 │ 7c680144b582c6d │ 2019-04-17 20:37:5…  │\n",
       "└──────────────────────┴──────────────────────┴──────────────────────┴────────┴─────────────────┴──────────────────────┘"
      ]
     },
     "execution_count": 234,
     "metadata": {},
     "output_type": "execute_result"
    }
   ],
   "source": [
    "#Look into data for reviews\n",
    "con.sql(\"select * from reviews limit 5\")"
   ]
  },
  {
   "cell_type": "code",
   "execution_count": 235,
   "metadata": {},
   "outputs": [
    {
     "data": {
      "text/plain": [
       "┌─────────────────────────┐\n",
       "│ total_number_of_reviews │\n",
       "│          int64          │\n",
       "├─────────────────────────┤\n",
       "│                 5607021 │\n",
       "└─────────────────────────┘"
      ]
     },
     "execution_count": 235,
     "metadata": {},
     "output_type": "execute_result"
    }
   ],
   "source": [
    "#Total Number of reviews\n",
    "con.sql(\"select count(*) as total_number_of_reviews from reviews\")"
   ]
  },
  {
   "cell_type": "code",
   "execution_count": 236,
   "metadata": {},
   "outputs": [
    {
     "data": {
      "text/plain": [
       "┌────────────────┐\n",
       "│ unique_authors │\n",
       "│     int64      │\n",
       "├────────────────┤\n",
       "│        3256501 │\n",
       "└────────────────┘"
      ]
     },
     "execution_count": 236,
     "metadata": {},
     "output_type": "execute_result"
    }
   ],
   "source": [
    "#Unique authors contributing reviews\n",
    "con.sql(\"select count(DISTINCT author_id) as unique_authors from reviews\")"
   ]
  },
  {
   "cell_type": "code",
   "execution_count": 237,
   "metadata": {},
   "outputs": [
    {
     "data": {
      "text/plain": [
       "┌─────────────────┬───────┐\n",
       "│    author_id    │ count │\n",
       "│     varchar     │ int64 │\n",
       "├─────────────────┼───────┤\n",
       "│ 0191ff7c2fec960 │     2 │\n",
       "│ 6d86e0eb671e609 │     2 │\n",
       "│ d4fbc58a8923fcd │     2 │\n",
       "│ 79ddba0f22f9f09 │     1 │\n",
       "│ ad1ba31f2d78961 │     2 │\n",
       "│ 211661217ba3b4a │     1 │\n",
       "│ 48b1335b6526740 │     1 │\n",
       "│ cc715dc933f22a3 │     2 │\n",
       "│ f23a717c03e4c3b │     4 │\n",
       "│ a8e7d5c946257f1 │     1 │\n",
       "│        ·        │     · │\n",
       "│        ·        │     · │\n",
       "│        ·        │     · │\n",
       "│ d8694d93cc91916 │     1 │\n",
       "│ 4c26227c03bebc9 │     1 │\n",
       "│ 0a89a585902fde4 │     1 │\n",
       "│ 39e593a515bea95 │    14 │\n",
       "│ e34f58ce5cb9071 │     1 │\n",
       "│ 33b066e71e6185c │    14 │\n",
       "│ f30ebf73ea5778a │     7 │\n",
       "│ ac0f589b36c8c5e │     3 │\n",
       "│ 94c273f5ca60fe5 │     3 │\n",
       "│ 76d0776621481a5 │     4 │\n",
       "├─────────────────┴───────┤\n",
       "│ ? rows        2 columns │\n",
       "└─────────────────────────┘"
      ]
     },
     "execution_count": 237,
     "metadata": {},
     "output_type": "execute_result"
    }
   ],
   "source": [
    "authors = con.sql(\"select author_id,count(author_id) as count from reviews group by author_id\")\n",
    "authors"
   ]
  },
  {
   "cell_type": "code",
   "execution_count": 238,
   "metadata": {},
   "outputs": [
    {
     "data": {
      "text/html": [
       "<div>\n",
       "<style scoped>\n",
       "    .dataframe tbody tr th:only-of-type {\n",
       "        vertical-align: middle;\n",
       "    }\n",
       "\n",
       "    .dataframe tbody tr th {\n",
       "        vertical-align: top;\n",
       "    }\n",
       "\n",
       "    .dataframe thead th {\n",
       "        text-align: right;\n",
       "    }\n",
       "</style>\n",
       "<table border=\"1\" class=\"dataframe\">\n",
       "  <thead>\n",
       "    <tr style=\"text-align: right;\">\n",
       "      <th></th>\n",
       "      <th>author_id</th>\n",
       "      <th>count</th>\n",
       "    </tr>\n",
       "  </thead>\n",
       "  <tbody>\n",
       "    <tr>\n",
       "      <th>3047302</th>\n",
       "      <td>d3307adeffa285c</td>\n",
       "      <td>1681</td>\n",
       "    </tr>\n",
       "    <tr>\n",
       "      <th>3235255</th>\n",
       "      <td>791f376aca3c08d</td>\n",
       "      <td>1303</td>\n",
       "    </tr>\n",
       "    <tr>\n",
       "      <th>2552726</th>\n",
       "      <td>8ea31f030185a88</td>\n",
       "      <td>1248</td>\n",
       "    </tr>\n",
       "    <tr>\n",
       "      <th>218759</th>\n",
       "      <td>96a3f0358e7808d</td>\n",
       "      <td>1229</td>\n",
       "    </tr>\n",
       "    <tr>\n",
       "      <th>1037264</th>\n",
       "      <td>04c3b6defe22fb1</td>\n",
       "      <td>1094</td>\n",
       "    </tr>\n",
       "  </tbody>\n",
       "</table>\n",
       "</div>"
      ],
      "text/plain": [
       "               author_id  count\n",
       "3047302  d3307adeffa285c   1681\n",
       "3235255  791f376aca3c08d   1303\n",
       "2552726  8ea31f030185a88   1248\n",
       "218759   96a3f0358e7808d   1229\n",
       "1037264  04c3b6defe22fb1   1094"
      ]
     },
     "execution_count": 238,
     "metadata": {},
     "output_type": "execute_result"
    }
   ],
   "source": [
    "#Top 5 authors\n",
    "authors.df().sort_values('count',ascending=False).head(5)"
   ]
  },
  {
   "cell_type": "code",
   "execution_count": 239,
   "metadata": {},
   "outputs": [
    {
     "data": {
      "text/html": [
       "<div>\n",
       "<style scoped>\n",
       "    .dataframe tbody tr th:only-of-type {\n",
       "        vertical-align: middle;\n",
       "    }\n",
       "\n",
       "    .dataframe tbody tr th {\n",
       "        vertical-align: top;\n",
       "    }\n",
       "\n",
       "    .dataframe thead th {\n",
       "        text-align: right;\n",
       "    }\n",
       "</style>\n",
       "<table border=\"1\" class=\"dataframe\">\n",
       "  <thead>\n",
       "    <tr style=\"text-align: right;\">\n",
       "      <th></th>\n",
       "      <th>author_id</th>\n",
       "      <th>count</th>\n",
       "    </tr>\n",
       "  </thead>\n",
       "  <tbody>\n",
       "    <tr>\n",
       "      <th>1628250</th>\n",
       "      <td>f5be2894c78a370</td>\n",
       "      <td>1</td>\n",
       "    </tr>\n",
       "    <tr>\n",
       "      <th>1996994</th>\n",
       "      <td>4432f7ddd102128</td>\n",
       "      <td>1</td>\n",
       "    </tr>\n",
       "    <tr>\n",
       "      <th>1996995</th>\n",
       "      <td>f41a37a7a4c1d0d</td>\n",
       "      <td>1</td>\n",
       "    </tr>\n",
       "    <tr>\n",
       "      <th>1996997</th>\n",
       "      <td>ab9e12475c83990</td>\n",
       "      <td>1</td>\n",
       "    </tr>\n",
       "    <tr>\n",
       "      <th>1996999</th>\n",
       "      <td>365622517a65895</td>\n",
       "      <td>1</td>\n",
       "    </tr>\n",
       "  </tbody>\n",
       "</table>\n",
       "</div>"
      ],
      "text/plain": [
       "               author_id  count\n",
       "1628250  f5be2894c78a370      1\n",
       "1996994  4432f7ddd102128      1\n",
       "1996995  f41a37a7a4c1d0d      1\n",
       "1996997  ab9e12475c83990      1\n",
       "1996999  365622517a65895      1"
      ]
     },
     "execution_count": 239,
     "metadata": {},
     "output_type": "execute_result"
    }
   ],
   "source": [
    "#Bottom 5 authors\n",
    "authors.df().sort_values('count',ascending=True).head(5)"
   ]
  },
  {
   "cell_type": "code",
   "execution_count": 240,
   "metadata": {},
   "outputs": [
    {
     "data": {
      "text/plain": [
       "┌──────────────────────┬──────────────────────┬───────────────────────────────────────┬────────────────┬───────────────┐\n",
       "│      podcast_id      │        author        │                 title                 │ average_rating │ ratings_count │\n",
       "│       varchar        │       varchar        │                varchar                │     double     │    varchar    │\n",
       "├──────────────────────┼──────────────────────┼───────────────────────────────────────┼────────────────┼───────────────┤\n",
       "│ f201172864310534ae…  │ noreply@blogger.co…  │ Rahdo Talks Through                   │            4.6 │ 60            │\n",
       "│ 3cfef94cfccf27eb50…  │ CityPodcast          │ OriginALL                             │            3.7 │ 3             │\n",
       "│ 2f2205dcc248024b0a…  │ PodcastOne           │ The Big Podcast With Shaq             │            4.6 │ 1.3K          │\n",
       "│ 9fc35a81647e391f93…  │ Jim Kettner, John …  │ Galaktacus                            │            5.0 │ 20            │\n",
       "│ ce2c3a68dda3560067…  │ Kris Baker Dersch    │ No Extra Words one person's search …  │            5.0 │ 11            │\n",
       "│ aed410e50370beec62…  │ Todd Mizener         │ The Talking Pictures Podcast          │            5.0 │ 9             │\n",
       "│ 4e4a0f1b26f268e35a…  │ PeloTonOfFun Podcast │ PeloTonOfFun                          │            5.0 │ 7             │\n",
       "│ 7069df204b03df17ae…  │ James Boulton        │ Queens of England Podcast             │            4.9 │ 32            │\n",
       "│ f98b6e3aa3685694e8…  │ L/L Research         │ L/L Research's Podcast: In the Now    │            5.0 │ 22            │\n",
       "│ a48e5560ae4da6dc5d…  │ The Gluten Free Chef │ Ask The Gluten Free Chef              │            4.7 │ 3             │\n",
       "│          ·           │       ·              │            ·                          │             ·  │ ·             │\n",
       "│          ·           │       ·              │            ·                          │             ·  │ ·             │\n",
       "│          ·           │       ·              │            ·                          │             ·  │ ·             │\n",
       "│ 3a9c4f7fccf2ac8c53…  │ Chris Goyzueta       │ Making It with Chris G.               │            4.9 │ 66            │\n",
       "│ 1bd5b9be3e850690ee…  │ KMUW Movie Club      │ KMUW Movie Club                       │            5.0 │ 1             │\n",
       "│ 3cc6742ba28ee62d6c…  │ You are SWIM         │ You are SWIM                          │            5.0 │ 1             │\n",
       "│ bbb3feb37d49ba35e6…  │ Fantasy Hockey Blo…  │ Fantasy Hockey Blog at Razzball.com   │            4.1 │ 11            │\n",
       "│ 1bcd7d360d6a220ef3…  │ produced by Grayso…  │ Walking the Labyrinth: Inside Emplo…  │            5.0 │ 3             │\n",
       "│ 7632ce9cdde646daed…  │ Dave Kimura          │ Drifting Ruby Screencasts             │            5.0 │ 3             │\n",
       "│ 4aab5ff15099b0ab02…  │ putyouongam3.com     │ Put You On Game Podcast               │            4.7 │ 22            │\n",
       "│ 556de49e8afdcbf578…  │ Bay Area News Group  │ Raiders Talk                          │            4.4 │ 11            │\n",
       "│ 7446b144105254b4fc…  │ Hey! Jake and Josh   │ Pokemon World Tour: United            │            4.9 │ 12            │\n",
       "│ 47d43501a76b1e7fbc…  │ BobWP                │ WP eCommerce Show                     │            5.0 │ 2             │\n",
       "├──────────────────────┴──────────────────────┴───────────────────────────────────────┴────────────────┴───────────────┤\n",
       "│ ? rows (>9999 rows, 20 shown)                                                                              5 columns │\n",
       "└──────────────────────────────────────────────────────────────────────────────────────────────────────────────────────┘"
      ]
     },
     "execution_count": 240,
     "metadata": {},
     "output_type": "execute_result"
    }
   ],
   "source": [
    "#Look into data for reviews that have an average rating\n",
    "rated_podcasts = con.sql(\"select podcast_id,author,title,average_rating,ratings_count from podcasts where average_rating >= 0\")\n",
    "rated_podcasts"
   ]
  },
  {
   "cell_type": "code",
   "execution_count": 241,
   "metadata": {},
   "outputs": [],
   "source": [
    "rated_podcasts = con.sql(\"select podcast_id,author,title,average_rating,ratings_count from podcasts where average_rating >= 0\")\n",
    "total_podcast_ratings = 0\n",
    "rated_podcasts_df = rated_podcasts.df()\n",
    "podcast_ratings = []\n",
    "for (colname,colval) in rated_podcasts_df.iteritems():\n",
    "    if colname == \"ratings_count\":\n",
    "        for x in colval:\n",
    "            if  \"K\" not in x:\n",
    "                total_podcast_ratings += int(x)\n",
    "                podcast_ratings.append(int(x))\n",
    "            else:\n",
    "                formatted = float(x[0:x.find('K')])\n",
    "                total_podcast_ratings += (1000 * formatted)   \n",
    "                podcast_ratings.append(int(1000 * formatted))\n",
    "rated_podcasts_df.drop(\"ratings_count\", axis = 1, inplace = True)\n",
    "rated_podcasts_df[\"ratings_count\"] = podcast_ratings"
   ]
  },
  {
   "cell_type": "code",
   "execution_count": 242,
   "metadata": {},
   "outputs": [
    {
     "data": {
      "text/html": [
       "<div>\n",
       "<style scoped>\n",
       "    .dataframe tbody tr th:only-of-type {\n",
       "        vertical-align: middle;\n",
       "    }\n",
       "\n",
       "    .dataframe tbody tr th {\n",
       "        vertical-align: top;\n",
       "    }\n",
       "\n",
       "    .dataframe thead th {\n",
       "        text-align: right;\n",
       "    }\n",
       "</style>\n",
       "<table border=\"1\" class=\"dataframe\">\n",
       "  <thead>\n",
       "    <tr style=\"text-align: right;\">\n",
       "      <th></th>\n",
       "      <th>podcast_id</th>\n",
       "      <th>author</th>\n",
       "      <th>title</th>\n",
       "      <th>average_rating</th>\n",
       "      <th>ratings_count</th>\n",
       "    </tr>\n",
       "  </thead>\n",
       "  <tbody>\n",
       "    <tr>\n",
       "      <th>0</th>\n",
       "      <td>f201172864310534ae6b6c4f8ae9b8cc</td>\n",
       "      <td>noreply@blogger.com (Richard Ham)</td>\n",
       "      <td>Rahdo Talks Through</td>\n",
       "      <td>4.6</td>\n",
       "      <td>60</td>\n",
       "    </tr>\n",
       "    <tr>\n",
       "      <th>1</th>\n",
       "      <td>3cfef94cfccf27eb504bd7a6c7459636</td>\n",
       "      <td>CityPodcast</td>\n",
       "      <td>OriginALL</td>\n",
       "      <td>3.7</td>\n",
       "      <td>3</td>\n",
       "    </tr>\n",
       "    <tr>\n",
       "      <th>2</th>\n",
       "      <td>2f2205dcc248024b0a3be4665f38e33a</td>\n",
       "      <td>PodcastOne</td>\n",
       "      <td>The Big Podcast With Shaq</td>\n",
       "      <td>4.6</td>\n",
       "      <td>1300</td>\n",
       "    </tr>\n",
       "    <tr>\n",
       "      <th>3</th>\n",
       "      <td>9fc35a81647e391f93211b5d11973c83</td>\n",
       "      <td>Jim Kettner, John Mihaly, and Scott Brown</td>\n",
       "      <td>Galaktacus</td>\n",
       "      <td>5.0</td>\n",
       "      <td>20</td>\n",
       "    </tr>\n",
       "    <tr>\n",
       "      <th>4</th>\n",
       "      <td>ce2c3a68dda35600671acd32a1c15fc5</td>\n",
       "      <td>Kris Baker Dersch</td>\n",
       "      <td>No Extra Words one person's search for story</td>\n",
       "      <td>5.0</td>\n",
       "      <td>11</td>\n",
       "    </tr>\n",
       "  </tbody>\n",
       "</table>\n",
       "</div>"
      ],
      "text/plain": [
       "                         podcast_id  \\\n",
       "0  f201172864310534ae6b6c4f8ae9b8cc   \n",
       "1  3cfef94cfccf27eb504bd7a6c7459636   \n",
       "2  2f2205dcc248024b0a3be4665f38e33a   \n",
       "3  9fc35a81647e391f93211b5d11973c83   \n",
       "4  ce2c3a68dda35600671acd32a1c15fc5   \n",
       "\n",
       "                                      author  \\\n",
       "0          noreply@blogger.com (Richard Ham)   \n",
       "1                                CityPodcast   \n",
       "2                                 PodcastOne   \n",
       "3  Jim Kettner, John Mihaly, and Scott Brown   \n",
       "4                          Kris Baker Dersch   \n",
       "\n",
       "                                          title  average_rating  ratings_count  \n",
       "0                           Rahdo Talks Through             4.6             60  \n",
       "1                                     OriginALL             3.7              3  \n",
       "2                     The Big Podcast With Shaq             4.6           1300  \n",
       "3                                    Galaktacus             5.0             20  \n",
       "4  No Extra Words one person's search for story             5.0             11  "
      ]
     },
     "execution_count": 242,
     "metadata": {},
     "output_type": "execute_result"
    }
   ],
   "source": [
    "#First five values in rated podcasts data frame\n",
    "rated_podcasts_df.head()\n"
   ]
  },
  {
   "cell_type": "code",
   "execution_count": 243,
   "metadata": {},
   "outputs": [
    {
     "data": {
      "text/html": [
       "<div>\n",
       "<style scoped>\n",
       "    .dataframe tbody tr th:only-of-type {\n",
       "        vertical-align: middle;\n",
       "    }\n",
       "\n",
       "    .dataframe tbody tr th {\n",
       "        vertical-align: top;\n",
       "    }\n",
       "\n",
       "    .dataframe thead th {\n",
       "        text-align: right;\n",
       "    }\n",
       "</style>\n",
       "<table border=\"1\" class=\"dataframe\">\n",
       "  <thead>\n",
       "    <tr style=\"text-align: right;\">\n",
       "      <th></th>\n",
       "      <th>podcast_id</th>\n",
       "      <th>author</th>\n",
       "      <th>title</th>\n",
       "      <th>average_rating</th>\n",
       "      <th>ratings_count</th>\n",
       "    </tr>\n",
       "  </thead>\n",
       "  <tbody>\n",
       "    <tr>\n",
       "      <th>6022</th>\n",
       "      <td>608c549bece62f009d74396cacbb54c3</td>\n",
       "      <td>Barstool Sports</td>\n",
       "      <td>Pardon My Take</td>\n",
       "      <td>4.9</td>\n",
       "      <td>56000</td>\n",
       "    </tr>\n",
       "    <tr>\n",
       "      <th>12424</th>\n",
       "      <td>71819bcee712a1ad4aaa97fb8f1a5f09</td>\n",
       "      <td>Crooked Media</td>\n",
       "      <td>Pod Save America</td>\n",
       "      <td>4.7</td>\n",
       "      <td>51000</td>\n",
       "    </tr>\n",
       "    <tr>\n",
       "      <th>57663</th>\n",
       "      <td>57008fd80e7d710ac9283f3e64e9c9a7</td>\n",
       "      <td>iHeartRadio</td>\n",
       "      <td>Stuff You Should Know</td>\n",
       "      <td>4.6</td>\n",
       "      <td>39000</td>\n",
       "    </tr>\n",
       "    <tr>\n",
       "      <th>12588</th>\n",
       "      <td>de8caf3e4e8178b0280a52c7b3d51486</td>\n",
       "      <td>James Pietragallo &amp; Jimmie Whisman</td>\n",
       "      <td>Small Town Murder</td>\n",
       "      <td>4.9</td>\n",
       "      <td>31000</td>\n",
       "    </tr>\n",
       "    <tr>\n",
       "      <th>14355</th>\n",
       "      <td>e50884ba76af05b03683b693e2b3e8f7</td>\n",
       "      <td>NPR</td>\n",
       "      <td>Wait Wait...Don't Tell Me!</td>\n",
       "      <td>4.7</td>\n",
       "      <td>21000</td>\n",
       "    </tr>\n",
       "  </tbody>\n",
       "</table>\n",
       "</div>"
      ],
      "text/plain": [
       "                             podcast_id                              author  \\\n",
       "6022   608c549bece62f009d74396cacbb54c3                     Barstool Sports   \n",
       "12424  71819bcee712a1ad4aaa97fb8f1a5f09                       Crooked Media   \n",
       "57663  57008fd80e7d710ac9283f3e64e9c9a7                         iHeartRadio   \n",
       "12588  de8caf3e4e8178b0280a52c7b3d51486  James Pietragallo & Jimmie Whisman   \n",
       "14355  e50884ba76af05b03683b693e2b3e8f7                                 NPR   \n",
       "\n",
       "                            title  average_rating  ratings_count  \n",
       "6022               Pardon My Take             4.9          56000  \n",
       "12424            Pod Save America             4.7          51000  \n",
       "57663       Stuff You Should Know             4.6          39000  \n",
       "12588           Small Town Murder             4.9          31000  \n",
       "14355  Wait Wait...Don't Tell Me!             4.7          21000  "
      ]
     },
     "execution_count": 243,
     "metadata": {},
     "output_type": "execute_result"
    }
   ],
   "source": [
    "#Most rated podcasts\n",
    "rated_podcasts_df.sort_values('ratings_count',ascending=False).head(5)"
   ]
  },
  {
   "cell_type": "code",
   "execution_count": 244,
   "metadata": {},
   "outputs": [
    {
     "data": {
      "text/html": [
       "<div>\n",
       "<style scoped>\n",
       "    .dataframe tbody tr th:only-of-type {\n",
       "        vertical-align: middle;\n",
       "    }\n",
       "\n",
       "    .dataframe tbody tr th {\n",
       "        vertical-align: top;\n",
       "    }\n",
       "\n",
       "    .dataframe thead th {\n",
       "        text-align: right;\n",
       "    }\n",
       "</style>\n",
       "<table border=\"1\" class=\"dataframe\">\n",
       "  <thead>\n",
       "    <tr style=\"text-align: right;\">\n",
       "      <th></th>\n",
       "      <th>podcast_id</th>\n",
       "      <th>author</th>\n",
       "      <th>title</th>\n",
       "      <th>average_rating</th>\n",
       "      <th>ratings_count</th>\n",
       "    </tr>\n",
       "  </thead>\n",
       "  <tbody>\n",
       "    <tr>\n",
       "      <th>41494</th>\n",
       "      <td>134a2d138569aec6b59dcf0b8ee4fb72</td>\n",
       "      <td>Alberto Barrera, Fofo Rivera, Abe Estrada</td>\n",
       "      <td>Cerealcast</td>\n",
       "      <td>5.0</td>\n",
       "      <td>1</td>\n",
       "    </tr>\n",
       "    <tr>\n",
       "      <th>42157</th>\n",
       "      <td>c020d87fec92abe047e6b392e4e74e6b</td>\n",
       "      <td>Global Denmark</td>\n",
       "      <td>Global Denmark Podcast</td>\n",
       "      <td>5.0</td>\n",
       "      <td>9</td>\n",
       "    </tr>\n",
       "    <tr>\n",
       "      <th>40733</th>\n",
       "      <td>e00550eb3fe66294b4e1f78ab9d2bc6d</td>\n",
       "      <td>Gayle Martin</td>\n",
       "      <td>Faking It: An SFX Podcast</td>\n",
       "      <td>5.0</td>\n",
       "      <td>4</td>\n",
       "    </tr>\n",
       "    <tr>\n",
       "      <th>73774</th>\n",
       "      <td>239d9a6b1de44631a6a23122a7f956d5</td>\n",
       "      <td>Ian Broyles, Jonathan Wiley</td>\n",
       "      <td>NSVille</td>\n",
       "      <td>5.0</td>\n",
       "      <td>3</td>\n",
       "    </tr>\n",
       "    <tr>\n",
       "      <th>40735</th>\n",
       "      <td>66c41ef09462ddc13a76b31a81f977bd</td>\n",
       "      <td>underthefirstfloor</td>\n",
       "      <td>Under The First Floor</td>\n",
       "      <td>5.0</td>\n",
       "      <td>5</td>\n",
       "    </tr>\n",
       "  </tbody>\n",
       "</table>\n",
       "</div>"
      ],
      "text/plain": [
       "                             podcast_id  \\\n",
       "41494  134a2d138569aec6b59dcf0b8ee4fb72   \n",
       "42157  c020d87fec92abe047e6b392e4e74e6b   \n",
       "40733  e00550eb3fe66294b4e1f78ab9d2bc6d   \n",
       "73774  239d9a6b1de44631a6a23122a7f956d5   \n",
       "40735  66c41ef09462ddc13a76b31a81f977bd   \n",
       "\n",
       "                                          author                      title  \\\n",
       "41494  Alberto Barrera, Fofo Rivera, Abe Estrada                 Cerealcast   \n",
       "42157                             Global Denmark     Global Denmark Podcast   \n",
       "40733                               Gayle Martin  Faking It: An SFX Podcast   \n",
       "73774                Ian Broyles, Jonathan Wiley                    NSVille   \n",
       "40735                         underthefirstfloor      Under The First Floor   \n",
       "\n",
       "       average_rating  ratings_count  \n",
       "41494             5.0              1  \n",
       "42157             5.0              9  \n",
       "40733             5.0              4  \n",
       "73774             5.0              3  \n",
       "40735             5.0              5  "
      ]
     },
     "execution_count": 244,
     "metadata": {},
     "output_type": "execute_result"
    }
   ],
   "source": [
    "#Podcasts with top 5 average rating\n",
    "rated_podcasts_df.sort_values('average_rating',ascending=False).head(5)"
   ]
  },
  {
   "cell_type": "code",
   "execution_count": 245,
   "metadata": {},
   "outputs": [
    {
     "data": {
      "text/html": [
       "<div>\n",
       "<style scoped>\n",
       "    .dataframe tbody tr th:only-of-type {\n",
       "        vertical-align: middle;\n",
       "    }\n",
       "\n",
       "    .dataframe tbody tr th {\n",
       "        vertical-align: top;\n",
       "    }\n",
       "\n",
       "    .dataframe thead th {\n",
       "        text-align: right;\n",
       "    }\n",
       "</style>\n",
       "<table border=\"1\" class=\"dataframe\">\n",
       "  <thead>\n",
       "    <tr style=\"text-align: right;\">\n",
       "      <th></th>\n",
       "      <th>podcast_id</th>\n",
       "      <th>author</th>\n",
       "      <th>title</th>\n",
       "      <th>average_rating</th>\n",
       "      <th>ratings_count</th>\n",
       "    </tr>\n",
       "  </thead>\n",
       "  <tbody>\n",
       "    <tr>\n",
       "      <th>41479</th>\n",
       "      <td>2cb1f92d25e260d43d7c7131b78151e6</td>\n",
       "      <td>Barstool Sports</td>\n",
       "      <td>The Corp</td>\n",
       "      <td>5.0</td>\n",
       "      <td>9300</td>\n",
       "    </tr>\n",
       "    <tr>\n",
       "      <th>51386</th>\n",
       "      <td>e2bd23c58ea63ca8c8c6f6626fa438ca</td>\n",
       "      <td>Ramble</td>\n",
       "      <td>The TryPod</td>\n",
       "      <td>5.0</td>\n",
       "      <td>8500</td>\n",
       "    </tr>\n",
       "    <tr>\n",
       "      <th>72481</th>\n",
       "      <td>dc70a11a1927080ebab98be779ca4322</td>\n",
       "      <td>Jason DeFillippo &amp; Brian Schulmeister</td>\n",
       "      <td>Grumpy Old Geeks</td>\n",
       "      <td>5.0</td>\n",
       "      <td>6300</td>\n",
       "    </tr>\n",
       "    <tr>\n",
       "      <th>25308</th>\n",
       "      <td>a066be63e15cb4125eb83d4f72f855eb</td>\n",
       "      <td>WNYC Studios and Complexly</td>\n",
       "      <td>The Anthropocene Reviewed</td>\n",
       "      <td>5.0</td>\n",
       "      <td>4100</td>\n",
       "    </tr>\n",
       "    <tr>\n",
       "      <th>51435</th>\n",
       "      <td>6bd787536fb3505dc3c6e091829bfa98</td>\n",
       "      <td>MeatEater</td>\n",
       "      <td>Cal's Week in Review</td>\n",
       "      <td>5.0</td>\n",
       "      <td>4000</td>\n",
       "    </tr>\n",
       "  </tbody>\n",
       "</table>\n",
       "</div>"
      ],
      "text/plain": [
       "                             podcast_id  \\\n",
       "41479  2cb1f92d25e260d43d7c7131b78151e6   \n",
       "51386  e2bd23c58ea63ca8c8c6f6626fa438ca   \n",
       "72481  dc70a11a1927080ebab98be779ca4322   \n",
       "25308  a066be63e15cb4125eb83d4f72f855eb   \n",
       "51435  6bd787536fb3505dc3c6e091829bfa98   \n",
       "\n",
       "                                      author                      title  \\\n",
       "41479                        Barstool Sports                   The Corp   \n",
       "51386                                 Ramble                 The TryPod   \n",
       "72481  Jason DeFillippo & Brian Schulmeister           Grumpy Old Geeks   \n",
       "25308             WNYC Studios and Complexly  The Anthropocene Reviewed   \n",
       "51435                              MeatEater       Cal's Week in Review   \n",
       "\n",
       "       average_rating  ratings_count  \n",
       "41479             5.0           9300  \n",
       "51386             5.0           8500  \n",
       "72481             5.0           6300  \n",
       "25308             5.0           4100  \n",
       "51435             5.0           4000  "
      ]
     },
     "execution_count": 245,
     "metadata": {},
     "output_type": "execute_result"
    }
   ],
   "source": [
    "#Top rated podcasts with most ratings\n",
    "rated_podcasts_df.sort_values(['average_rating', 'ratings_count'],\n",
    "              ascending = [False, False]).head(5)"
   ]
  },
  {
   "cell_type": "code",
   "execution_count": 246,
   "metadata": {},
   "outputs": [
    {
     "data": {
      "text/html": [
       "<div>\n",
       "<style scoped>\n",
       "    .dataframe tbody tr th:only-of-type {\n",
       "        vertical-align: middle;\n",
       "    }\n",
       "\n",
       "    .dataframe tbody tr th {\n",
       "        vertical-align: top;\n",
       "    }\n",
       "\n",
       "    .dataframe thead th {\n",
       "        text-align: right;\n",
       "    }\n",
       "</style>\n",
       "<table border=\"1\" class=\"dataframe\">\n",
       "  <thead>\n",
       "    <tr style=\"text-align: right;\">\n",
       "      <th></th>\n",
       "      <th>podcast_id</th>\n",
       "      <th>itunes_id</th>\n",
       "      <th>category</th>\n",
       "    </tr>\n",
       "  </thead>\n",
       "  <tbody>\n",
       "    <tr>\n",
       "      <th>0</th>\n",
       "      <td>943d1c4349913bde09ef82b69f83cfdf</td>\n",
       "      <td>1446474395</td>\n",
       "      <td>education</td>\n",
       "    </tr>\n",
       "    <tr>\n",
       "      <th>1</th>\n",
       "      <td>f53f27d03cdc5040ab4fd2ea30e3dd4f</td>\n",
       "      <td>840646770</td>\n",
       "      <td>society-culture</td>\n",
       "    </tr>\n",
       "    <tr>\n",
       "      <th>2</th>\n",
       "      <td>49fa5f1097ae9046ce1a0c56e31b533c</td>\n",
       "      <td>1541959455</td>\n",
       "      <td>arts-performing-arts</td>\n",
       "    </tr>\n",
       "    <tr>\n",
       "      <th>3</th>\n",
       "      <td>dbe2dc5aa097523aa294a3b659293af4</td>\n",
       "      <td>1146609744</td>\n",
       "      <td>tv-film</td>\n",
       "    </tr>\n",
       "    <tr>\n",
       "      <th>4</th>\n",
       "      <td>2349ed9d26f16029cfc69902bf319ca5</td>\n",
       "      <td>1475252651</td>\n",
       "      <td>education</td>\n",
       "    </tr>\n",
       "  </tbody>\n",
       "</table>\n",
       "</div>"
      ],
      "text/plain": [
       "                         podcast_id   itunes_id              category\n",
       "0  943d1c4349913bde09ef82b69f83cfdf  1446474395             education\n",
       "1  f53f27d03cdc5040ab4fd2ea30e3dd4f   840646770       society-culture\n",
       "2  49fa5f1097ae9046ce1a0c56e31b533c  1541959455  arts-performing-arts\n",
       "3  dbe2dc5aa097523aa294a3b659293af4  1146609744               tv-film\n",
       "4  2349ed9d26f16029cfc69902bf319ca5  1475252651             education"
      ]
     },
     "execution_count": 246,
     "metadata": {},
     "output_type": "execute_result"
    }
   ],
   "source": [
    "con.sql(\"select * from categories\").df().head(5)"
   ]
  },
  {
   "cell_type": "code",
   "execution_count": 247,
   "metadata": {},
   "outputs": [
    {
     "data": {
      "text/html": [
       "<div>\n",
       "<style scoped>\n",
       "    .dataframe tbody tr th:only-of-type {\n",
       "        vertical-align: middle;\n",
       "    }\n",
       "\n",
       "    .dataframe tbody tr th {\n",
       "        vertical-align: top;\n",
       "    }\n",
       "\n",
       "    .dataframe thead th {\n",
       "        text-align: right;\n",
       "    }\n",
       "</style>\n",
       "<table border=\"1\" class=\"dataframe\">\n",
       "  <thead>\n",
       "    <tr style=\"text-align: right;\">\n",
       "      <th></th>\n",
       "      <th>unique_categories</th>\n",
       "    </tr>\n",
       "  </thead>\n",
       "  <tbody>\n",
       "    <tr>\n",
       "      <th>0</th>\n",
       "      <td>110</td>\n",
       "    </tr>\n",
       "  </tbody>\n",
       "</table>\n",
       "</div>"
      ],
      "text/plain": [
       "   unique_categories\n",
       "0                110"
      ]
     },
     "execution_count": 247,
     "metadata": {},
     "output_type": "execute_result"
    }
   ],
   "source": [
    "#Unique Categories\n",
    "con.sql(\"select count(distinct category) as unique_categories from categories\").df().head(5)"
   ]
  },
  {
   "cell_type": "code",
   "execution_count": 248,
   "metadata": {},
   "outputs": [
    {
     "data": {
      "text/html": [
       "<div>\n",
       "<style scoped>\n",
       "    .dataframe tbody tr th:only-of-type {\n",
       "        vertical-align: middle;\n",
       "    }\n",
       "\n",
       "    .dataframe tbody tr th {\n",
       "        vertical-align: top;\n",
       "    }\n",
       "\n",
       "    .dataframe thead th {\n",
       "        text-align: right;\n",
       "    }\n",
       "</style>\n",
       "<table border=\"1\" class=\"dataframe\">\n",
       "  <thead>\n",
       "    <tr style=\"text-align: right;\">\n",
       "      <th></th>\n",
       "      <th>category</th>\n",
       "      <th>count</th>\n",
       "    </tr>\n",
       "  </thead>\n",
       "  <tbody>\n",
       "    <tr>\n",
       "      <th>0</th>\n",
       "      <td>sports</td>\n",
       "      <td>91354</td>\n",
       "    </tr>\n",
       "    <tr>\n",
       "      <th>1</th>\n",
       "      <td>leisure</td>\n",
       "      <td>103782</td>\n",
       "    </tr>\n",
       "    <tr>\n",
       "      <th>2</th>\n",
       "      <td>education-self-improvement</td>\n",
       "      <td>115404</td>\n",
       "    </tr>\n",
       "    <tr>\n",
       "      <th>3</th>\n",
       "      <td>christianity</td>\n",
       "      <td>119371</td>\n",
       "    </tr>\n",
       "    <tr>\n",
       "      <th>4</th>\n",
       "      <td>religion-spirituality</td>\n",
       "      <td>206257</td>\n",
       "    </tr>\n",
       "  </tbody>\n",
       "</table>\n",
       "</div>"
      ],
      "text/plain": [
       "                     category   count\n",
       "0                      sports   91354\n",
       "1                     leisure  103782\n",
       "2  education-self-improvement  115404\n",
       "3                christianity  119371\n",
       "4       religion-spirituality  206257"
      ]
     },
     "execution_count": 248,
     "metadata": {},
     "output_type": "execute_result"
    }
   ],
   "source": [
    "categories = con.sql(\"select category,count(category) as count from categories group by category\").df()\n",
    "categories.head()"
   ]
  },
  {
   "cell_type": "code",
   "execution_count": 249,
   "metadata": {},
   "outputs": [
    {
     "data": {
      "text/html": [
       "<div>\n",
       "<style scoped>\n",
       "    .dataframe tbody tr th:only-of-type {\n",
       "        vertical-align: middle;\n",
       "    }\n",
       "\n",
       "    .dataframe tbody tr th {\n",
       "        vertical-align: top;\n",
       "    }\n",
       "\n",
       "    .dataframe thead th {\n",
       "        text-align: right;\n",
       "    }\n",
       "</style>\n",
       "<table border=\"1\" class=\"dataframe\">\n",
       "  <thead>\n",
       "    <tr style=\"text-align: right;\">\n",
       "      <th></th>\n",
       "      <th>category</th>\n",
       "      <th>count</th>\n",
       "    </tr>\n",
       "  </thead>\n",
       "  <tbody>\n",
       "    <tr>\n",
       "      <th>6</th>\n",
       "      <td>education</td>\n",
       "      <td>311924</td>\n",
       "    </tr>\n",
       "    <tr>\n",
       "      <th>24</th>\n",
       "      <td>society-culture</td>\n",
       "      <td>301139</td>\n",
       "    </tr>\n",
       "    <tr>\n",
       "      <th>11</th>\n",
       "      <td>arts</td>\n",
       "      <td>227713</td>\n",
       "    </tr>\n",
       "    <tr>\n",
       "      <th>16</th>\n",
       "      <td>business</td>\n",
       "      <td>211977</td>\n",
       "    </tr>\n",
       "    <tr>\n",
       "      <th>4</th>\n",
       "      <td>religion-spirituality</td>\n",
       "      <td>206257</td>\n",
       "    </tr>\n",
       "  </tbody>\n",
       "</table>\n",
       "</div>"
      ],
      "text/plain": [
       "                 category   count\n",
       "6               education  311924\n",
       "24        society-culture  301139\n",
       "11                   arts  227713\n",
       "16               business  211977\n",
       "4   religion-spirituality  206257"
      ]
     },
     "execution_count": 249,
     "metadata": {},
     "output_type": "execute_result"
    }
   ],
   "source": [
    "#Top 5 most common categories\n",
    "categories.sort_values('count',ascending=False).head(5)"
   ]
  },
  {
   "cell_type": "code",
   "execution_count": 250,
   "metadata": {
    "scrolled": true
   },
   "outputs": [
    {
     "data": {
      "text/html": [
       "<div>\n",
       "<style scoped>\n",
       "    .dataframe tbody tr th:only-of-type {\n",
       "        vertical-align: middle;\n",
       "    }\n",
       "\n",
       "    .dataframe tbody tr th {\n",
       "        vertical-align: top;\n",
       "    }\n",
       "\n",
       "    .dataframe thead th {\n",
       "        text-align: right;\n",
       "    }\n",
       "</style>\n",
       "<table border=\"1\" class=\"dataframe\">\n",
       "  <thead>\n",
       "    <tr style=\"text-align: right;\">\n",
       "      <th></th>\n",
       "      <th>category</th>\n",
       "      <th>count</th>\n",
       "    </tr>\n",
       "  </thead>\n",
       "  <tbody>\n",
       "    <tr>\n",
       "      <th>92</th>\n",
       "      <td>sports-volleyball</td>\n",
       "      <td>265</td>\n",
       "    </tr>\n",
       "    <tr>\n",
       "      <th>108</th>\n",
       "      <td>sports-swimming</td>\n",
       "      <td>304</td>\n",
       "    </tr>\n",
       "    <tr>\n",
       "      <th>99</th>\n",
       "      <td>sports-tennis</td>\n",
       "      <td>563</td>\n",
       "    </tr>\n",
       "    <tr>\n",
       "      <th>103</th>\n",
       "      <td>sports-rugby</td>\n",
       "      <td>648</td>\n",
       "    </tr>\n",
       "    <tr>\n",
       "      <th>26</th>\n",
       "      <td>sports-cricket</td>\n",
       "      <td>755</td>\n",
       "    </tr>\n",
       "  </tbody>\n",
       "</table>\n",
       "</div>"
      ],
      "text/plain": [
       "              category  count\n",
       "92   sports-volleyball    265\n",
       "108    sports-swimming    304\n",
       "99       sports-tennis    563\n",
       "103       sports-rugby    648\n",
       "26      sports-cricket    755"
      ]
     },
     "execution_count": 250,
     "metadata": {},
     "output_type": "execute_result"
    }
   ],
   "source": [
    "#Bottom 5 most common categories\n",
    "categories.sort_values('count',ascending=True).head(5)"
   ]
  },
  {
   "cell_type": "code",
   "execution_count": 251,
   "metadata": {},
   "outputs": [
    {
     "name": "stdout",
     "output_type": "stream",
     "text": [
      "Top 10 authors by review count:\n",
      "         author_id  review_count\n",
      "0  d3307adeffa285c          1681\n",
      "1  791f376aca3c08d          1303\n",
      "2  8ea31f030185a88          1248\n",
      "3  96a3f0358e7808d          1229\n",
      "4  04c3b6defe22fb1          1094\n",
      "5  8858ed4249110b6          1044\n",
      "6  7f9ea8b1a449bfc           935\n",
      "7  4b25015e4d7a1da           892\n",
      "8  b20db44f45db97a           873\n",
      "9  a52ebc918bc19d1           871\n",
      "\n",
      "Average rating per author (for authors with at least 5 reviews):\n",
      "         author_id  avg_rating  review_count\n",
      "0  85af83f21825b22         5.0             9\n",
      "1  76a1c82a8fbe160         5.0             8\n",
      "2  f94cb029af115e5         5.0             8\n",
      "3  375cd7e7f783936         5.0            14\n",
      "4  2f995e521888f80         5.0            16\n",
      "5  3238fe4be06e6fb         5.0             5\n",
      "6  dcc777aeb2549bc         5.0             8\n",
      "7  06f53fa48861b5d         5.0             5\n",
      "8  c44dfe0980b23ee         5.0             7\n",
      "9  24cf0e0cbedd24a         5.0             5\n"
     ]
    }
   ],
   "source": [
    "# Top 10 authors by review count\n",
    "top_authors_by_review_count = con.execute(\"\"\"\n",
    "SELECT author_id, COUNT(*) as review_count\n",
    "FROM reviews\n",
    "GROUP BY author_id\n",
    "ORDER BY review_count DESC\n",
    "LIMIT 10\n",
    "\"\"\").fetch_df()\n",
    "\n",
    "print(\"Top 10 authors by review count:\")\n",
    "print(top_authors_by_review_count)\n",
    "\n",
    "# Average rating per author (for authors with at least 5 reviews)\n",
    "average_rating_per_author = con.execute(\"\"\"\n",
    "SELECT author_id, AVG(rating) as avg_rating, COUNT(*) as review_count\n",
    "FROM reviews\n",
    "GROUP BY author_id\n",
    "HAVING COUNT(*) >= 5\n",
    "ORDER BY avg_rating DESC\n",
    "\"\"\").fetch_df()\n",
    "\n",
    "print(\"\\nAverage rating per author (for authors with at least 5 reviews):\")\n",
    "print(average_rating_per_author.head(10))\n"
   ]
  },
  {
   "cell_type": "code",
   "execution_count": 252,
   "metadata": {},
   "outputs": [
    {
     "name": "stdout",
     "output_type": "stream",
     "text": [
      "Top 10 podcasts with the highest number of reviews:\n",
      "                             podcast_id  \\\n",
      "36468  05e74ae86b75256deabe004cf7267b0b   \n",
      "51956  e2984116d5ec9faa9710680cb369d88e   \n",
      "20807  03a17efdb4a8a11d64d72000a53690e1   \n",
      "36469  836e13009dd87199b56494d8f2e38243   \n",
      "77844  dddca7e4ab11211016c84253c9160b69   \n",
      "41518  bfbd53e317e7429ffdf6e844fd3d2b39   \n",
      "57073  f265df678e7b59214c188ea2df8f6923   \n",
      "67492  896e871d57e86d79ea20f67981ccd759   \n",
      "10410  71a1c7ef374ce63415ba2b3968fe711f   \n",
      "41516  f3ad67c699fc4f04d36a3b9c8880cec8   \n",
      "\n",
      "                                                   title  average_rating  \\\n",
      "36468    The Daily Boost | Daily Coaching and Motivation             3.9   \n",
      "51956                         The Oatley Academy ArtCast             4.9   \n",
      "20807                                  Her Money Matters             4.8   \n",
      "36469                                       Rekt Podcast             4.3   \n",
      "77844                             Outside Voices Podcast             5.0   \n",
      "41518                                  F*ck Like a Woman             4.8   \n",
      "57073                    Last Week at the Movies Podcast             5.0   \n",
      "67492  Emprendedores Digitales |Marketing Digital, Bl...             4.8   \n",
      "10410  The Fertility Warriors Podcast: Helping women ...             4.6   \n",
      "41516          Little Realms | A DnD Actual Play Podcast             4.9   \n",
      "\n",
      "       review_count  \n",
      "36468            56  \n",
      "51956            50  \n",
      "20807            42  \n",
      "36469            18  \n",
      "77844            17  \n",
      "41518            12  \n",
      "57073            12  \n",
      "67492            12  \n",
      "10410             8  \n",
      "41516             8  \n",
      "\n",
      "Correlation between average_rating and review_count: -0.00\n"
     ]
    },
    {
     "data": {
      "image/png": "[encoded data removed]",
      "text/plain": [
       "<Figure size 640x480 with 1 Axes>"
      ]
     },
     "metadata": {},
     "output_type": "display_data"
    }
   ],
   "source": [
    "import seaborn as sns\n",
    "import matplotlib.pyplot as plt\n",
    "# Calculate the average rating and review count per podcast\n",
    "rating_review_count = con.execute(\"\"\"\n",
    "SELECT podcasts.podcast_id, podcasts.title, podcasts.average_rating, COUNT(reviews.podcast_id) as review_count\n",
    "FROM podcasts\n",
    "LEFT JOIN reviews ON podcasts.podcast_id = reviews.podcast_id\n",
    "GROUP BY podcasts.podcast_id, podcasts.title, podcasts.average_rating\n",
    "\"\"\").fetch_df()\n",
    "\n",
    "# Display the top 10 podcasts with the highest number of reviews\n",
    "print(\"Top 10 podcasts with the highest number of reviews:\")\n",
    "print(rating_review_count.nlargest(10, 'review_count'))\n",
    "\n",
    "# Calculate the correlation between average_rating and review_count\n",
    "correlation = rating_review_count[['average_rating', 'review_count']].corr().iloc[0, 1]\n",
    "print(\"\\nCorrelation between average_rating and review_count: {:.2f}\".format(correlation))\n",
    "\n",
    "# Scatter plot of average_rating vs review_count\n",
    "sns.scatterplot(data=rating_review_count, x='average_rating', y='review_count')\n",
    "plt.xlabel('Average Rating')\n",
    "plt.ylabel('Review Count')\n",
    "plt.show()\n"
   ]
  },
  {
   "cell_type": "code",
   "execution_count": 253,
   "metadata": {},
   "outputs": [
    {
     "data": {
      "text/plain": [
       "┌───────────────────────────────────┬───────────────────┬─────────────┐\n",
       "│             category              │  average_rating   │ num_reviews │\n",
       "│              varchar              │      double       │    int64    │\n",
       "├───────────────────────────────────┼───────────────────┼─────────────┤\n",
       "│ business                          │ 4.404580152671755 │         262 │\n",
       "│ society-culture                   │ 4.554655870445344 │         247 │\n",
       "│ comedy                            │ 4.863849765258216 │         213 │\n",
       "│ health-fitness                    │ 4.066666666666666 │         210 │\n",
       "│ education                         │ 4.041916167664671 │         167 │\n",
       "│ arts                              │ 4.492857142857143 │         140 │\n",
       "│ news                              │ 4.513761467889908 │         109 │\n",
       "│ science                           │ 4.933333333333334 │         105 │\n",
       "│ true-crime                        │              3.99 │         100 │\n",
       "│ leisure                           │ 4.775510204081633 │          98 │\n",
       "│    ·                              │         ·         │           · │\n",
       "│    ·                              │         ·         │           · │\n",
       "│    ·                              │         ·         │           · │\n",
       "│ business-careers                  │ 4.923076923076923 │          13 │\n",
       "│ society-culture-places-travel     │               5.0 │          12 │\n",
       "│ health-fitness-alternative-health │               5.0 │          11 │\n",
       "│ arts-design                       │ 4.714285714285714 │           7 │\n",
       "│ business-marketing                │               5.0 │           2 │\n",
       "│ music                             │               5.0 │           2 │\n",
       "│ history                           │               3.0 │           2 │\n",
       "│ arts-food                         │               5.0 │           1 │\n",
       "│ science-social-sciences           │               5.0 │           1 │\n",
       "│ government                        │               5.0 │           1 │\n",
       "├───────────────────────────────────┴───────────────────┴─────────────┤\n",
       "│ 53 rows (20 shown)                                        3 columns │\n",
       "└─────────────────────────────────────────────────────────────────────┘"
      ]
     },
     "execution_count": 253,
     "metadata": {},
     "output_type": "execute_result"
    }
   ],
   "source": [
    "categories = con.sql(\"select category, avg(rating) as average_rating, count(*) as num_reviews from reviews join categories using (podcast_id) group by 1 order by 3 desc\")\n",
    "categories"
   ]
  },
  {
   "cell_type": "code",
   "execution_count": 254,
   "metadata": {},
   "outputs": [
    {
     "data": {
      "image/png": "[encoded data removed]",
      "text/plain": [
       "<Figure size 1200x480 with 1 Axes>"
      ]
     },
     "metadata": {},
     "output_type": "display_data"
    }
   ],
   "source": [
    "# Scatter plot of category vs number of reviews\n",
    "f = plt.figure()\n",
    "f.set_figwidth(12)\n",
    "sns.scatterplot(data=categories.df().head(10), x='category', y='num_reviews')\n",
    "plt.xlabel('Category')\n",
    "plt.ylabel('Review Count')\n",
    "plt.show()"
   ]
  },
  {
   "cell_type": "code",
   "execution_count": 255,
   "metadata": {},
   "outputs": [
    {
     "data": {
      "image/png": "[encoded data removed]",
      "text/plain": [
       "<Figure size 1500x480 with 1 Axes>"
      ]
     },
     "metadata": {},
     "output_type": "display_data"
    }
   ],
   "source": [
    "f = plt.figure()\n",
    "f.set_figwidth(15)\n",
    "sns.scatterplot(data=categories.df().sort_values('num_reviews',ascending=False).head(10), x='category', y='average_rating')\n",
    "plt.xlabel('Category')\n",
    "plt.ylabel('Average Rating')\n",
    "plt.show()"
   ]
  },
  {
   "cell_type": "code",
   "execution_count": 256,
   "metadata": {},
   "outputs": [
    {
     "name": "stdout",
     "output_type": "stream",
     "text": [
      "\n",
      "Correlation between average_rating and num_reviews: -0.45\n"
     ]
    }
   ],
   "source": [
    "# Calculate the correlation between average_rating and num_reviews\n",
    "# negative association of columns\n",
    "correlation = categories.df()[['average_rating', 'num_reviews']].corr(method='spearman').iloc[0, 1]\n",
    "print(\"\\nCorrelation between average_rating and num_reviews: {:.2f}\".format(correlation))"
   ]
  }
 ],
 "metadata": {
  "kernelspec": {
   "display_name": "Python 3 (ipykernel)",
   "language": "python",
   "name": "python3"
  },
  "language_info": {
   "codemirror_mode": {
    "name": "ipython",
    "version": 3
   },
   "file_extension": ".py",
   "mimetype": "text/x-python",
   "name": "python",
   "nbconvert_exporter": "python",
   "pygments_lexer": "ipython3",
   "version": "3.10.8"
  }
 },
 "nbformat": 4,
 "nbformat_minor": 2
}
