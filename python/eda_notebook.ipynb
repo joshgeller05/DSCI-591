{
 "cells": [
  {
   "cell_type": "code",
   "execution_count": 84,
   "metadata": {},
   "outputs": [],
   "source": [
    "#imports\n",
    "import duckdb\n",
    "import warnings\n",
    "import pandas as pd"
   ]
  },
  {
   "cell_type": "code",
   "execution_count": 85,
   "metadata": {},
   "outputs": [],
   "source": [
    "#Settings\n",
    "pd.set_option('display.max_columns', None)\n",
    "warnings.simplefilter(action='ignore', category=FutureWarning) "
   ]
  },
  {
   "cell_type": "code",
   "execution_count": 86,
   "metadata": {},
   "outputs": [],
   "source": [
    "# create a connection to a file called 'database.db'\n",
    "con = duckdb.connect('database.db')"
   ]
  },
  {
   "cell_type": "code",
   "execution_count": 87,
   "metadata": {},
   "outputs": [
    {
     "data": {
      "text/plain": [
       "┌────────────────┬─────────────┬─────────┬─────────┬─────────┬───────┐\n",
       "│  column_name   │ column_type │  null   │   key   │ default │ extra │\n",
       "│    varchar     │   varchar   │ varchar │ varchar │ varchar │ int32 │\n",
       "├────────────────┼─────────────┼─────────┼─────────┼─────────┼───────┤\n",
       "│ podcast_id     │ VARCHAR     │ YES     │ NULL    │ NULL    │  NULL │\n",
       "│ itunes_id      │ VARCHAR     │ YES     │ NULL    │ NULL    │  NULL │\n",
       "│ slug           │ VARCHAR     │ YES     │ NULL    │ NULL    │  NULL │\n",
       "│ itunes_url     │ VARCHAR     │ YES     │ NULL    │ NULL    │  NULL │\n",
       "│ title          │ VARCHAR     │ YES     │ NULL    │ NULL    │  NULL │\n",
       "│ author         │ VARCHAR     │ YES     │ NULL    │ NULL    │  NULL │\n",
       "│ description    │ VARCHAR     │ YES     │ NULL    │ NULL    │  NULL │\n",
       "│ average_rating │ DOUBLE      │ YES     │ NULL    │ NULL    │  NULL │\n",
       "│ ratings_count  │ VARCHAR     │ YES     │ NULL    │ NULL    │  NULL │\n",
       "│ scraped_at     │ TIMESTAMP   │ YES     │ NULL    │ NULL    │  NULL │\n",
       "├────────────────┴─────────────┴─────────┴─────────┴─────────┴───────┤\n",
       "│ 10 rows                                                  6 columns │\n",
       "└────────────────────────────────────────────────────────────────────┘"
      ]
     },
     "execution_count": 87,
     "metadata": {},
     "output_type": "execute_result"
    }
   ],
   "source": [
    "#describe podcasts table\n",
    "con.sql(\"describe podcasts\")"
   ]
  },
  {
   "cell_type": "code",
   "execution_count": 88,
   "metadata": {},
   "outputs": [
    {
     "data": {
      "text/plain": [
       "┌─────────────┬─────────────┬─────────┬─────────┬─────────┬───────┐\n",
       "│ column_name │ column_type │  null   │   key   │ default │ extra │\n",
       "│   varchar   │   varchar   │ varchar │ varchar │ varchar │ int32 │\n",
       "├─────────────┼─────────────┼─────────┼─────────┼─────────┼───────┤\n",
       "│ podcast_id  │ VARCHAR     │ YES     │ NULL    │ NULL    │  NULL │\n",
       "│ itunes_id   │ VARCHAR     │ YES     │ NULL    │ NULL    │  NULL │\n",
       "│ category    │ VARCHAR     │ YES     │ NULL    │ NULL    │  NULL │\n",
       "└─────────────┴─────────────┴─────────┴─────────┴─────────┴───────┘"
      ]
     },
     "execution_count": 88,
     "metadata": {},
     "output_type": "execute_result"
    }
   ],
   "source": [
    "#describe categories table\n",
    "con.sql(\"describe categories\")"
   ]
  },
  {
   "cell_type": "code",
   "execution_count": 89,
   "metadata": {},
   "outputs": [
    {
     "data": {
      "text/plain": [
       "┌─────────────┬──────────────────────────┬─────────┬─────────┬─────────┬───────┐\n",
       "│ column_name │       column_type        │  null   │   key   │ default │ extra │\n",
       "│   varchar   │         varchar          │ varchar │ varchar │ varchar │ int32 │\n",
       "├─────────────┼──────────────────────────┼─────────┼─────────┼─────────┼───────┤\n",
       "│ podcast_id  │ VARCHAR                  │ YES     │ NULL    │ NULL    │  NULL │\n",
       "│ title       │ VARCHAR                  │ YES     │ NULL    │ NULL    │  NULL │\n",
       "│ content     │ VARCHAR                  │ YES     │ NULL    │ NULL    │  NULL │\n",
       "│ rating      │ INTEGER                  │ YES     │ NULL    │ NULL    │  NULL │\n",
       "│ author_id   │ VARCHAR                  │ YES     │ NULL    │ NULL    │  NULL │\n",
       "│ created_at  │ TIMESTAMP WITH TIME ZONE │ YES     │ NULL    │ NULL    │  NULL │\n",
       "└─────────────┴──────────────────────────┴─────────┴─────────┴─────────┴───────┘"
      ]
     },
     "execution_count": 89,
     "metadata": {},
     "output_type": "execute_result"
    }
   ],
   "source": [
    "#describe reviews table\n",
    "con.sql(\"describe reviews\")\n"
   ]
  },
  {
   "cell_type": "code",
   "execution_count": 90,
   "metadata": {},
   "outputs": [
    {
     "data": {
      "text/plain": [
       "┌──────────────────────┬──────────────────────┬──────────────────────┬────────┬─────────────────┬──────────────────────┐\n",
       "│      podcast_id      │        title         │       content        │ rating │    author_id    │      created_at      │\n",
       "│       varchar        │       varchar        │       varchar        │ int32  │     varchar     │ timestamp with tim…  │\n",
       "├──────────────────────┼──────────────────────┼──────────────────────┼────────┼─────────────────┼──────────────────────┤\n",
       "│ 52e3d2c4fab4e80a8b…  │ Argh                 │ What the heck is t…  │      1 │ a23655ce5565f32 │ 2019-04-30 21:24:0…  │\n",
       "│ 52e3d2c4fab4e80a8b…  │ Miss gross overrat…  │ The Howard stern i…  │      1 │ e5d461c5f91c8d2 │ 2019-06-07 10:25:3…  │\n",
       "│ 52e3d2c4fab4e80a8b…  │ I love Terri and F…  │ People get really …  │      5 │ 806cc75442c8f3d │ 2019-05-15 05:42:5…  │\n",
       "│ 52e3d2c4fab4e80a8b…  │ Fresh Air subscrip…  │ I’ve been a subscr…  │      4 │ 3e1e7e8417a3e85 │ 2019-05-05 22:39:1…  │\n",
       "│ 52e3d2c4fab4e80a8b…  │ Climate change       │ Hello, my name is …  │      5 │ 7c680144b582c6d │ 2019-04-17 20:37:5…  │\n",
       "└──────────────────────┴──────────────────────┴──────────────────────┴────────┴─────────────────┴──────────────────────┘"
      ]
     },
     "execution_count": 90,
     "metadata": {},
     "output_type": "execute_result"
    }
   ],
   "source": [
    "#Look into data for reviews\n",
    "con.sql(\"select * from reviews limit 5\")"
   ]
  },
  {
   "cell_type": "code",
   "execution_count": 91,
   "metadata": {},
   "outputs": [
    {
     "data": {
      "text/plain": [
       "┌─────────────────────────┐\n",
       "│ total_number_of_reviews │\n",
       "│          int64          │\n",
       "├─────────────────────────┤\n",
       "│                 5607021 │\n",
       "└─────────────────────────┘"
      ]
     },
     "execution_count": 91,
     "metadata": {},
     "output_type": "execute_result"
    }
   ],
   "source": [
    "#Total Number of reviews\n",
    "con.sql(\"select count(*) as total_number_of_reviews from reviews\")"
   ]
  },
  {
   "cell_type": "code",
   "execution_count": 92,
   "metadata": {},
   "outputs": [
    {
     "data": {
      "text/plain": [
       "┌────────────────┐\n",
       "│ unique_authors │\n",
       "│     int64      │\n",
       "├────────────────┤\n",
       "│        3256501 │\n",
       "└────────────────┘"
      ]
     },
     "execution_count": 92,
     "metadata": {},
     "output_type": "execute_result"
    }
   ],
   "source": [
    "#Unique authors contributing reviews\n",
    "con.sql(\"select count(DISTINCT author_id) as unique_authors from reviews\")"
   ]
  },
  {
   "cell_type": "code",
   "execution_count": 93,
   "metadata": {},
   "outputs": [],
   "source": [
    "authors = con.sql(\"select author_id,count(author_id) as count from reviews group by author_id\")\n"
   ]
  },
  {
   "cell_type": "code",
   "execution_count": 94,
   "metadata": {},
   "outputs": [
    {
     "data": {
      "text/html": [
       "<div>\n",
       "<style scoped>\n",
       "    .dataframe tbody tr th:only-of-type {\n",
       "        vertical-align: middle;\n",
       "    }\n",
       "\n",
       "    .dataframe tbody tr th {\n",
       "        vertical-align: top;\n",
       "    }\n",
       "\n",
       "    .dataframe thead th {\n",
       "        text-align: right;\n",
       "    }\n",
       "</style>\n",
       "<table border=\"1\" class=\"dataframe\">\n",
       "  <thead>\n",
       "    <tr style=\"text-align: right;\">\n",
       "      <th></th>\n",
       "      <th>author_id</th>\n",
       "      <th>count</th>\n",
       "    </tr>\n",
       "  </thead>\n",
       "  <tbody>\n",
       "    <tr>\n",
       "      <th>406113</th>\n",
       "      <td>d3307adeffa285c</td>\n",
       "      <td>1681</td>\n",
       "    </tr>\n",
       "    <tr>\n",
       "      <th>2307799</th>\n",
       "      <td>791f376aca3c08d</td>\n",
       "      <td>1303</td>\n",
       "    </tr>\n",
       "    <tr>\n",
       "      <th>1341207</th>\n",
       "      <td>8ea31f030185a88</td>\n",
       "      <td>1248</td>\n",
       "    </tr>\n",
       "    <tr>\n",
       "      <th>14367</th>\n",
       "      <td>96a3f0358e7808d</td>\n",
       "      <td>1229</td>\n",
       "    </tr>\n",
       "    <tr>\n",
       "      <th>2590713</th>\n",
       "      <td>04c3b6defe22fb1</td>\n",
       "      <td>1094</td>\n",
       "    </tr>\n",
       "  </tbody>\n",
       "</table>\n",
       "</div>"
      ],
      "text/plain": [
       "               author_id  count\n",
       "406113   d3307adeffa285c   1681\n",
       "2307799  791f376aca3c08d   1303\n",
       "1341207  8ea31f030185a88   1248\n",
       "14367    96a3f0358e7808d   1229\n",
       "2590713  04c3b6defe22fb1   1094"
      ]
     },
     "execution_count": 94,
     "metadata": {},
     "output_type": "execute_result"
    }
   ],
   "source": [
    "#Top 5 authors\n",
    "authors.df().sort_values('count',ascending=False).head(5)"
   ]
  },
  {
   "cell_type": "code",
   "execution_count": 95,
   "metadata": {},
   "outputs": [
    {
     "data": {
      "text/html": [
       "<div>\n",
       "<style scoped>\n",
       "    .dataframe tbody tr th:only-of-type {\n",
       "        vertical-align: middle;\n",
       "    }\n",
       "\n",
       "    .dataframe tbody tr th {\n",
       "        vertical-align: top;\n",
       "    }\n",
       "\n",
       "    .dataframe thead th {\n",
       "        text-align: right;\n",
       "    }\n",
       "</style>\n",
       "<table border=\"1\" class=\"dataframe\">\n",
       "  <thead>\n",
       "    <tr style=\"text-align: right;\">\n",
       "      <th></th>\n",
       "      <th>author_id</th>\n",
       "      <th>count</th>\n",
       "    </tr>\n",
       "  </thead>\n",
       "  <tbody>\n",
       "    <tr>\n",
       "      <th>1628250</th>\n",
       "      <td>dfec7ad45f7f40f</td>\n",
       "      <td>1</td>\n",
       "    </tr>\n",
       "    <tr>\n",
       "      <th>2011084</th>\n",
       "      <td>f088145d2aff6e4</td>\n",
       "      <td>1</td>\n",
       "    </tr>\n",
       "    <tr>\n",
       "      <th>2011085</th>\n",
       "      <td>2eb4372941686c1</td>\n",
       "      <td>1</td>\n",
       "    </tr>\n",
       "    <tr>\n",
       "      <th>2011086</th>\n",
       "      <td>5ef7e23e55796ab</td>\n",
       "      <td>1</td>\n",
       "    </tr>\n",
       "    <tr>\n",
       "      <th>2011087</th>\n",
       "      <td>aba33f9d0d67cc6</td>\n",
       "      <td>1</td>\n",
       "    </tr>\n",
       "  </tbody>\n",
       "</table>\n",
       "</div>"
      ],
      "text/plain": [
       "               author_id  count\n",
       "1628250  dfec7ad45f7f40f      1\n",
       "2011084  f088145d2aff6e4      1\n",
       "2011085  2eb4372941686c1      1\n",
       "2011086  5ef7e23e55796ab      1\n",
       "2011087  aba33f9d0d67cc6      1"
      ]
     },
     "execution_count": 95,
     "metadata": {},
     "output_type": "execute_result"
    }
   ],
   "source": [
    "#Bottom 5 authors\n",
    "authors.df().sort_values('count',ascending=True).head(5)"
   ]
  },
  {
   "cell_type": "code",
   "execution_count": 96,
   "metadata": {},
   "outputs": [
    {
     "data": {
      "text/plain": [
       "┌─────────────────────────────────────────────────────────────────────────┬────────────────┬───────────────┐\n",
       "│                                  title                                  │ average_rating │ ratings_count │\n",
       "│                                 varchar                                 │     double     │    varchar    │\n",
       "├─────────────────────────────────────────────────────────────────────────┼────────────────┼───────────────┤\n",
       "│ Rahdo Talks Through                                                     │            4.6 │ 60            │\n",
       "│ OriginALL                                                               │            3.7 │ 3             │\n",
       "│ The Big Podcast With Shaq                                               │            4.6 │ 1.3K          │\n",
       "│ Galaktacus                                                              │            5.0 │ 20            │\n",
       "│ No Extra Words one person's search for story                            │            5.0 │ 11            │\n",
       "│ The Talking Pictures Podcast                                            │            5.0 │ 9             │\n",
       "│ PeloTonOfFun                                                            │            5.0 │ 7             │\n",
       "│ Queens of England Podcast                                               │            4.9 │ 32            │\n",
       "│ L/L Research's Podcast: In the Now                                      │            5.0 │ 22            │\n",
       "│ Ask The Gluten Free Chef                                                │            4.7 │ 3             │\n",
       "│            ·                                                            │             ·  │ ·             │\n",
       "│            ·                                                            │             ·  │ ·             │\n",
       "│            ·                                                            │             ·  │ ·             │\n",
       "│ Making It with Chris G.                                                 │            4.9 │ 66            │\n",
       "│ KMUW Movie Club                                                         │            5.0 │ 1             │\n",
       "│ You are SWIM                                                            │            5.0 │ 1             │\n",
       "│ Fantasy Hockey Blog at Razzball.com                                     │            4.1 │ 11            │\n",
       "│ Walking the Labyrinth: Inside Employee Communications with Keith Burton │            5.0 │ 3             │\n",
       "│ Drifting Ruby Screencasts                                               │            5.0 │ 3             │\n",
       "│ Put You On Game Podcast                                                 │            4.7 │ 22            │\n",
       "│ Raiders Talk                                                            │            4.4 │ 11            │\n",
       "│ Pokemon World Tour: United                                              │            4.9 │ 12            │\n",
       "│ WP eCommerce Show                                                       │            5.0 │ 2             │\n",
       "├─────────────────────────────────────────────────────────────────────────┴────────────────┴───────────────┤\n",
       "│ ? rows (>9999 rows, 20 shown)                                                                  3 columns │\n",
       "└──────────────────────────────────────────────────────────────────────────────────────────────────────────┘"
      ]
     },
     "execution_count": 96,
     "metadata": {},
     "output_type": "execute_result"
    }
   ],
   "source": [
    "#Look into data for reviews that have an average rating\n",
    "rated_podcasts = con.sql(\"select title,average_rating,ratings_count from podcasts where average_rating >= 0\")\n",
    "rated_podcasts"
   ]
  },
  {
   "cell_type": "code",
   "execution_count": 97,
   "metadata": {},
   "outputs": [],
   "source": [
    "total_podcast_ratings = 0\n",
    "rated_podcasts_df = rated_podcasts.df()\n",
    "podcast_ratings = []\n",
    "for (colname,colval) in rated_podcasts_df.iteritems():\n",
    "    if colname == \"ratings_count\":\n",
    "        for x in colval:\n",
    "            if  \"K\" not in x:\n",
    "                total_podcast_ratings += int(x)\n",
    "                podcast_ratings.append(int(x))\n",
    "            else:\n",
    "                formatted = float(x[0:x.find('K')])\n",
    "                total_podcast_ratings += (1000 * formatted)   \n",
    "                podcast_ratings.append(int(1000 * formatted))\n",
    "rated_podcasts_df.drop(\"ratings_count\", axis = 1, inplace = True)\n",
    "rated_podcasts_df[\"ratings_count\"] = podcast_ratings"
   ]
  },
  {
   "cell_type": "code",
   "execution_count": 98,
   "metadata": {},
   "outputs": [
    {
     "data": {
      "text/html": [
       "<div>\n",
       "<style scoped>\n",
       "    .dataframe tbody tr th:only-of-type {\n",
       "        vertical-align: middle;\n",
       "    }\n",
       "\n",
       "    .dataframe tbody tr th {\n",
       "        vertical-align: top;\n",
       "    }\n",
       "\n",
       "    .dataframe thead th {\n",
       "        text-align: right;\n",
       "    }\n",
       "</style>\n",
       "<table border=\"1\" class=\"dataframe\">\n",
       "  <thead>\n",
       "    <tr style=\"text-align: right;\">\n",
       "      <th></th>\n",
       "      <th>title</th>\n",
       "      <th>average_rating</th>\n",
       "      <th>ratings_count</th>\n",
       "    </tr>\n",
       "  </thead>\n",
       "  <tbody>\n",
       "    <tr>\n",
       "      <th>0</th>\n",
       "      <td>Rahdo Talks Through</td>\n",
       "      <td>4.6</td>\n",
       "      <td>60</td>\n",
       "    </tr>\n",
       "    <tr>\n",
       "      <th>1</th>\n",
       "      <td>OriginALL</td>\n",
       "      <td>3.7</td>\n",
       "      <td>3</td>\n",
       "    </tr>\n",
       "    <tr>\n",
       "      <th>2</th>\n",
       "      <td>The Big Podcast With Shaq</td>\n",
       "      <td>4.6</td>\n",
       "      <td>1300</td>\n",
       "    </tr>\n",
       "    <tr>\n",
       "      <th>3</th>\n",
       "      <td>Galaktacus</td>\n",
       "      <td>5.0</td>\n",
       "      <td>20</td>\n",
       "    </tr>\n",
       "    <tr>\n",
       "      <th>4</th>\n",
       "      <td>No Extra Words one person's search for story</td>\n",
       "      <td>5.0</td>\n",
       "      <td>11</td>\n",
       "    </tr>\n",
       "  </tbody>\n",
       "</table>\n",
       "</div>"
      ],
      "text/plain": [
       "                                          title  average_rating  ratings_count\n",
       "0                           Rahdo Talks Through             4.6             60\n",
       "1                                     OriginALL             3.7              3\n",
       "2                     The Big Podcast With Shaq             4.6           1300\n",
       "3                                    Galaktacus             5.0             20\n",
       "4  No Extra Words one person's search for story             5.0             11"
      ]
     },
     "execution_count": 98,
     "metadata": {},
     "output_type": "execute_result"
    }
   ],
   "source": [
    "#First five values in rated podcasts data frame\n",
    "rated_podcasts_df.head()\n"
   ]
  },
  {
   "cell_type": "code",
   "execution_count": 99,
   "metadata": {},
   "outputs": [
    {
     "data": {
      "text/html": [
       "<div>\n",
       "<style scoped>\n",
       "    .dataframe tbody tr th:only-of-type {\n",
       "        vertical-align: middle;\n",
       "    }\n",
       "\n",
       "    .dataframe tbody tr th {\n",
       "        vertical-align: top;\n",
       "    }\n",
       "\n",
       "    .dataframe thead th {\n",
       "        text-align: right;\n",
       "    }\n",
       "</style>\n",
       "<table border=\"1\" class=\"dataframe\">\n",
       "  <thead>\n",
       "    <tr style=\"text-align: right;\">\n",
       "      <th></th>\n",
       "      <th>title</th>\n",
       "      <th>average_rating</th>\n",
       "      <th>ratings_count</th>\n",
       "    </tr>\n",
       "  </thead>\n",
       "  <tbody>\n",
       "    <tr>\n",
       "      <th>6022</th>\n",
       "      <td>Pardon My Take</td>\n",
       "      <td>4.9</td>\n",
       "      <td>56000</td>\n",
       "    </tr>\n",
       "    <tr>\n",
       "      <th>12424</th>\n",
       "      <td>Pod Save America</td>\n",
       "      <td>4.7</td>\n",
       "      <td>51000</td>\n",
       "    </tr>\n",
       "    <tr>\n",
       "      <th>57663</th>\n",
       "      <td>Stuff You Should Know</td>\n",
       "      <td>4.6</td>\n",
       "      <td>39000</td>\n",
       "    </tr>\n",
       "    <tr>\n",
       "      <th>12588</th>\n",
       "      <td>Small Town Murder</td>\n",
       "      <td>4.9</td>\n",
       "      <td>31000</td>\n",
       "    </tr>\n",
       "    <tr>\n",
       "      <th>14355</th>\n",
       "      <td>Wait Wait...Don't Tell Me!</td>\n",
       "      <td>4.7</td>\n",
       "      <td>21000</td>\n",
       "    </tr>\n",
       "  </tbody>\n",
       "</table>\n",
       "</div>"
      ],
      "text/plain": [
       "                            title  average_rating  ratings_count\n",
       "6022               Pardon My Take             4.9          56000\n",
       "12424            Pod Save America             4.7          51000\n",
       "57663       Stuff You Should Know             4.6          39000\n",
       "12588           Small Town Murder             4.9          31000\n",
       "14355  Wait Wait...Don't Tell Me!             4.7          21000"
      ]
     },
     "execution_count": 99,
     "metadata": {},
     "output_type": "execute_result"
    }
   ],
   "source": [
    "#Most rated podcasts\n",
    "rated_podcasts_df.sort_values('ratings_count',ascending=False).head(5)"
   ]
  },
  {
   "cell_type": "code",
   "execution_count": 100,
   "metadata": {},
   "outputs": [
    {
     "data": {
      "text/html": [
       "<div>\n",
       "<style scoped>\n",
       "    .dataframe tbody tr th:only-of-type {\n",
       "        vertical-align: middle;\n",
       "    }\n",
       "\n",
       "    .dataframe tbody tr th {\n",
       "        vertical-align: top;\n",
       "    }\n",
       "\n",
       "    .dataframe thead th {\n",
       "        text-align: right;\n",
       "    }\n",
       "</style>\n",
       "<table border=\"1\" class=\"dataframe\">\n",
       "  <thead>\n",
       "    <tr style=\"text-align: right;\">\n",
       "      <th></th>\n",
       "      <th>title</th>\n",
       "      <th>average_rating</th>\n",
       "      <th>ratings_count</th>\n",
       "    </tr>\n",
       "  </thead>\n",
       "  <tbody>\n",
       "    <tr>\n",
       "      <th>41494</th>\n",
       "      <td>Cerealcast</td>\n",
       "      <td>5.0</td>\n",
       "      <td>1</td>\n",
       "    </tr>\n",
       "    <tr>\n",
       "      <th>42157</th>\n",
       "      <td>Global Denmark Podcast</td>\n",
       "      <td>5.0</td>\n",
       "      <td>9</td>\n",
       "    </tr>\n",
       "    <tr>\n",
       "      <th>40733</th>\n",
       "      <td>Faking It: An SFX Podcast</td>\n",
       "      <td>5.0</td>\n",
       "      <td>4</td>\n",
       "    </tr>\n",
       "    <tr>\n",
       "      <th>73774</th>\n",
       "      <td>NSVille</td>\n",
       "      <td>5.0</td>\n",
       "      <td>3</td>\n",
       "    </tr>\n",
       "    <tr>\n",
       "      <th>40735</th>\n",
       "      <td>Under The First Floor</td>\n",
       "      <td>5.0</td>\n",
       "      <td>5</td>\n",
       "    </tr>\n",
       "  </tbody>\n",
       "</table>\n",
       "</div>"
      ],
      "text/plain": [
       "                           title  average_rating  ratings_count\n",
       "41494                 Cerealcast             5.0              1\n",
       "42157     Global Denmark Podcast             5.0              9\n",
       "40733  Faking It: An SFX Podcast             5.0              4\n",
       "73774                    NSVille             5.0              3\n",
       "40735      Under The First Floor             5.0              5"
      ]
     },
     "execution_count": 100,
     "metadata": {},
     "output_type": "execute_result"
    }
   ],
   "source": [
    "#Podcasts with top 5 average rating\n",
    "rated_podcasts_df.sort_values('average_rating',ascending=False).head(5)"
   ]
  },
  {
   "cell_type": "code",
   "execution_count": 101,
   "metadata": {},
   "outputs": [
    {
     "data": {
      "text/html": [
       "<div>\n",
       "<style scoped>\n",
       "    .dataframe tbody tr th:only-of-type {\n",
       "        vertical-align: middle;\n",
       "    }\n",
       "\n",
       "    .dataframe tbody tr th {\n",
       "        vertical-align: top;\n",
       "    }\n",
       "\n",
       "    .dataframe thead th {\n",
       "        text-align: right;\n",
       "    }\n",
       "</style>\n",
       "<table border=\"1\" class=\"dataframe\">\n",
       "  <thead>\n",
       "    <tr style=\"text-align: right;\">\n",
       "      <th></th>\n",
       "      <th>title</th>\n",
       "      <th>average_rating</th>\n",
       "      <th>ratings_count</th>\n",
       "    </tr>\n",
       "  </thead>\n",
       "  <tbody>\n",
       "    <tr>\n",
       "      <th>41479</th>\n",
       "      <td>The Corp</td>\n",
       "      <td>5.0</td>\n",
       "      <td>9300</td>\n",
       "    </tr>\n",
       "    <tr>\n",
       "      <th>51386</th>\n",
       "      <td>The TryPod</td>\n",
       "      <td>5.0</td>\n",
       "      <td>8500</td>\n",
       "    </tr>\n",
       "    <tr>\n",
       "      <th>72481</th>\n",
       "      <td>Grumpy Old Geeks</td>\n",
       "      <td>5.0</td>\n",
       "      <td>6300</td>\n",
       "    </tr>\n",
       "    <tr>\n",
       "      <th>25308</th>\n",
       "      <td>The Anthropocene Reviewed</td>\n",
       "      <td>5.0</td>\n",
       "      <td>4100</td>\n",
       "    </tr>\n",
       "    <tr>\n",
       "      <th>51435</th>\n",
       "      <td>Cal's Week in Review</td>\n",
       "      <td>5.0</td>\n",
       "      <td>4000</td>\n",
       "    </tr>\n",
       "  </tbody>\n",
       "</table>\n",
       "</div>"
      ],
      "text/plain": [
       "                           title  average_rating  ratings_count\n",
       "41479                   The Corp             5.0           9300\n",
       "51386                 The TryPod             5.0           8500\n",
       "72481           Grumpy Old Geeks             5.0           6300\n",
       "25308  The Anthropocene Reviewed             5.0           4100\n",
       "51435       Cal's Week in Review             5.0           4000"
      ]
     },
     "execution_count": 101,
     "metadata": {},
     "output_type": "execute_result"
    }
   ],
   "source": [
    "#Top rated podcasts with most ratings\n",
    "rated_podcasts_df.sort_values(['average_rating', 'ratings_count'],\n",
    "              ascending = [False, False]).head(5)"
   ]
  },
  {
   "cell_type": "code",
   "execution_count": 102,
   "metadata": {},
   "outputs": [
    {
     "data": {
      "text/html": [
       "<div>\n",
       "<style scoped>\n",
       "    .dataframe tbody tr th:only-of-type {\n",
       "        vertical-align: middle;\n",
       "    }\n",
       "\n",
       "    .dataframe tbody tr th {\n",
       "        vertical-align: top;\n",
       "    }\n",
       "\n",
       "    .dataframe thead th {\n",
       "        text-align: right;\n",
       "    }\n",
       "</style>\n",
       "<table border=\"1\" class=\"dataframe\">\n",
       "  <thead>\n",
       "    <tr style=\"text-align: right;\">\n",
       "      <th></th>\n",
       "      <th>podcast_id</th>\n",
       "      <th>itunes_id</th>\n",
       "      <th>category</th>\n",
       "    </tr>\n",
       "  </thead>\n",
       "  <tbody>\n",
       "    <tr>\n",
       "      <th>0</th>\n",
       "      <td>943d1c4349913bde09ef82b69f83cfdf</td>\n",
       "      <td>1446474395</td>\n",
       "      <td>education</td>\n",
       "    </tr>\n",
       "    <tr>\n",
       "      <th>1</th>\n",
       "      <td>f53f27d03cdc5040ab4fd2ea30e3dd4f</td>\n",
       "      <td>840646770</td>\n",
       "      <td>society-culture</td>\n",
       "    </tr>\n",
       "    <tr>\n",
       "      <th>2</th>\n",
       "      <td>49fa5f1097ae9046ce1a0c56e31b533c</td>\n",
       "      <td>1541959455</td>\n",
       "      <td>arts-performing-arts</td>\n",
       "    </tr>\n",
       "    <tr>\n",
       "      <th>3</th>\n",
       "      <td>dbe2dc5aa097523aa294a3b659293af4</td>\n",
       "      <td>1146609744</td>\n",
       "      <td>tv-film</td>\n",
       "    </tr>\n",
       "    <tr>\n",
       "      <th>4</th>\n",
       "      <td>2349ed9d26f16029cfc69902bf319ca5</td>\n",
       "      <td>1475252651</td>\n",
       "      <td>education</td>\n",
       "    </tr>\n",
       "  </tbody>\n",
       "</table>\n",
       "</div>"
      ],
      "text/plain": [
       "                         podcast_id   itunes_id              category\n",
       "0  943d1c4349913bde09ef82b69f83cfdf  1446474395             education\n",
       "1  f53f27d03cdc5040ab4fd2ea30e3dd4f   840646770       society-culture\n",
       "2  49fa5f1097ae9046ce1a0c56e31b533c  1541959455  arts-performing-arts\n",
       "3  dbe2dc5aa097523aa294a3b659293af4  1146609744               tv-film\n",
       "4  2349ed9d26f16029cfc69902bf319ca5  1475252651             education"
      ]
     },
     "execution_count": 102,
     "metadata": {},
     "output_type": "execute_result"
    }
   ],
   "source": [
    "con.sql(\"select * from categories\").df().head(5)"
   ]
  },
  {
   "cell_type": "code",
   "execution_count": 103,
   "metadata": {},
   "outputs": [
    {
     "data": {
      "text/html": [
       "<div>\n",
       "<style scoped>\n",
       "    .dataframe tbody tr th:only-of-type {\n",
       "        vertical-align: middle;\n",
       "    }\n",
       "\n",
       "    .dataframe tbody tr th {\n",
       "        vertical-align: top;\n",
       "    }\n",
       "\n",
       "    .dataframe thead th {\n",
       "        text-align: right;\n",
       "    }\n",
       "</style>\n",
       "<table border=\"1\" class=\"dataframe\">\n",
       "  <thead>\n",
       "    <tr style=\"text-align: right;\">\n",
       "      <th></th>\n",
       "      <th>unique_categories</th>\n",
       "    </tr>\n",
       "  </thead>\n",
       "  <tbody>\n",
       "    <tr>\n",
       "      <th>0</th>\n",
       "      <td>110</td>\n",
       "    </tr>\n",
       "  </tbody>\n",
       "</table>\n",
       "</div>"
      ],
      "text/plain": [
       "   unique_categories\n",
       "0                110"
      ]
     },
     "execution_count": 103,
     "metadata": {},
     "output_type": "execute_result"
    }
   ],
   "source": [
    "#Unique Categories\n",
    "con.sql(\"select count(distinct category) as unique_categories from categories\").df().head(5)"
   ]
  },
  {
   "cell_type": "code",
   "execution_count": 104,
   "metadata": {},
   "outputs": [
    {
     "data": {
      "text/html": [
       "<div>\n",
       "<style scoped>\n",
       "    .dataframe tbody tr th:only-of-type {\n",
       "        vertical-align: middle;\n",
       "    }\n",
       "\n",
       "    .dataframe tbody tr th {\n",
       "        vertical-align: top;\n",
       "    }\n",
       "\n",
       "    .dataframe thead th {\n",
       "        text-align: right;\n",
       "    }\n",
       "</style>\n",
       "<table border=\"1\" class=\"dataframe\">\n",
       "  <thead>\n",
       "    <tr style=\"text-align: right;\">\n",
       "      <th></th>\n",
       "      <th>category</th>\n",
       "      <th>count</th>\n",
       "    </tr>\n",
       "  </thead>\n",
       "  <tbody>\n",
       "    <tr>\n",
       "      <th>0</th>\n",
       "      <td>news-daily-news</td>\n",
       "      <td>13101</td>\n",
       "    </tr>\n",
       "    <tr>\n",
       "      <th>1</th>\n",
       "      <td>spirituality</td>\n",
       "      <td>35792</td>\n",
       "    </tr>\n",
       "    <tr>\n",
       "      <th>2</th>\n",
       "      <td>business</td>\n",
       "      <td>211977</td>\n",
       "    </tr>\n",
       "    <tr>\n",
       "      <th>3</th>\n",
       "      <td>society-culture</td>\n",
       "      <td>301139</td>\n",
       "    </tr>\n",
       "    <tr>\n",
       "      <th>4</th>\n",
       "      <td>health-fitness</td>\n",
       "      <td>132096</td>\n",
       "    </tr>\n",
       "  </tbody>\n",
       "</table>\n",
       "</div>"
      ],
      "text/plain": [
       "          category   count\n",
       "0  news-daily-news   13101\n",
       "1     spirituality   35792\n",
       "2         business  211977\n",
       "3  society-culture  301139\n",
       "4   health-fitness  132096"
      ]
     },
     "execution_count": 104,
     "metadata": {},
     "output_type": "execute_result"
    }
   ],
   "source": [
    "categories = con.sql(\"select category,count(category) as count from categories group by category\").df()\n",
    "categories.head()"
   ]
  },
  {
   "cell_type": "code",
   "execution_count": 105,
   "metadata": {},
   "outputs": [
    {
     "data": {
      "text/html": [
       "<div>\n",
       "<style scoped>\n",
       "    .dataframe tbody tr th:only-of-type {\n",
       "        vertical-align: middle;\n",
       "    }\n",
       "\n",
       "    .dataframe tbody tr th {\n",
       "        vertical-align: top;\n",
       "    }\n",
       "\n",
       "    .dataframe thead th {\n",
       "        text-align: right;\n",
       "    }\n",
       "</style>\n",
       "<table border=\"1\" class=\"dataframe\">\n",
       "  <thead>\n",
       "    <tr style=\"text-align: right;\">\n",
       "      <th></th>\n",
       "      <th>category</th>\n",
       "      <th>count</th>\n",
       "    </tr>\n",
       "  </thead>\n",
       "  <tbody>\n",
       "    <tr>\n",
       "      <th>14</th>\n",
       "      <td>education</td>\n",
       "      <td>311924</td>\n",
       "    </tr>\n",
       "    <tr>\n",
       "      <th>3</th>\n",
       "      <td>society-culture</td>\n",
       "      <td>301139</td>\n",
       "    </tr>\n",
       "    <tr>\n",
       "      <th>15</th>\n",
       "      <td>arts</td>\n",
       "      <td>227713</td>\n",
       "    </tr>\n",
       "    <tr>\n",
       "      <th>2</th>\n",
       "      <td>business</td>\n",
       "      <td>211977</td>\n",
       "    </tr>\n",
       "    <tr>\n",
       "      <th>6</th>\n",
       "      <td>religion-spirituality</td>\n",
       "      <td>206257</td>\n",
       "    </tr>\n",
       "  </tbody>\n",
       "</table>\n",
       "</div>"
      ],
      "text/plain": [
       "                 category   count\n",
       "14              education  311924\n",
       "3         society-culture  301139\n",
       "15                   arts  227713\n",
       "2                business  211977\n",
       "6   religion-spirituality  206257"
      ]
     },
     "execution_count": 105,
     "metadata": {},
     "output_type": "execute_result"
    }
   ],
   "source": [
    "#Top 5 most common categories\n",
    "categories.sort_values('count',ascending=False).head(5)"
   ]
  },
  {
   "cell_type": "code",
   "execution_count": 106,
   "metadata": {},
   "outputs": [
    {
     "data": {
      "text/html": [
       "<div>\n",
       "<style scoped>\n",
       "    .dataframe tbody tr th:only-of-type {\n",
       "        vertical-align: middle;\n",
       "    }\n",
       "\n",
       "    .dataframe tbody tr th {\n",
       "        vertical-align: top;\n",
       "    }\n",
       "\n",
       "    .dataframe thead th {\n",
       "        text-align: right;\n",
       "    }\n",
       "</style>\n",
       "<table border=\"1\" class=\"dataframe\">\n",
       "  <thead>\n",
       "    <tr style=\"text-align: right;\">\n",
       "      <th></th>\n",
       "      <th>category</th>\n",
       "      <th>count</th>\n",
       "    </tr>\n",
       "  </thead>\n",
       "  <tbody>\n",
       "    <tr>\n",
       "      <th>108</th>\n",
       "      <td>sports-volleyball</td>\n",
       "      <td>265</td>\n",
       "    </tr>\n",
       "    <tr>\n",
       "      <th>102</th>\n",
       "      <td>sports-swimming</td>\n",
       "      <td>304</td>\n",
       "    </tr>\n",
       "    <tr>\n",
       "      <th>92</th>\n",
       "      <td>sports-tennis</td>\n",
       "      <td>563</td>\n",
       "    </tr>\n",
       "    <tr>\n",
       "      <th>95</th>\n",
       "      <td>sports-rugby</td>\n",
       "      <td>648</td>\n",
       "    </tr>\n",
       "    <tr>\n",
       "      <th>89</th>\n",
       "      <td>sports-cricket</td>\n",
       "      <td>755</td>\n",
       "    </tr>\n",
       "  </tbody>\n",
       "</table>\n",
       "</div>"
      ],
      "text/plain": [
       "              category  count\n",
       "108  sports-volleyball    265\n",
       "102    sports-swimming    304\n",
       "92       sports-tennis    563\n",
       "95        sports-rugby    648\n",
       "89      sports-cricket    755"
      ]
     },
     "execution_count": 106,
     "metadata": {},
     "output_type": "execute_result"
    }
   ],
   "source": [
    "#Bottom 5 most common categories\n",
    "categories.sort_values('count',ascending=True).head(5)"
   ]
  }
 ],
 "metadata": {
  "kernelspec": {
   "display_name": "Python 3",
   "language": "python",
   "name": "python3"
  },
  "language_info": {
   "codemirror_mode": {
    "name": "ipython",
    "version": 3
   },
   "file_extension": ".py",
   "mimetype": "text/x-python",
   "name": "python",
   "nbconvert_exporter": "python",
   "pygments_lexer": "ipython3",
   "version": "3.10.8"
  },
  "orig_nbformat": 4
 },
 "nbformat": 4,
 "nbformat_minor": 2
}
